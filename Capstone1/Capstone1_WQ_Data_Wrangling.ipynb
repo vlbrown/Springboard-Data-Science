{
 "cells": [
  {
   "cell_type": "markdown",
   "metadata": {},
   "source": [
    "## Capstone 1 \n",
    "# San Francisco Bay Water Quality\n",
    "\n",
    "ref. [Water quality of SF Bay home page](https://sfbay.wr.usgs.gov/access/wqdata/index.html)\n",
    "     \n",
    "     "
   ]
  },
  {
   "cell_type": "markdown",
   "metadata": {},
   "source": [
    "## Part 1 - Data Wrangling\n",
    "\n",
    "### Tasks\n",
    "\n",
    "The first step in completing your capstone project is to collect data. Depending on your dataset, you may apply some of the data wrangling techniques that you learned in this unit.\n",
    "\n",
    "Include answers to these questions in your submission:\n",
    "   * What kind of cleaning steps did you perform?\n",
    "\n",
    "   * How did you deal with missing values, if any?\n",
    "\n",
    "   * Were there outliers, and how did you handle them?\n"
   ]
  },
  {
   "attachments": {},
   "cell_type": "markdown",
   "metadata": {},
   "source": [
    "## Data Acquisition\n",
    "\n",
    "### Water Quality Data\n",
    "\n",
    "#### Access\n",
    "   1. Water quality data, 1969 - 2019, requested via query form. No API is available.\n",
    "   [Expert query](https://sfbay.wr.usgs.gov/access/wqdata/query/expert.html) in three chunks, saved as CSV files\n",
    "      1. Julian Date < 1999001 <br/>\n",
    "      2. 1999001 < Julian Date < 2009001 <br/>\n",
    "      3. Julian Date > 2009001 <br/>\n",
    "\n",
    "      \n",
    "**Note**: Water quality data is also available for download from [ScienceBase](https://www.sciencebase.gov/catalog/item/5841f97ee4b04fc80e518d9f); however, that archive includes fewer parameters and is not as up to date as the database at sfbay.wr.usgs.gov.\n",
    "\n",
    "#### Files\n",
    "   1. `SFBayWaterQuality1969-1998.csv` \n",
    "   2. `SFBayWaterQuality1999-2008.csv`\n",
    "   3. `SFBayWaterQuality2009-2019.csv`\n",
    "\n",
    "   \n",
    "#### Data Format\n",
    "\n",
    "All files are formatted as CSV (comma-separated values) with 27 columns.\n",
    "\n",
    "WaterQuality files have two header rows; the second row shows units of measure. \n",
    "\n",
    "<small>\n",
    "\n",
    "```\n",
    "Date, Time, Station Number, Distance from 36, Depth, Discrete Chlorophyll, Chlorophyll a/a+PHA, Fluorescence, Calculated Chlorophyll, Discrete Oxygen, Oxygen Electrode Output, Oxygen Saturation %, Calculated Oxygen, Discrete SPM, Optical Backscatter, Calculated SPM, Measured Extinction Coefficient, Calculated Extinction Coefficient, Salinity, Temperature, Sigma-t, Nitrite, Nitrate + Nitrite, Ammonium, Phosphate, Silicate\n",
    "```\n",
    "```\n",
    "MM/DD/YYYY, 24 hr., , [km], [meters], [mg/m3], , [volts], [mg/m3], [mg/L], [volts], , [mg/L], [mg/L], [volts], [mg/L], [per meter], [per meter], [psu], [°C], [kg/m3], [µM], [µM], [µM], [µM], [µM]\n",
    "```\n",
    "</small>\n",
    "\n",
    "\n",
    "### Station Location Information\n",
    "\n",
    "#### Access\n",
    "\n",
    "Location data for \"standard\" stations is available from [ScienceBase](https://www.sciencebase.gov/catalog/item/5966abe6e4b0d1f9f05cf551).\n",
    "\n",
    "However, more complete location data is available in tables at [sfbay.wr.usgs.gov](https://sfbay.wr.usgs.gov/access/wqdata/overview/wherewhen/where.html). These tables include the genral location of each station (by geographical landmark) as well as data for \"non-standard\" stations which are sampled less often.\n",
    "\n",
    "These tableswere copied, pasted into a spreadsheet, then exported as CSV. Header fields were edied o remove newlines and several fields were modified to remove artifacts before exporting to CSV format.\n",
    "#### Files\n",
    "\n",
    "   1. `SFBayStationLocations.csv`\n",
    "\n",
    "\n",
    "#### Data Format\n",
    "\n",
    "The Station Locations file is CSV format with one header row and 5 columns.\n",
    "\n",
    "<small> \n",
    "```\n",
    "Station Number, General Location, North Latitude, West Longitude, Depth MLW (meters)\n",
    "```\n",
    "</small>\n",
    "\n",
    "\n"
   ]
  },
  {
   "cell_type": "markdown",
   "metadata": {},
   "source": [
    "## Setup\n",
    "\n",
    "Import libraries"
   ]
  },
  {
   "cell_type": "code",
   "execution_count": 1,
   "metadata": {},
   "outputs": [],
   "source": [
    "# Import useful libraries\n",
    "\n",
    "import numpy as np\n",
    "import pandas as pd\n",
    "import matplotlib.pyplot as plt\n",
    "import datetime\n",
    "import re\n"
   ]
  },
  {
   "cell_type": "markdown",
   "metadata": {},
   "source": [
    "## Read in the Water Quality data"
   ]
  },
  {
   "cell_type": "code",
   "execution_count": 2,
   "metadata": {
    "scrolled": true
   },
   "outputs": [],
   "source": [
    "# Read in the Water Quality data\n",
    "# for now, treat eveything as a string\n",
    "wq_df1 = pd.read_csv('Data/SFBayWaterQuality1969-1998.csv', header=[0,1])\n",
    "wq_df2 = pd.read_csv('Data/SFBayWaterQuality1999-2008.csv', header=[0,1])\n",
    "wq_df3 = pd.read_csv('Data/SFBayWaterQuality2009-2019.csv', header=[0,1])"
   ]
  },
  {
   "cell_type": "markdown",
   "metadata": {},
   "source": [
    "## Combine datasets\n",
    "\n",
    "The three water quallity DataFrames have identical columns and can easily be concatenated into one file."
   ]
  },
  {
   "cell_type": "code",
   "execution_count": 3,
   "metadata": {},
   "outputs": [],
   "source": [
    "# Concatenate water quality DataFrames\n",
    "wq_df = pd.concat([wq_df1, wq_df2, wq_df3]).reset_index(drop=True)"
   ]
  },
  {
   "cell_type": "code",
   "execution_count": 4,
   "metadata": {
    "scrolled": true
   },
   "outputs": [
    {
     "data": {
      "text/html": [
       "<div>\n",
       "<style scoped>\n",
       "    .dataframe tbody tr th:only-of-type {\n",
       "        vertical-align: middle;\n",
       "    }\n",
       "\n",
       "    .dataframe tbody tr th {\n",
       "        vertical-align: top;\n",
       "    }\n",
       "\n",
       "    .dataframe thead tr th {\n",
       "        text-align: left;\n",
       "    }\n",
       "</style>\n",
       "<table border=\"1\" class=\"dataframe\">\n",
       "  <thead>\n",
       "    <tr>\n",
       "      <th></th>\n",
       "      <th>Date</th>\n",
       "      <th>Time</th>\n",
       "      <th>Station Number</th>\n",
       "      <th>Distance from 36</th>\n",
       "      <th>Depth</th>\n",
       "      <th>Discrete Chlorophyll</th>\n",
       "      <th>Chlorophyll a/a+PHA</th>\n",
       "      <th>Fluorescence</th>\n",
       "      <th>Calculated Chlorophyll</th>\n",
       "      <th>Discrete Oxygen</th>\n",
       "      <th>...</th>\n",
       "      <th>Measured Extinction Coefficient</th>\n",
       "      <th>Calculated Extinction Coefficient</th>\n",
       "      <th>Salinity</th>\n",
       "      <th>Temperature</th>\n",
       "      <th>Sigma-t</th>\n",
       "      <th>Nitrite</th>\n",
       "      <th>Nitrate + Nitrite</th>\n",
       "      <th>Ammonium</th>\n",
       "      <th>Phosphate</th>\n",
       "      <th>Silicate</th>\n",
       "    </tr>\n",
       "    <tr>\n",
       "      <th></th>\n",
       "      <th>MM/DD/YYYY</th>\n",
       "      <th>24 hr.</th>\n",
       "      <th>Unnamed: 2_level_1</th>\n",
       "      <th>[km]</th>\n",
       "      <th>[meters]</th>\n",
       "      <th>[mg/m3]</th>\n",
       "      <th>Unnamed: 6_level_1</th>\n",
       "      <th>[volts]</th>\n",
       "      <th>[mg/m3]</th>\n",
       "      <th>[mg/L]</th>\n",
       "      <th>...</th>\n",
       "      <th>[per meter]</th>\n",
       "      <th>[per meter]</th>\n",
       "      <th>[psu]</th>\n",
       "      <th>[°C]</th>\n",
       "      <th>[kg/m3]</th>\n",
       "      <th>[µM]</th>\n",
       "      <th>[µM]</th>\n",
       "      <th>[µM]</th>\n",
       "      <th>[µM]</th>\n",
       "      <th>[µM]</th>\n",
       "    </tr>\n",
       "  </thead>\n",
       "  <tbody>\n",
       "    <tr>\n",
       "      <th>156689</th>\n",
       "      <td>8/27/2009</td>\n",
       "      <td>1107</td>\n",
       "      <td>12.0</td>\n",
       "      <td>84.45</td>\n",
       "      <td>6.0</td>\n",
       "      <td>NaN</td>\n",
       "      <td>NaN</td>\n",
       "      <td>0.26</td>\n",
       "      <td>4.0</td>\n",
       "      <td>NaN</td>\n",
       "      <td>...</td>\n",
       "      <td>NaN</td>\n",
       "      <td>NaN</td>\n",
       "      <td>26.32</td>\n",
       "      <td>18.94</td>\n",
       "      <td>18.42</td>\n",
       "      <td>NaN</td>\n",
       "      <td>NaN</td>\n",
       "      <td>NaN</td>\n",
       "      <td>NaN</td>\n",
       "      <td>NaN</td>\n",
       "    </tr>\n",
       "    <tr>\n",
       "      <th>996</th>\n",
       "      <td>1/27/1970</td>\n",
       "      <td>1057</td>\n",
       "      <td>16.0</td>\n",
       "      <td>63.08</td>\n",
       "      <td>8.0</td>\n",
       "      <td>NaN</td>\n",
       "      <td>NaN</td>\n",
       "      <td>NaN</td>\n",
       "      <td>NaN</td>\n",
       "      <td>NaN</td>\n",
       "      <td>...</td>\n",
       "      <td>NaN</td>\n",
       "      <td>NaN</td>\n",
       "      <td>5.40</td>\n",
       "      <td>11.80</td>\n",
       "      <td>NaN</td>\n",
       "      <td>NaN</td>\n",
       "      <td>NaN</td>\n",
       "      <td>NaN</td>\n",
       "      <td>NaN</td>\n",
       "      <td>NaN</td>\n",
       "    </tr>\n",
       "    <tr>\n",
       "      <th>28525</th>\n",
       "      <td>3/11/1991</td>\n",
       "      <td>1415</td>\n",
       "      <td>9.0</td>\n",
       "      <td>96.79</td>\n",
       "      <td>6.0</td>\n",
       "      <td>NaN</td>\n",
       "      <td>NaN</td>\n",
       "      <td>0.52</td>\n",
       "      <td>3.2</td>\n",
       "      <td>NaN</td>\n",
       "      <td>...</td>\n",
       "      <td>NaN</td>\n",
       "      <td>NaN</td>\n",
       "      <td>17.04</td>\n",
       "      <td>12.86</td>\n",
       "      <td>12.55</td>\n",
       "      <td>NaN</td>\n",
       "      <td>NaN</td>\n",
       "      <td>NaN</td>\n",
       "      <td>NaN</td>\n",
       "      <td>NaN</td>\n",
       "    </tr>\n",
       "    <tr>\n",
       "      <th>105807</th>\n",
       "      <td>7/16/2002</td>\n",
       "      <td>1415</td>\n",
       "      <td>8.0</td>\n",
       "      <td>99.77</td>\n",
       "      <td>2.0</td>\n",
       "      <td>NaN</td>\n",
       "      <td>NaN</td>\n",
       "      <td>0.14</td>\n",
       "      <td>3.4</td>\n",
       "      <td>NaN</td>\n",
       "      <td>...</td>\n",
       "      <td>NaN</td>\n",
       "      <td>NaN</td>\n",
       "      <td>11.35</td>\n",
       "      <td>20.89</td>\n",
       "      <td>6.61</td>\n",
       "      <td>NaN</td>\n",
       "      <td>NaN</td>\n",
       "      <td>NaN</td>\n",
       "      <td>NaN</td>\n",
       "      <td>NaN</td>\n",
       "    </tr>\n",
       "    <tr>\n",
       "      <th>159044</th>\n",
       "      <td>12/3/2009</td>\n",
       "      <td>1045</td>\n",
       "      <td>15.0</td>\n",
       "      <td>69.99</td>\n",
       "      <td>20.0</td>\n",
       "      <td>NaN</td>\n",
       "      <td>NaN</td>\n",
       "      <td>0.27</td>\n",
       "      <td>3.5</td>\n",
       "      <td>NaN</td>\n",
       "      <td>...</td>\n",
       "      <td>NaN</td>\n",
       "      <td>NaN</td>\n",
       "      <td>30.66</td>\n",
       "      <td>11.76</td>\n",
       "      <td>23.26</td>\n",
       "      <td>NaN</td>\n",
       "      <td>NaN</td>\n",
       "      <td>NaN</td>\n",
       "      <td>NaN</td>\n",
       "      <td>NaN</td>\n",
       "    </tr>\n",
       "    <tr>\n",
       "      <th>205746</th>\n",
       "      <td>5/19/2015</td>\n",
       "      <td>738</td>\n",
       "      <td>28.0</td>\n",
       "      <td>23.57</td>\n",
       "      <td>11.0</td>\n",
       "      <td>NaN</td>\n",
       "      <td>NaN</td>\n",
       "      <td>0.66</td>\n",
       "      <td>8.5</td>\n",
       "      <td>NaN</td>\n",
       "      <td>...</td>\n",
       "      <td>NaN</td>\n",
       "      <td>NaN</td>\n",
       "      <td>29.25</td>\n",
       "      <td>16.65</td>\n",
       "      <td>21.19</td>\n",
       "      <td>NaN</td>\n",
       "      <td>NaN</td>\n",
       "      <td>NaN</td>\n",
       "      <td>NaN</td>\n",
       "      <td>NaN</td>\n",
       "    </tr>\n",
       "    <tr>\n",
       "      <th>18475</th>\n",
       "      <td>2/28/1989</td>\n",
       "      <td>1118</td>\n",
       "      <td>13.0</td>\n",
       "      <td>78.54</td>\n",
       "      <td>9.0</td>\n",
       "      <td>NaN</td>\n",
       "      <td>NaN</td>\n",
       "      <td>0.73</td>\n",
       "      <td>2.4</td>\n",
       "      <td>NaN</td>\n",
       "      <td>...</td>\n",
       "      <td>NaN</td>\n",
       "      <td>NaN</td>\n",
       "      <td>27.08</td>\n",
       "      <td>10.63</td>\n",
       "      <td>20.68</td>\n",
       "      <td>NaN</td>\n",
       "      <td>NaN</td>\n",
       "      <td>NaN</td>\n",
       "      <td>NaN</td>\n",
       "      <td>NaN</td>\n",
       "    </tr>\n",
       "    <tr>\n",
       "      <th>58025</th>\n",
       "      <td>2/28/1995</td>\n",
       "      <td>1407</td>\n",
       "      <td>23.0</td>\n",
       "      <td>39.66</td>\n",
       "      <td>11.0</td>\n",
       "      <td>NaN</td>\n",
       "      <td>NaN</td>\n",
       "      <td>0.64</td>\n",
       "      <td>2.5</td>\n",
       "      <td>NaN</td>\n",
       "      <td>...</td>\n",
       "      <td>NaN</td>\n",
       "      <td>NaN</td>\n",
       "      <td>23.48</td>\n",
       "      <td>13.17</td>\n",
       "      <td>17.45</td>\n",
       "      <td>NaN</td>\n",
       "      <td>NaN</td>\n",
       "      <td>NaN</td>\n",
       "      <td>NaN</td>\n",
       "      <td>NaN</td>\n",
       "    </tr>\n",
       "    <tr>\n",
       "      <th>223474</th>\n",
       "      <td>10/27/2017</td>\n",
       "      <td>923</td>\n",
       "      <td>29.0</td>\n",
       "      <td>20.25</td>\n",
       "      <td>1.0</td>\n",
       "      <td>NaN</td>\n",
       "      <td>NaN</td>\n",
       "      <td>NaN</td>\n",
       "      <td>3.6</td>\n",
       "      <td>NaN</td>\n",
       "      <td>...</td>\n",
       "      <td>0.63</td>\n",
       "      <td>NaN</td>\n",
       "      <td>28.85</td>\n",
       "      <td>18.29</td>\n",
       "      <td>20.50</td>\n",
       "      <td>NaN</td>\n",
       "      <td>NaN</td>\n",
       "      <td>NaN</td>\n",
       "      <td>NaN</td>\n",
       "      <td>NaN</td>\n",
       "    </tr>\n",
       "    <tr>\n",
       "      <th>6081</th>\n",
       "      <td>4/3/1979</td>\n",
       "      <td>1318</td>\n",
       "      <td>17.0</td>\n",
       "      <td>58.89</td>\n",
       "      <td>10.0</td>\n",
       "      <td>NaN</td>\n",
       "      <td>NaN</td>\n",
       "      <td>0.03</td>\n",
       "      <td>0.8</td>\n",
       "      <td>NaN</td>\n",
       "      <td>...</td>\n",
       "      <td>NaN</td>\n",
       "      <td>3.8</td>\n",
       "      <td>25.30</td>\n",
       "      <td>13.00</td>\n",
       "      <td>NaN</td>\n",
       "      <td>NaN</td>\n",
       "      <td>NaN</td>\n",
       "      <td>NaN</td>\n",
       "      <td>NaN</td>\n",
       "      <td>NaN</td>\n",
       "    </tr>\n",
       "    <tr>\n",
       "      <th>51483</th>\n",
       "      <td>4/12/1994</td>\n",
       "      <td>1221</td>\n",
       "      <td>35.0</td>\n",
       "      <td>1.66</td>\n",
       "      <td>3.0</td>\n",
       "      <td>NaN</td>\n",
       "      <td>NaN</td>\n",
       "      <td>0.86</td>\n",
       "      <td>3.9</td>\n",
       "      <td>NaN</td>\n",
       "      <td>...</td>\n",
       "      <td>NaN</td>\n",
       "      <td>NaN</td>\n",
       "      <td>24.59</td>\n",
       "      <td>16.64</td>\n",
       "      <td>17.62</td>\n",
       "      <td>NaN</td>\n",
       "      <td>NaN</td>\n",
       "      <td>NaN</td>\n",
       "      <td>NaN</td>\n",
       "      <td>NaN</td>\n",
       "    </tr>\n",
       "    <tr>\n",
       "      <th>171926</th>\n",
       "      <td>4/28/2011</td>\n",
       "      <td>1313</td>\n",
       "      <td>20.0</td>\n",
       "      <td>51.45</td>\n",
       "      <td>21.0</td>\n",
       "      <td>NaN</td>\n",
       "      <td>NaN</td>\n",
       "      <td>0.31</td>\n",
       "      <td>6.1</td>\n",
       "      <td>NaN</td>\n",
       "      <td>...</td>\n",
       "      <td>NaN</td>\n",
       "      <td>NaN</td>\n",
       "      <td>29.59</td>\n",
       "      <td>10.97</td>\n",
       "      <td>22.57</td>\n",
       "      <td>NaN</td>\n",
       "      <td>NaN</td>\n",
       "      <td>NaN</td>\n",
       "      <td>NaN</td>\n",
       "      <td>NaN</td>\n",
       "    </tr>\n",
       "    <tr>\n",
       "      <th>133293</th>\n",
       "      <td>5/9/2006</td>\n",
       "      <td>1259</td>\n",
       "      <td>12.0</td>\n",
       "      <td>84.45</td>\n",
       "      <td>8.0</td>\n",
       "      <td>NaN</td>\n",
       "      <td>NaN</td>\n",
       "      <td>0.21</td>\n",
       "      <td>3.1</td>\n",
       "      <td>NaN</td>\n",
       "      <td>...</td>\n",
       "      <td>NaN</td>\n",
       "      <td>NaN</td>\n",
       "      <td>20.89</td>\n",
       "      <td>13.85</td>\n",
       "      <td>15.34</td>\n",
       "      <td>NaN</td>\n",
       "      <td>NaN</td>\n",
       "      <td>NaN</td>\n",
       "      <td>NaN</td>\n",
       "      <td>NaN</td>\n",
       "    </tr>\n",
       "    <tr>\n",
       "      <th>54929</th>\n",
       "      <td>9/27/1994</td>\n",
       "      <td>1112</td>\n",
       "      <td>23.0</td>\n",
       "      <td>39.66</td>\n",
       "      <td>6.0</td>\n",
       "      <td>NaN</td>\n",
       "      <td>NaN</td>\n",
       "      <td>0.34</td>\n",
       "      <td>1.5</td>\n",
       "      <td>NaN</td>\n",
       "      <td>...</td>\n",
       "      <td>NaN</td>\n",
       "      <td>NaN</td>\n",
       "      <td>31.87</td>\n",
       "      <td>19.20</td>\n",
       "      <td>22.58</td>\n",
       "      <td>NaN</td>\n",
       "      <td>NaN</td>\n",
       "      <td>NaN</td>\n",
       "      <td>NaN</td>\n",
       "      <td>NaN</td>\n",
       "    </tr>\n",
       "    <tr>\n",
       "      <th>86900</th>\n",
       "      <td>4/6/1999</td>\n",
       "      <td>1006</td>\n",
       "      <td>33.0</td>\n",
       "      <td>6.81</td>\n",
       "      <td>3.0</td>\n",
       "      <td>NaN</td>\n",
       "      <td>NaN</td>\n",
       "      <td>1.69</td>\n",
       "      <td>19.0</td>\n",
       "      <td>NaN</td>\n",
       "      <td>...</td>\n",
       "      <td>NaN</td>\n",
       "      <td>NaN</td>\n",
       "      <td>15.55</td>\n",
       "      <td>11.34</td>\n",
       "      <td>11.63</td>\n",
       "      <td>NaN</td>\n",
       "      <td>NaN</td>\n",
       "      <td>NaN</td>\n",
       "      <td>NaN</td>\n",
       "      <td>NaN</td>\n",
       "    </tr>\n",
       "    <tr>\n",
       "      <th>127315</th>\n",
       "      <td>8/29/2005</td>\n",
       "      <td>1219</td>\n",
       "      <td>32.0</td>\n",
       "      <td>8.15</td>\n",
       "      <td>9.0</td>\n",
       "      <td>NaN</td>\n",
       "      <td>NaN</td>\n",
       "      <td>0.99</td>\n",
       "      <td>15.4</td>\n",
       "      <td>NaN</td>\n",
       "      <td>...</td>\n",
       "      <td>NaN</td>\n",
       "      <td>NaN</td>\n",
       "      <td>27.07</td>\n",
       "      <td>21.38</td>\n",
       "      <td>18.37</td>\n",
       "      <td>NaN</td>\n",
       "      <td>NaN</td>\n",
       "      <td>NaN</td>\n",
       "      <td>NaN</td>\n",
       "      <td>NaN</td>\n",
       "    </tr>\n",
       "    <tr>\n",
       "      <th>43798</th>\n",
       "      <td>4/30/1993</td>\n",
       "      <td>1045</td>\n",
       "      <td>36.0</td>\n",
       "      <td>0.00</td>\n",
       "      <td>1.0</td>\n",
       "      <td>1.7</td>\n",
       "      <td>0.35</td>\n",
       "      <td>0.46</td>\n",
       "      <td>2.8</td>\n",
       "      <td>7.1</td>\n",
       "      <td>...</td>\n",
       "      <td>2.60</td>\n",
       "      <td>NaN</td>\n",
       "      <td>17.18</td>\n",
       "      <td>18.38</td>\n",
       "      <td>11.59</td>\n",
       "      <td>NaN</td>\n",
       "      <td>NaN</td>\n",
       "      <td>NaN</td>\n",
       "      <td>NaN</td>\n",
       "      <td>NaN</td>\n",
       "    </tr>\n",
       "    <tr>\n",
       "      <th>210119</th>\n",
       "      <td>1/21/2016</td>\n",
       "      <td>942</td>\n",
       "      <td>20.0</td>\n",
       "      <td>51.45</td>\n",
       "      <td>3.0</td>\n",
       "      <td>NaN</td>\n",
       "      <td>NaN</td>\n",
       "      <td>NaN</td>\n",
       "      <td>1.4</td>\n",
       "      <td>NaN</td>\n",
       "      <td>...</td>\n",
       "      <td>NaN</td>\n",
       "      <td>NaN</td>\n",
       "      <td>30.81</td>\n",
       "      <td>12.69</td>\n",
       "      <td>23.21</td>\n",
       "      <td>NaN</td>\n",
       "      <td>NaN</td>\n",
       "      <td>NaN</td>\n",
       "      <td>NaN</td>\n",
       "      <td>NaN</td>\n",
       "    </tr>\n",
       "    <tr>\n",
       "      <th>67093</th>\n",
       "      <td>4/3/1996</td>\n",
       "      <td>1442</td>\n",
       "      <td>7.0</td>\n",
       "      <td>104.98</td>\n",
       "      <td>10.0</td>\n",
       "      <td>NaN</td>\n",
       "      <td>NaN</td>\n",
       "      <td>0.49</td>\n",
       "      <td>2.5</td>\n",
       "      <td>NaN</td>\n",
       "      <td>...</td>\n",
       "      <td>NaN</td>\n",
       "      <td>NaN</td>\n",
       "      <td>3.31</td>\n",
       "      <td>14.47</td>\n",
       "      <td>1.74</td>\n",
       "      <td>NaN</td>\n",
       "      <td>NaN</td>\n",
       "      <td>NaN</td>\n",
       "      <td>NaN</td>\n",
       "      <td>NaN</td>\n",
       "    </tr>\n",
       "    <tr>\n",
       "      <th>72570</th>\n",
       "      <td>2/26/1997</td>\n",
       "      <td>734</td>\n",
       "      <td>30.0</td>\n",
       "      <td>14.75</td>\n",
       "      <td>13.0</td>\n",
       "      <td>NaN</td>\n",
       "      <td>NaN</td>\n",
       "      <td>5.84</td>\n",
       "      <td>73.9</td>\n",
       "      <td>NaN</td>\n",
       "      <td>...</td>\n",
       "      <td>NaN</td>\n",
       "      <td>NaN</td>\n",
       "      <td>13.22</td>\n",
       "      <td>12.53</td>\n",
       "      <td>9.66</td>\n",
       "      <td>NaN</td>\n",
       "      <td>NaN</td>\n",
       "      <td>NaN</td>\n",
       "      <td>NaN</td>\n",
       "      <td>NaN</td>\n",
       "    </tr>\n",
       "  </tbody>\n",
       "</table>\n",
       "<p>20 rows × 26 columns</p>\n",
       "</div>"
      ],
      "text/plain": [
       "              Date   Time     Station Number Distance from 36    Depth  \\\n",
       "        MM/DD/YYYY 24 hr. Unnamed: 2_level_1             [km] [meters]   \n",
       "156689   8/27/2009   1107               12.0            84.45      6.0   \n",
       "996      1/27/1970   1057               16.0            63.08      8.0   \n",
       "28525    3/11/1991   1415                9.0            96.79      6.0   \n",
       "105807   7/16/2002   1415                8.0            99.77      2.0   \n",
       "159044   12/3/2009   1045               15.0            69.99     20.0   \n",
       "205746   5/19/2015    738               28.0            23.57     11.0   \n",
       "18475    2/28/1989   1118               13.0            78.54      9.0   \n",
       "58025    2/28/1995   1407               23.0            39.66     11.0   \n",
       "223474  10/27/2017    923               29.0            20.25      1.0   \n",
       "6081      4/3/1979   1318               17.0            58.89     10.0   \n",
       "51483    4/12/1994   1221               35.0             1.66      3.0   \n",
       "171926   4/28/2011   1313               20.0            51.45     21.0   \n",
       "133293    5/9/2006   1259               12.0            84.45      8.0   \n",
       "54929    9/27/1994   1112               23.0            39.66      6.0   \n",
       "86900     4/6/1999   1006               33.0             6.81      3.0   \n",
       "127315   8/29/2005   1219               32.0             8.15      9.0   \n",
       "43798    4/30/1993   1045               36.0             0.00      1.0   \n",
       "210119   1/21/2016    942               20.0            51.45      3.0   \n",
       "67093     4/3/1996   1442                7.0           104.98     10.0   \n",
       "72570    2/26/1997    734               30.0            14.75     13.0   \n",
       "\n",
       "       Discrete Chlorophyll Chlorophyll a/a+PHA Fluorescence  \\\n",
       "                    [mg/m3]  Unnamed: 6_level_1      [volts]   \n",
       "156689                  NaN                 NaN         0.26   \n",
       "996                     NaN                 NaN          NaN   \n",
       "28525                   NaN                 NaN         0.52   \n",
       "105807                  NaN                 NaN         0.14   \n",
       "159044                  NaN                 NaN         0.27   \n",
       "205746                  NaN                 NaN         0.66   \n",
       "18475                   NaN                 NaN         0.73   \n",
       "58025                   NaN                 NaN         0.64   \n",
       "223474                  NaN                 NaN          NaN   \n",
       "6081                    NaN                 NaN         0.03   \n",
       "51483                   NaN                 NaN         0.86   \n",
       "171926                  NaN                 NaN         0.31   \n",
       "133293                  NaN                 NaN         0.21   \n",
       "54929                   NaN                 NaN         0.34   \n",
       "86900                   NaN                 NaN         1.69   \n",
       "127315                  NaN                 NaN         0.99   \n",
       "43798                   1.7                0.35         0.46   \n",
       "210119                  NaN                 NaN          NaN   \n",
       "67093                   NaN                 NaN         0.49   \n",
       "72570                   NaN                 NaN         5.84   \n",
       "\n",
       "       Calculated Chlorophyll Discrete Oxygen  ...  \\\n",
       "                      [mg/m3]          [mg/L]  ...   \n",
       "156689                    4.0             NaN  ...   \n",
       "996                       NaN             NaN  ...   \n",
       "28525                     3.2             NaN  ...   \n",
       "105807                    3.4             NaN  ...   \n",
       "159044                    3.5             NaN  ...   \n",
       "205746                    8.5             NaN  ...   \n",
       "18475                     2.4             NaN  ...   \n",
       "58025                     2.5             NaN  ...   \n",
       "223474                    3.6             NaN  ...   \n",
       "6081                      0.8             NaN  ...   \n",
       "51483                     3.9             NaN  ...   \n",
       "171926                    6.1             NaN  ...   \n",
       "133293                    3.1             NaN  ...   \n",
       "54929                     1.5             NaN  ...   \n",
       "86900                    19.0             NaN  ...   \n",
       "127315                   15.4             NaN  ...   \n",
       "43798                     2.8             7.1  ...   \n",
       "210119                    1.4             NaN  ...   \n",
       "67093                     2.5             NaN  ...   \n",
       "72570                    73.9             NaN  ...   \n",
       "\n",
       "       Measured Extinction Coefficient Calculated Extinction Coefficient  \\\n",
       "                           [per meter]                       [per meter]   \n",
       "156689                             NaN                               NaN   \n",
       "996                                NaN                               NaN   \n",
       "28525                              NaN                               NaN   \n",
       "105807                             NaN                               NaN   \n",
       "159044                             NaN                               NaN   \n",
       "205746                             NaN                               NaN   \n",
       "18475                              NaN                               NaN   \n",
       "58025                              NaN                               NaN   \n",
       "223474                            0.63                               NaN   \n",
       "6081                               NaN                               3.8   \n",
       "51483                              NaN                               NaN   \n",
       "171926                             NaN                               NaN   \n",
       "133293                             NaN                               NaN   \n",
       "54929                              NaN                               NaN   \n",
       "86900                              NaN                               NaN   \n",
       "127315                             NaN                               NaN   \n",
       "43798                             2.60                               NaN   \n",
       "210119                             NaN                               NaN   \n",
       "67093                              NaN                               NaN   \n",
       "72570                              NaN                               NaN   \n",
       "\n",
       "       Salinity Temperature Sigma-t Nitrite Nitrate + Nitrite Ammonium  \\\n",
       "          [psu]        [°C] [kg/m3]    [µM]              [µM]     [µM]   \n",
       "156689    26.32       18.94   18.42     NaN               NaN      NaN   \n",
       "996        5.40       11.80     NaN     NaN               NaN      NaN   \n",
       "28525     17.04       12.86   12.55     NaN               NaN      NaN   \n",
       "105807    11.35       20.89    6.61     NaN               NaN      NaN   \n",
       "159044    30.66       11.76   23.26     NaN               NaN      NaN   \n",
       "205746    29.25       16.65   21.19     NaN               NaN      NaN   \n",
       "18475     27.08       10.63   20.68     NaN               NaN      NaN   \n",
       "58025     23.48       13.17   17.45     NaN               NaN      NaN   \n",
       "223474    28.85       18.29   20.50     NaN               NaN      NaN   \n",
       "6081      25.30       13.00     NaN     NaN               NaN      NaN   \n",
       "51483     24.59       16.64   17.62     NaN               NaN      NaN   \n",
       "171926    29.59       10.97   22.57     NaN               NaN      NaN   \n",
       "133293    20.89       13.85   15.34     NaN               NaN      NaN   \n",
       "54929     31.87       19.20   22.58     NaN               NaN      NaN   \n",
       "86900     15.55       11.34   11.63     NaN               NaN      NaN   \n",
       "127315    27.07       21.38   18.37     NaN               NaN      NaN   \n",
       "43798     17.18       18.38   11.59     NaN               NaN      NaN   \n",
       "210119    30.81       12.69   23.21     NaN               NaN      NaN   \n",
       "67093      3.31       14.47    1.74     NaN               NaN      NaN   \n",
       "72570     13.22       12.53    9.66     NaN               NaN      NaN   \n",
       "\n",
       "       Phosphate Silicate  \n",
       "            [µM]     [µM]  \n",
       "156689       NaN      NaN  \n",
       "996          NaN      NaN  \n",
       "28525        NaN      NaN  \n",
       "105807       NaN      NaN  \n",
       "159044       NaN      NaN  \n",
       "205746       NaN      NaN  \n",
       "18475        NaN      NaN  \n",
       "58025        NaN      NaN  \n",
       "223474       NaN      NaN  \n",
       "6081         NaN      NaN  \n",
       "51483        NaN      NaN  \n",
       "171926       NaN      NaN  \n",
       "133293       NaN      NaN  \n",
       "54929        NaN      NaN  \n",
       "86900        NaN      NaN  \n",
       "127315       NaN      NaN  \n",
       "43798        NaN      NaN  \n",
       "210119       NaN      NaN  \n",
       "67093        NaN      NaN  \n",
       "72570        NaN      NaN  \n",
       "\n",
       "[20 rows x 26 columns]"
      ]
     },
     "execution_count": 4,
     "metadata": {},
     "output_type": "execute_result"
    }
   ],
   "source": [
    "# Examine the new DataFrame\n",
    "wq_df.sample(20)"
   ]
  },
  {
   "cell_type": "markdown",
   "metadata": {},
   "source": [
    "We can now ignore the original Water Quality files / DFs and use the concatenated DF containing all data from 1969 to 2019."
   ]
  },
  {
   "cell_type": "markdown",
   "metadata": {},
   "source": [
    "### Handle multi-level index for water quality columns\n",
    "\n",
    "The original Water Quality CSV files had two-row column headers. The second level is units.\n",
    "\n",
    "```\n",
    "wq_df.columns\n",
    "```\n",
    "<small>\n",
    "\n",
    "```\n",
    "MultiIndex([(                             'Date',          'MM/DD/YYYY'),\n",
    "            (                             'Time',              '24 hr.'),\n",
    "            (                   'Station Number',  'Unnamed: 2_level_1'),\n",
    "            (                 'Distance from 36',                '[km]'),\n",
    "            (                            'Depth',            '[meters]'),\n",
    "            (             'Discrete Chlorophyll',             '[mg/m3]'),\n",
    "            (              'Chlorophyll a/a+PHA',  'Unnamed: 6_level_1'),\n",
    "            (                     'Fluorescence',             '[volts]'),\n",
    "            (           'Calculated Chlorophyll',             '[mg/m3]'),\n",
    "            (                  'Discrete Oxygen',              '[mg/L]'),\n",
    "            (          'Oxygen Electrode Output',             '[volts]'),\n",
    "            (              'Oxygen Saturation %', 'Unnamed: 11_level_1'),\n",
    "            (                'Calculated Oxygen',              '[mg/L]'),\n",
    "            (                     'Discrete SPM',              '[mg/L]'),\n",
    "            (              'Optical Backscatter',             '[volts]'),\n",
    "            (                   'Calculated SPM',              '[mg/L]'),\n",
    "            (  'Measured Extinction Coefficient',         '[per meter]'),\n",
    "            ('Calculated Extinction Coefficient',         '[per meter]'),\n",
    "            (                         'Salinity',               '[psu]'),\n",
    "            (                      'Temperature',                '[°C]'),\n",
    "            (                          'Sigma-t',             '[kg/m3]'),\n",
    "            (                          'Nitrite',                '[µM]'),\n",
    "            (                'Nitrate + Nitrite',                '[µM]'),\n",
    "            (                         'Ammonium',                '[µM]'),\n",
    "            (                        'Phosphate',                '[µM]'),\n",
    "            (                         'Silicate',                '[µM]')],\n",
    "           )\n",
    "```\n",
    "</small>\n",
    "\n",
    "It will be easier to work with the data if I save the units into a dictionary and change the DataFrame to only have one level of headers."
   ]
  },
  {
   "cell_type": "code",
   "execution_count": 5,
   "metadata": {},
   "outputs": [
    {
     "data": {
      "text/plain": [
       "{'Date': 'MM/DD/YYYY',\n",
       " 'Time': '24 hr.',\n",
       " 'Station Number': '',\n",
       " 'Distance from 36': '[km]',\n",
       " 'Depth': '[meters]',\n",
       " 'Discrete Chlorophyll': '[mg/m3]',\n",
       " 'Chlorophyll a/a+PHA': '',\n",
       " 'Fluorescence': '[volts]',\n",
       " 'Calculated Chlorophyll': '[mg/m3]',\n",
       " 'Discrete Oxygen': '[mg/L]',\n",
       " 'Oxygen Electrode Output': '[volts]',\n",
       " 'Oxygen Saturation %': '',\n",
       " 'Calculated Oxygen': '[mg/L]',\n",
       " 'Discrete SPM': '[mg/L]',\n",
       " 'Optical Backscatter': '[volts]',\n",
       " 'Calculated SPM': '[mg/L]',\n",
       " 'Measured Extinction Coefficient': '[per meter]',\n",
       " 'Calculated Extinction Coefficient': '[per meter]',\n",
       " 'Salinity': '[psu]',\n",
       " 'Temperature': '[°C]',\n",
       " 'Sigma-t': '[kg/m3]',\n",
       " 'Nitrite': '[µM]',\n",
       " 'Nitrate + Nitrite': '[µM]',\n",
       " 'Ammonium': '[µM]',\n",
       " 'Phosphate': '[µM]',\n",
       " 'Silicate': '[µM]'}"
      ]
     },
     "execution_count": 5,
     "metadata": {},
     "output_type": "execute_result"
    }
   ],
   "source": [
    "# create a dictionary of Water Quality parameters and units\n",
    "wq_units = {}\n",
    "for param, unit in wq_df.columns:\n",
    "    if 'Unnamed:' in unit:\n",
    "        # handle fields with no units\n",
    "        unit = ''\n",
    "    wq_units[param] = unit\n",
    "    \n",
    "wq_units"
   ]
  },
  {
   "cell_type": "code",
   "execution_count": 6,
   "metadata": {
    "scrolled": true
   },
   "outputs": [
    {
     "data": {
      "text/plain": [
       "Index(['Date', 'Time', 'Station Number', 'Distance from 36', 'Depth',\n",
       "       'Discrete Chlorophyll', 'Chlorophyll a/a+PHA', 'Fluorescence',\n",
       "       'Calculated Chlorophyll', 'Discrete Oxygen', 'Oxygen Electrode Output',\n",
       "       'Oxygen Saturation %', 'Calculated Oxygen', 'Discrete SPM',\n",
       "       'Optical Backscatter', 'Calculated SPM',\n",
       "       'Measured Extinction Coefficient', 'Calculated Extinction Coefficient',\n",
       "       'Salinity', 'Temperature', 'Sigma-t', 'Nitrite', 'Nitrate + Nitrite',\n",
       "       'Ammonium', 'Phosphate', 'Silicate'],\n",
       "      dtype='object')"
      ]
     },
     "execution_count": 6,
     "metadata": {},
     "output_type": "execute_result"
    }
   ],
   "source": [
    "# Reset the Water Quality column headers\n",
    "wq_df.columns = wq_units.keys()\n",
    "\n",
    "wq_df.columns"
   ]
  },
  {
   "cell_type": "markdown",
   "metadata": {},
   "source": [
    "### Convert Date/Time columns to DateTime\n",
    "\n",
    "The initial dataset has a Date column and a Time column, both in non-standard format. It will be useful to have a single DateTime column.\n",
    "\n",
    "Issues:\n",
    "   * The initial Date column is type `string`, M/D/YYYY, with no leading zeroes on day or month, possibly with a leading space. Conveniently, `pd.to_datetime` is able to convert this to DateTime format without trouble.\n",
    "   * The initial Time column is type `int`, with no leading zeroes on the hour. To concatenate this to the Date column, I need it to be type `string`, 0-padded.\n",
    "\n",
    "When I have two strings, I can concatenate them into a new DateTime column and covert that to DateTime format."
   ]
  },
  {
   "cell_type": "code",
   "execution_count": 7,
   "metadata": {
    "scrolled": true
   },
   "outputs": [],
   "source": [
    "# Convert the Date field to datetime format\n",
    "# 6/4/2010 => 2019-06-04\n",
    "wq_df['Date'] = pd.to_datetime(wq_df['Date'])\n",
    "\n",
    "# Convert back to string\n",
    "wq_df['Date'] = wq_df['Date'].astype('str')\n",
    "\n",
    "# convert Time field from int to str\n",
    "wq_df['Time'] = wq_df['Time'].astype('str')\n",
    "\n",
    "# 0-pad Time values\n",
    "wq_df['Time'] = wq_df['Time'].transform(lambda x: x.rjust(4,'0')) \n",
    "\n",
    "# create a new DateTime field by concatenating the strings\n",
    "wq_df['DateTime'] = wq_df['Date'].str.cat(wq_df['Time'],sep=' ')\n",
    "\n",
    "# convert the new field to DateTime format\n",
    "wq_df['DateTime'] = pd.to_datetime(wq_df['DateTime'])\n",
    "\n"
   ]
  },
  {
   "cell_type": "code",
   "execution_count": 8,
   "metadata": {},
   "outputs": [],
   "source": [
    "# Update the Water Quality units dictionary with the enhanced date data\n",
    "wq_units['Date'] = 'YYYY-MM-DD'\n",
    "wq_units['DateTime'] = 'YYYY-MM-DD HH:MM:SS'\n"
   ]
  },
  {
   "cell_type": "code",
   "execution_count": 9,
   "metadata": {
    "scrolled": true
   },
   "outputs": [
    {
     "data": {
      "text/plain": [
       "Index(['DateTime', 'Date', 'Time', 'Station Number', 'Distance from 36',\n",
       "       'Depth', 'Discrete Chlorophyll', 'Chlorophyll a/a+PHA', 'Fluorescence',\n",
       "       'Calculated Chlorophyll', 'Discrete Oxygen', 'Oxygen Electrode Output',\n",
       "       'Oxygen Saturation %', 'Calculated Oxygen', 'Discrete SPM',\n",
       "       'Optical Backscatter', 'Calculated SPM',\n",
       "       'Measured Extinction Coefficient', 'Calculated Extinction Coefficient',\n",
       "       'Salinity', 'Temperature', 'Sigma-t', 'Nitrite', 'Nitrate + Nitrite',\n",
       "       'Ammonium', 'Phosphate', 'Silicate'],\n",
       "      dtype='object')"
      ]
     },
     "execution_count": 9,
     "metadata": {},
     "output_type": "execute_result"
    }
   ],
   "source": [
    "# Move the new DateTime column to the front of the DataFrame\n",
    "cols = list(wq_df.columns)    # get the list of columns\n",
    "cols = [cols[-1]] + cols[:-1] # rearrange the list\n",
    "\n",
    "wq_df = wq_df[cols]   # rearrange the columns\n",
    "\n",
    "wq_df.columns"
   ]
  },
  {
   "cell_type": "markdown",
   "metadata": {},
   "source": [
    "### Remove Columns that are not useful\n",
    "\n",
    "**Optical Backscatter** \n",
    "\n",
    "According to the data dictionary, due to sensor changes and gain differences, this value is only comparable within cruises and may not be comparable between cruises.\n",
    "\n",
    "Thus, I will remove this column."
   ]
  },
  {
   "cell_type": "code",
   "execution_count": 10,
   "metadata": {},
   "outputs": [],
   "source": [
    "wq_df.drop(columns=['Optical Backscatter'], inplace=True)"
   ]
  },
  {
   "cell_type": "code",
   "execution_count": 11,
   "metadata": {
    "scrolled": true
   },
   "outputs": [],
   "source": [
    "del wq_units['Optical Backscatter']"
   ]
  },
  {
   "cell_type": "markdown",
   "metadata": {},
   "source": [
    "Convert Station numbers to strings and remove unnecessary trailing `.0`\n"
   ]
  },
  {
   "cell_type": "code",
   "execution_count": 19,
   "metadata": {},
   "outputs": [
    {
     "data": {
      "text/plain": [
       "0           4.0\n",
       "1           4.0\n",
       "2           4.0\n",
       "3           4.0\n",
       "4           5.0\n",
       "          ...  \n",
       "237056    657.0\n",
       "237057    657.0\n",
       "237058    657.0\n",
       "237059    657.0\n",
       "237060    657.0\n",
       "Name: Station Number2, Length: 237061, dtype: object"
      ]
     },
     "execution_count": 19,
     "metadata": {},
     "output_type": "execute_result"
    }
   ],
   "source": [
    "wq_df['Station Number2'].astype(str)"
   ]
  },
  {
   "cell_type": "code",
   "execution_count": 18,
   "metadata": {
    "scrolled": true
   },
   "outputs": [],
   "source": [
    "wq_df['Station Number2'] = [x. else x for x in wq_df['Station Number']]"
   ]
  },
  {
   "cell_type": "code",
   "execution_count": null,
   "metadata": {},
   "outputs": [],
   "source": [
    "# Treat Station numbers as strings unless we're sorting\n",
    "wq_df['Station Number'] = wq_df['Station Number'].astype('str')\n"
   ]
  },
  {
   "cell_type": "markdown",
   "metadata": {},
   "source": [
    "<hr style=\"border: 5px solid green;\">"
   ]
  },
  {
   "cell_type": "markdown",
   "metadata": {},
   "source": [
    "## Read in the Stations Tables"
   ]
  },
  {
   "cell_type": "code",
   "execution_count": null,
   "metadata": {
    "scrolled": true
   },
   "outputs": [],
   "source": [
    "# Read in Station locations\n",
    "st_df = pd.read_csv('Data/SFBayStationLocationsTable.csv', \n",
    "                    dtype={'Station Number' : str},\n",
    "                    header=0)\n"
   ]
  },
  {
   "cell_type": "code",
   "execution_count": null,
   "metadata": {},
   "outputs": [],
   "source": [
    "st_df.columns"
   ]
  },
  {
   "cell_type": "code",
   "execution_count": null,
   "metadata": {
    "scrolled": false
   },
   "outputs": [],
   "source": [
    "# Create a list of stations\n",
    "station_list = st_df['Station Number'].tolist()\n",
    "print(*station_list) "
   ]
  },
  {
   "cell_type": "code",
   "execution_count": null,
   "metadata": {
    "scrolled": false
   },
   "outputs": [],
   "source": [
    "st_df.head()"
   ]
  },
  {
   "cell_type": "markdown",
   "metadata": {},
   "source": [
    "Many records in the table do not include geographic degrees (they inherit from the station on the row above).\n",
    "\n",
    "I want to fill in this data."
   ]
  },
  {
   "cell_type": "code",
   "execution_count": null,
   "metadata": {},
   "outputs": [],
   "source": [
    "# First, extract the degrees from the curent Lat and Long columns\n",
    "st_df['North Lat Degrees'] = st_df['North Latitude'].str.extract('^(3[78]) ')\n",
    "st_df['West Long Degrees'] = st_df['West Longitude'].str.extract('^(-12[12]) ')"
   ]
  },
  {
   "cell_type": "code",
   "execution_count": null,
   "metadata": {},
   "outputs": [],
   "source": [
    "# Then fill forward for rows that did not specify degrees\n",
    "st_df['North Lat Degrees'].fillna(method='ffill', inplace=True)\n",
    "st_df['West Long Degrees'].fillna(method='ffill', inplace=True)"
   ]
  },
  {
   "cell_type": "code",
   "execution_count": null,
   "metadata": {},
   "outputs": [],
   "source": [
    "# Next, remove the degrees from the columns that contain minutes\n",
    "st_df['North Lat Minutes'] = st_df['North Latitude'].str.extract('(\\d{1,2}\\.\\d)\\'$')\n",
    "st_df['West Long Minutes'] = st_df['West Longitude'].str.extract('(\\d{1,2}\\.\\d)\\'$')"
   ]
  },
  {
   "cell_type": "code",
   "execution_count": null,
   "metadata": {
    "scrolled": true
   },
   "outputs": [],
   "source": [
    "st_df"
   ]
  },
  {
   "cell_type": "markdown",
   "metadata": {},
   "source": [
    "Now I can drop the original Latitude and Longitude columns"
   ]
  },
  {
   "cell_type": "code",
   "execution_count": null,
   "metadata": {},
   "outputs": [],
   "source": [
    "st_df.drop(columns=['North Latitude', 'West Longitude', \n",
    "                    ], inplace=True)"
   ]
  },
  {
   "cell_type": "code",
   "execution_count": null,
   "metadata": {},
   "outputs": [],
   "source": [
    "# Save the station locations as a file\n",
    "st_df.to_csv('Data/SFBayStationLocations.csv', index=False)"
   ]
  },
  {
   "cell_type": "code",
   "execution_count": null,
   "metadata": {},
   "outputs": [],
   "source": [
    "station_dict= {}\n",
    "for row in st_df.itertuples():\n",
    "    station_dict[row['Station Number']] = ()\n",
    "    "
   ]
  },
  {
   "cell_type": "markdown",
   "metadata": {},
   "source": [
    "<hr style=\"border: 5px solid green;\">"
   ]
  },
  {
   "cell_type": "markdown",
   "metadata": {},
   "source": [
    "## Examine Water Quality Data\n",
    "\n"
   ]
  },
  {
   "cell_type": "code",
   "execution_count": null,
   "metadata": {},
   "outputs": [],
   "source": [
    "wq_df.sample(10)"
   ]
  },
  {
   "cell_type": "markdown",
   "metadata": {},
   "source": [
    "### Issue - missing data\n",
    "\n",
    "Apparently, some of the water quality parameters are not checked for every sample. "
   ]
  },
  {
   "cell_type": "code",
   "execution_count": null,
   "metadata": {
    "scrolled": true
   },
   "outputs": [],
   "source": [
    "wq_df.info()"
   ]
  },
  {
   "cell_type": "markdown",
   "metadata": {},
   "source": [
    "There are no columns that are entirely missing data and no obvious overlap of columns.\n",
    "\n",
    "Let's investigate further."
   ]
  },
  {
   "cell_type": "code",
   "execution_count": null,
   "metadata": {
    "scrolled": true
   },
   "outputs": [],
   "source": [
    "# Look at the portion of the Water Quality DataFrame \n",
    "# where a \"random\" nurient value is not null.\n",
    "tmp_df = wq_df.loc[wq_df['Phosphate'].notnull()]\n",
    "tmp_df.sample(20)"
   ]
  },
  {
   "cell_type": "markdown",
   "metadata": {},
   "source": [
    "It appears that nutrient (e.g. nitrate, phosphate, ammonium, ...) samples are typically only taken near the surface (e.g. 1 - 2 m depth).\n",
    "\n",
    "(This was confirmed by the USGS contact for the dataset: We can assume nutrient values from surface to bottom are generally the same. \"The Bay is well mixed.\")"
   ]
  },
  {
   "cell_type": "markdown",
   "metadata": {},
   "source": [
    "Check if nutrients are sampled at every station. "
   ]
  },
  {
   "cell_type": "code",
   "execution_count": null,
   "metadata": {},
   "outputs": [],
   "source": [
    "# Extract nutrient data and sort by station\n",
    "\n",
    "nutrient_df2 = wq_df.loc[:,['Station Number', 'Nitrite',  'Nitrate + Nitrite', \n",
    "                           'Ammonium', 'Phosphate', 'Silicate']\n",
    "                        ]\n",
    "\n",
    "nutrient_df2['Station Number'] = pd.to_numeric(nutrient_df2['Station Number'])\n",
    "\n",
    "# convert stations to numeric for sorting\n",
    "nutrient_df2 = nutrient_df2.sort_values('Station Number').reindex()\n"
   ]
  },
  {
   "cell_type": "code",
   "execution_count": null,
   "metadata": {
    "scrolled": true
   },
   "outputs": [],
   "source": [
    "# Plot Nutrients by station\n",
    "\n",
    "xticks=range(0,37)\n",
    "ax = nutrient_df2.plot(x='Station Number', linestyle='none', marker='.', logy=True, \n",
    "                       figsize=(10,7), xticks=xticks)\n",
    "# Set the x scale \n",
    "ax.set_xlim((0, 40))\n",
    "\n",
    "# Set the x-axis label\n",
    "ax.set_xlabel(\"Station Number\")\n",
    "\n",
    "# Set the y-axis label\n",
    "ax.set_ylabel(\"Nutrients, micromoles [µM] per liter\")\n",
    "\n",
    "# Dont cover the data\n",
    "ax.legend(bbox_to_anchor=(1.15, 1), loc='upper right')\n",
    "\n",
    "plt.show()"
   ]
  },
  {
   "cell_type": "markdown",
   "metadata": {},
   "source": [
    "It appears that nutrients are checked at most stations.\n",
    "\n",
    "**Note**: The apparent \"extra\" bar in the plot is due to the presence of station number `29.5`."
   ]
  },
  {
   "cell_type": "markdown",
   "metadata": {},
   "source": [
    "Confirm nutrient samples by depth."
   ]
  },
  {
   "cell_type": "code",
   "execution_count": null,
   "metadata": {
    "scrolled": true
   },
   "outputs": [],
   "source": [
    "# Nutrients by depth\n",
    "\n",
    "nutrient_df = wq_df.loc[:,['Depth', 'Nitrite',  'Nitrate + Nitrite', \n",
    "                           'Ammonium', 'Phosphate', 'Silicate']\n",
    "                       ].sort_values('Depth'\n",
    "                       ).reindex()\n",
    "\n",
    "xticks=(range(0,100,5))\n",
    "ax = nutrient_df.plot(x='Depth', linestyle='none', marker='.', logy=True, figsize=(9,7), xticks=xticks)\n",
    "# Set the x scale \n",
    "ax.set_xlim((0, 100))\n",
    "\n",
    "# Set the x-axis label\n",
    "ax.set_xlabel(\"Depth, meters\")\n",
    "\n",
    "# Set the y-axis label\n",
    "ax.set_ylabel(\"Nutrients, micromoles [µM] per liter\")\n",
    "\n",
    "ax.grid(True)\n",
    "plt.show()"
   ]
  },
  {
   "cell_type": "markdown",
   "metadata": {},
   "source": [
    "Given that nutrients are sampled for only a subset of records (primarily shallower depths), I'm going to extract that subset as a separate DataFrame / file."
   ]
  },
  {
   "cell_type": "code",
   "execution_count": null,
   "metadata": {
    "scrolled": false
   },
   "outputs": [],
   "source": [
    "# Build a DataFrame containing nutrient sample data\n",
    "# Only records where at least one nutrient was sampled will be included \n",
    "\n",
    "wq_nutrients_df = wq_df[(wq_df.Nitrite > 0) | (wq_df['Nitrate + Nitrite'] > 0) | \n",
    "                        (wq_df.Ammonium > 0) | (wq_df.Phosphate > 0) | (wq_df.Silicate > 0) \n",
    "                       ].copy()\n",
    "wq_nutrients_df.info()"
   ]
  },
  {
   "cell_type": "markdown",
   "metadata": {},
   "source": [
    "#### For this Nutrient DataFrame (file) we don't need to save all columns\n"
   ]
  },
  {
   "cell_type": "code",
   "execution_count": null,
   "metadata": {},
   "outputs": [],
   "source": [
    "wq_nutrients_df.drop(columns=['Date', 'Time',\n",
    "                     'Discrete Chlorophyll', 'Chlorophyll a/a+PHA', \n",
    "                     'Fluorescence', 'Calculated Chlorophyll', \n",
    "                     'Discrete Oxygen', 'Oxygen Electrode Output',\n",
    "                     'Oxygen Saturation %', 'Calculated Oxygen', \n",
    "                     'Discrete SPM', 'Calculated SPM',\n",
    "                     'Measured Extinction Coefficient', \n",
    "                     'Calculated Extinction Coefficient'\n",
    "                             ], inplace=True)\n",
    "wq_nutrients_df.head()"
   ]
  },
  {
   "cell_type": "markdown",
   "metadata": {},
   "source": [
    "## Run some statistics on Water Quality data"
   ]
  },
  {
   "cell_type": "code",
   "execution_count": null,
   "metadata": {
    "scrolled": true
   },
   "outputs": [],
   "source": [
    "# Are all stations sampled every time?\n",
    "\n",
    "# convert station numbers to numeric form for sorting\n",
    "sn = pd.to_numeric(wq_df['Station Number'])\n",
    "sn_counts = sn.value_counts().sort_index()\n",
    "\n",
    "sn_counts"
   ]
  },
  {
   "cell_type": "code",
   "execution_count": null,
   "metadata": {
    "scrolled": false
   },
   "outputs": [],
   "source": [
    "# Station sampling frequency plot  \n",
    "\n",
    "ax = sn_counts.plot(kind=\"bar\", figsize=(14,8), legend=False, use_index=True)\n",
    "\n",
    "# Set the x-axis label\n",
    "ax.set_xlabel(\"Station\")\n",
    "\n",
    "# Set the y-axis label\n",
    "ax.set_ylabel(\"Number of samples\")\n",
    "\n",
    "plt.show()\n"
   ]
  },
  {
   "cell_type": "code",
   "execution_count": null,
   "metadata": {
    "scrolled": false
   },
   "outputs": [],
   "source": [
    "# Are all depths sampled every time? How many depths are sampled?\n",
    "print(\"Depth statistics\\n\")\n",
    "\n",
    "print(\"Median\", wq_df['Depth'].median())\n",
    "print(wq_df['Depth'].describe())\n",
    "\n",
    "# Treat depth as a category...\n",
    "dp = wq_df['Depth'].astype('category')\n",
    "dp_counts = dp.value_counts().sort_index()\n",
    "\n",
    "print(dp.describe())\n",
    "print(\"\\nDepth\\t  Times\\n\\t  sampled\")\n",
    "print(dp_counts)"
   ]
  },
  {
   "cell_type": "code",
   "execution_count": null,
   "metadata": {
    "scrolled": true
   },
   "outputs": [],
   "source": [
    "# Depth frequency plot  \n",
    "\n",
    "ax = dp_counts.plot(kind=\"bar\", figsize=(14,8), legend=False, logy=True)\n",
    "last = ax.xaxis.get_ticklabels()[-1]\n",
    "\n",
    "# Show every nth tick label on X axis\n",
    "n = 3  \n",
    "[t.set_visible(False) for (i,t) in enumerate(ax.xaxis.get_ticklabels()) if i % n != 0]\n",
    "\n",
    "# but ensure that the last X-axis tick label is visible\n",
    "last.set_visible(True)\n",
    "\n",
    "# Set the x-axis label (description)\n",
    "ax.set_xlabel(\"Depth\")\n",
    "\n",
    "# Set the y-axis label\n",
    "ax.set_ylabel(\"Number of samples\")\n",
    "\n",
    "plt.show()\n"
   ]
  },
  {
   "cell_type": "raw",
   "metadata": {},
   "source": [
    "There are 99 unique depth measurements, with many only recorded less than 3 times. We'll probably want to bin the depths, e.g (n <= 2m), (2m < n <= 4m), (4m < n <= 6m),... Note that the depth measurements decrease after 16m and fall off sharply after 40m."
   ]
  },
  {
   "cell_type": "markdown",
   "metadata": {},
   "source": [
    "### Statistics on Numerical parameters\n",
    "'Discrete Chlorophyll', ... 'Silicate'\n",
    " (Columns 6=>)"
   ]
  },
  {
   "cell_type": "code",
   "execution_count": null,
   "metadata": {},
   "outputs": [],
   "source": [
    "# Boxplots for Nuttrient data across all stations\n",
    "wq_tmp_df = wq_nutrients_df.loc[:,['Nitrite',  'Nitrate + Nitrite', \n",
    "                                   'Ammonium', 'Phosphate', 'Silicate']\n",
    "                                  ].reset_index(drop=True)\n",
    "\n",
    "ax = wq_tmp_df.plot(kind=\"box\", vert=False, logx=True, figsize=(10,4))\n",
    "\n",
    "plt.show()"
   ]
  },
  {
   "cell_type": "code",
   "execution_count": null,
   "metadata": {
    "scrolled": true
   },
   "outputs": [],
   "source": [
    "# Statistics on numerical parameters \n",
    "# 'Discrete Chlorophyll', ... 'Silicate'\n",
    "# (Columns 6=>)\n",
    "\n",
    "from scipy.stats import zscore\n",
    "\n",
    "def find_outliers(s):\n",
    "    \"\"\"\n",
    "    Calculate the zscore for a list of values.\n",
    "    Report on outliers: outside (-threshold < zscore > threshold)\n",
    "    \"\"\"\n",
    "    threshold = 3\n",
    "\n",
    "    # z-score z=(x-μ)/σ\n",
    "    zs=zscore(s)\n",
    "    # How many values meet the criteria for outliers?\n",
    "    zo = [x for x in zs if (abs(x) > threshold)]\n",
    "    \n",
    "    print(\"\")\n",
    "    if (len(zo) > 0):\n",
    "        print(\"-{0} < zscore > {0}\".format(threshold))\n",
    "        print(\"min\\t    {0}\".format(round(min(zo),2)))\n",
    "        print(\"max\\t    {0}\".format(round(max(zo),2)))\n",
    "        print(\"samples:  {0}\".format(len(zo)))\n",
    "\n",
    "#end_def find_outliers\n",
    "\n",
    "    \n",
    "def summary_stats(s):\n",
    "    \"\"\" \n",
    "    Calculate summary statistics for a series or list, s \n",
    "    returns a dictionary\n",
    "    \"\"\"\n",
    "    \n",
    "    stats = {\n",
    "      'count': 0,\n",
    "      'max': 0,\n",
    "      'min': 0,\n",
    "      'mean': 0,\n",
    "      'median': 0,\n",
    "      'mode': 0,\n",
    "      'std': 0,\n",
    "      'z': (0,0)\n",
    "    }\n",
    "    \n",
    "    stats['count'] = s.count()\n",
    "    stats['max'] = s.max()\n",
    "    stats['min'] = s.min()\n",
    "    stats['mean'] = round(s.mean(),3)\n",
    "    stats['median'] = s.median()\n",
    "    stats['mode'] = s.mode()[0]\n",
    "    stats['std'] = round(s.std(),3)\n",
    "\n",
    "    \n",
    "    std3 = 3* stats['std']\n",
    "    low_z = round(stats['mean'] - (std3),3)\n",
    "    high_z = round(stats['mean'] + (std3),3)\n",
    "    stats['z'] = (low_z, high_z)\n",
    "        \n",
    "    return(stats)\n",
    "    \n",
    "#end_def summary_stats\n",
    "\n",
    "\n",
    "def plot_one_var(var, d):\n",
    "    \"\"\" \n",
    "      Plot one variable against time \n",
    "      var: the variable to plot\n",
    "      d: a DataFrame of var by date\n",
    "    \"\"\"\n",
    "    ax = d.plot(x='DateTime', linestyle='none', marker='.',  \n",
    "                       figsize=(14,8), legend=False)\n",
    "    # Set the x-axis label\n",
    "    ax.set_xlabel(\"Date\")\n",
    "\n",
    "    # Set the y-axis label\n",
    "    ax.set_ylabel(var)\n",
    "\n",
    "    plt.show()\n",
    "#end_def plot_one_var\n",
    "\n",
    "\n",
    "def run_stats(s, col):\n",
    "    \"\"\"\n",
    "       Run statistics on a series (column) of data\n",
    "       s: data series\n",
    "       col: column name\n",
    "    \"\"\"\n",
    "    stats = {}\n",
    "    try:\n",
    "        stats = summary_stats(s)\n",
    "        print(\"Summary Statistics\\n\") \n",
    "        for item in stats.items():\n",
    "            print(item)\n",
    "\n",
    "    except:\n",
    "        print(\"Insufficient data to compute statistics.\")\n",
    "    \n",
    "    try:\n",
    "        find_outliers(s)\n",
    "\n",
    "    except:\n",
    "        print(\"Insufficient data to compute statistics.\")\n",
    "\n",
    "    try:\n",
    "        # plot this column's values by date\n",
    "        d1 = d.loc[:, ['DateTime', col]]\n",
    "        plot_one_var(col, d1)\n",
    "    except:\n",
    "        print(\"Not enough data to plot.\")\n",
    "\n",
    "    \n",
    "\n",
    "    print(\"____________________________________________\\n\")\n",
    "    \n",
    "    return(stats)\n",
    "#end_def run_stats"
   ]
  },
  {
   "cell_type": "markdown",
   "metadata": {},
   "source": [
    "Just for fun, run the statistics across the entire Bay."
   ]
  },
  {
   "cell_type": "code",
   "execution_count": null,
   "metadata": {},
   "outputs": [],
   "source": [
    "\n",
    "# Ignore the first six columns (dates, times, station number, \n",
    "# distance from station 36, and depth)\n",
    "for idx, col in enumerate(wq_df.columns):\n",
    "    if (idx <=5):\n",
    "        continue\n",
    "\n",
    "    # Extract rows where col is not NaN\n",
    "    d = wq_df.loc[wq_df[col].notnull()]\n",
    "    s=d[col] # The data column we want to look at\n",
    "    print(col)\n",
    "    if(s.size < 10):\n",
    "        print(\"Not enough data to compute statistics: count =\", s.size)\n",
    "        continue\n",
    "\n",
    "    stats = run_stats(s, col)\n",
    "#\n"
   ]
  },
  {
   "cell_type": "markdown",
   "metadata": {},
   "source": [
    "Most parameters vary substantially across the entire dataset. The presence of many samples with a high zscore implies poor \"bucketing\" of samples, indicating that I need to calculate  summary statistics by station.\n",
    "\n",
    "However, it should be noted that the following parameters show little to no variability across the entire dataset:\n",
    "   * Silicate\n",
    "   * Temperature\n",
    "   * Sigma-t\n",
    "   * Salinity\n",
    "\n",
    "\n",
    "Calculated clorophyll, SPM, and O2 map well to their discrete values, confirming the calculation algorithm used by USGS. "
   ]
  },
  {
   "cell_type": "markdown",
   "metadata": {},
   "source": [
    "My USGS contact has suggested that I ignore the \"discrete\" values going forward. I will remove these from the dataset."
   ]
  },
  {
   "cell_type": "code",
   "execution_count": null,
   "metadata": {},
   "outputs": [],
   "source": [
    "wq_df.drop(columns=['Discrete Chlorophyll', 'Discrete Oxygen', 'Discrete SPM'\n",
    "                   ], inplace=True)"
   ]
  },
  {
   "cell_type": "code",
   "execution_count": null,
   "metadata": {},
   "outputs": [],
   "source": [
    "wq_df.to_csv('Data/SFBayWaterQuality1969-2019.csv', index=False)"
   ]
  },
  {
   "cell_type": "markdown",
   "metadata": {},
   "source": [
    "### Run the same statistics and plots by station"
   ]
  },
  {
   "cell_type": "code",
   "execution_count": null,
   "metadata": {},
   "outputs": [],
   "source": [
    "station_stats = {}\n",
    "for station in stations:\n",
    "    station_str = str(station).strip('.0')\n",
    "    station_stats[station_str] = {}\n",
    "\n",
    "    # Extract only records for this station\n",
    "    st_df = wq_df[wq_df['Station Number'] == station]\n",
    "    \n",
    "    for idx, col in enumerate(st_df.columns):\n",
    "        # Ignore the first six columns (dates, times, station number, \n",
    "        # distance from station 36, and depth)\n",
    "        if (idx <=5):\n",
    "            continue\n",
    "\n",
    "        # Exract rows where col is not NaN\n",
    "        d = st_df.loc[st_df[col].notnull()]\n",
    "        s=d[col] # The column we want to look at \n",
    "        \n",
    "        print(\"Station\", station_str, col)\n",
    "        if(s.size < 10):\n",
    "            print(\"Not enough data to compute statistics: count =\", s.size)\n",
    "            continue\n",
    "\n",
    "        stats = run_stats(s, col)\n",
    "\n",
    "        station_stats[station_str].update({col : stats})\n",
    "\n",
    "        print(station_stats[station_str])\n",
    "\n",
    "#end for station in stations\n",
    "\n"
   ]
  },
  {
   "cell_type": "code",
   "execution_count": null,
   "metadata": {},
   "outputs": [],
   "source": [
    "station_stats\n",
    "    "
   ]
  },
  {
   "cell_type": "code",
   "execution_count": null,
   "metadata": {},
   "outputs": [],
   "source": [
    "# boxplots for nutrients by station\n",
    "for station in stations:\n",
    "    # subset by station \n",
    "    tmp_df = wq_nutrients_df[wq_nutrients_df['Station Number'] == station]\n",
    "    # and then only nutrient columns\n",
    "    tmp_df = tmp_df.loc[:,['Nitrite',  'Nitrate + Nitrite', \n",
    "                                   'Ammonium', 'Phosphate', 'Silicate']\n",
    "                                  ].reset_index(drop=True)\n",
    "    print(\"Station\", station)\n",
    "    try:\n",
    "        ax = tmp_df.plot(kind=\"box\", vert=False, logx=True, figsize=(10,4))\n",
    "        plt.show()\n",
    "    except:\n",
    "        print(\"\\tNothing to plot\\n\")\n",
    "        continue\n",
    "\n",
    "   "
   ]
  },
  {
   "cell_type": "markdown",
   "metadata": {},
   "source": [
    "### Issue: Outliers\n",
    "\n",
    "There are apparent outliers for several parameters at most stations. However, at this point in the analysis, I do not anticipate that they will cause problems. If I need to remove them at a future date, I will be able to locate them."
   ]
  },
  {
   "cell_type": "markdown",
   "metadata": {},
   "source": [
    "### Save Water Quality DataFrames to disk"
   ]
  },
  {
   "cell_type": "code",
   "execution_count": null,
   "metadata": {},
   "outputs": [],
   "source": [
    "# Save our work\n",
    "wq_df.to_csv('Data/SFBayWaterQuality.csv', index=False)"
   ]
  },
  {
   "cell_type": "code",
   "execution_count": null,
   "metadata": {},
   "outputs": [],
   "source": [
    "# Save the nutrient DataFrame as a file\n",
    "wq_nutrients_df.to_csv('Data/SFBayWaterQualityNutrientData.csv', index=False)"
   ]
  },
  {
   "cell_type": "markdown",
   "metadata": {},
   "source": [
    "Review first two lines of the new  Water Quality file on disk:\n",
    "<small>\n",
    "    \n",
    "```\n",
    "DateTime,Date,Time,Station Number,Distance from 36,Destrpth,Chlorophyll a/a+PHA,Fluorescence,Calculated Chlorophyll,Oxygen Electrode Output,Oxygen Saturation %,Calculated Oxygen,Calculated SPM,Measured Extinction Coefficient,Calculated Extinction Coefficient,Salinity,Temperature,Sigma-t,Nitrite,Nitrate + Nitrite,Ammonium,Phosphate,Silicate\n",
    "1969-04-10 16:15:00,1969-04-10,1615,4.0,119.9,0.5,,,,,,,,,,0.3,13.1,,,,,,\n",
    "```\n",
    "</small>\n",
    "\n",
    "Next time, we can read this data in with\n",
    "```\n",
    "wq_df = pd.read_csv('Data/SFBayWaterQuality.csv', \n",
    "                    header=0, \n",
    "                    parse_dates=['DateTime', 'Date', 'Time'],\n",
    "                    dtype={'Station Number' : str}\n",
    "                    )\n",
    "                    \n",
    "wq_df = pd.read_csv('Data/SFBayWaterQualityNutrientData.csv', \n",
    "                    header=0, \n",
    "                    parse_dates=['DateTime', 'Date', 'Time'],\n",
    "                    dtype={'Station Number' : str}\n",
    "                    )\n",
    "```"
   ]
  },
  {
   "cell_type": "code",
   "execution_count": null,
   "metadata": {},
   "outputs": [],
   "source": [
    "# Save the station locations as a file\n",
    "st_df.to_csv('Data/SFBayStationLocations.csv', index=False)"
   ]
  },
  {
   "cell_type": "markdown",
   "metadata": {},
   "source": [
    "We will read Station Locations in with\n",
    "```\n",
    "st_df = pd.read_csv('Data/SFBayStationLocations.csv', \n",
    "                    header=0,\n",
    "                    dtype={'Station Number' : str}\n",
    "                    )\n",
    "```"
   ]
  },
  {
   "cell_type": "code",
   "execution_count": null,
   "metadata": {},
   "outputs": [],
   "source": []
  }
 ],
 "metadata": {
  "kernelspec": {
   "display_name": "Python 3",
   "language": "python",
   "name": "python3"
  },
  "language_info": {
   "codemirror_mode": {
    "name": "ipython",
    "version": 3
   },
   "file_extension": ".py",
   "mimetype": "text/x-python",
   "name": "python",
   "nbconvert_exporter": "python",
   "pygments_lexer": "ipython3",
   "version": "3.7.3"
  }
 },
 "nbformat": 4,
 "nbformat_minor": 2
}
