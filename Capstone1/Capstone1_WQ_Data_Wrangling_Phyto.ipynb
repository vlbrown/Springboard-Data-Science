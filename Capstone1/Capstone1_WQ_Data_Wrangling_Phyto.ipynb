{
 "cells": [
  {
   "cell_type": "markdown",
   "metadata": {},
   "source": [
    "## Capstone 1 \n",
    "# San Francisco Bay Water Quality\n",
    "\n",
    "ref. [Water quality of SF Bay home page](https://sfbay.wr.usgs.gov/access/wqdata/index.html)\n",
    "     \n",
    "     "
   ]
  },
  {
   "cell_type": "markdown",
   "metadata": {},
   "source": [
    "## Unit 5 - Data Wrangling (phytoplankton data)\n",
    "\n",
    "### Tasks\n",
    "\n",
    "The first step in completing your capstone project is to collect data. Depending on your dataset, you may apply some of the data wrangling techniques that you learned in this unit.\n",
    "\n",
    "Include answers to these questions in your submission:\n",
    "   * What kind of cleaning steps did you perform?\n",
    "\n",
    "   * How did you deal with missing values, if any?\n",
    "\n",
    "   * Were there outliers, and how did you handle them?\n"
   ]
  },
  {
   "cell_type": "markdown",
   "metadata": {},
   "source": [
    "## Phyoplankton Data\n",
    "\n",
    "## Data Acquisition\n",
    "\n",
    "#### Access\n",
    "   1. Phytoplankton data downloaded from \n",
    "      1. [ScienceBase: Phytoplankton, 1992-2015](https://www.sciencebase.gov/catalog/item/5908f489e4b0fc4e448ffff1)\n",
    "      2. [ScienceBase: Phytoplankton, 2016...](https://www.sciencebase.gov/catalog/item/598b755de4b09fa1cb0eadd9)\n",
    "      \n",
    "#### Files\n",
    "   1. `Phytoplankton_San_Francisco_Bay_1992_2014.csv`\n",
    "   1. `Phytoplankton_San_Francisco_Bay_2014_2016.csv`\n",
    "   1. `Phytoplankton_San_Francisco_Bay_2017-2018.csv`\n",
    "   \n",
    "**Note**: The apparent overlap in dates for Phytoplankton files, `Phytoplankton_San_Francisco_Bay_1992_2014.csv` and `Phytoplankton_San_Francisco_Bay_2014_2016.csv`, is not an error. Data from the first three months of 2014 is included in two separate files.  Possible redundant 2014 rows will need to be investigated.\n",
    "\n",
    "   \n",
    "#### Data Format\n",
    "\n",
    "All files are formatted as CSV (comma-separated values).\n",
    "   \n",
    "\n",
    "**Phytoplankton**\n",
    "\n",
    "Phytoplankton files have one header row. Column headers include units of measure. These will be stripped.\n",
    "\n",
    "<small>\n",
    "\n",
    "```\n",
    "Taxonomic Identification, Phylum or Class, Date,Station Number, Depth (m), Actual Count, Density (cells/mL), Biovolume (cubic micrometers/mL), Cell Volume (cubic micrometers/cell)\n",
    "```\n",
    "</small>\n",
    "\n",
    "_Note: The `Actual Count` parameter was not included before 2014._ The recommendation from USGS is to not use this field, as it is essntially \"for internal use only\".\n",
    "\n",
    "\n"
   ]
  },
  {
   "cell_type": "markdown",
   "metadata": {},
   "source": [
    "## Setup\n",
    "\n",
    "Import libraries"
   ]
  },
  {
   "cell_type": "code",
   "execution_count": 1,
   "metadata": {},
   "outputs": [],
   "source": [
    "# Import useful libraries\n",
    "\n",
    "import csv\n",
    "import pandas as pd\n",
    "import matplotlib.pyplot as plt\n",
    "import datetime\n",
    "from statistics import (median, mode)"
   ]
  },
  {
   "cell_type": "markdown",
   "metadata": {},
   "source": [
    "## Read in the Phytoplankton data\n"
   ]
  },
  {
   "cell_type": "markdown",
   "metadata": {},
   "source": [
    "### Issue: UnicodeDecodeError\n",
    "\n",
    "While initially reading in the Phytoplankton data\n",
    "```\n",
    "ph_df1 = pd.read_csv('Data/orig/Phytoplankton_San_Francisco_Bay_1992_2014.csv', header=0)\n",
    "```\n",
    "\n",
    "I got an error:\n",
    "<small>\n",
    "\n",
    "```\n",
    "UnicodeDecodeError                        Traceback (most recent call last)\n",
    "<ipython-input-5-0cbe2ac6151a> in <module>\n",
    "      1 # Read in Phytoplankton data\n",
    "----> 2 ph_df1 = pd.read_csv('.../Phytoplankton_San_Francisco_Bay_1992_2014.csv', header=0)\n",
    "...\n",
    "UnicodeDecodeError 'utf-8' codec can't decode byte 0xa0 in position 13: invalid start byte\n",
    "```\n",
    "</small>\n",
    "\n",
    "A  [web search](https://lmgtfy.com/?q=utf-8%27+codec+can%27t+decode+byte+0xa0+in+position&n=1)\n",
    "tells me that this is due to file encoding. \n",
    "\n",
    "I can fix this easily by changing the data encoding of the input file (which is my preference in this case). However, for purposes of practicing data wrangling, I followed these steps [via Kaggle](https://www.kaggle.com/singhchauhan/data-cleaning-challenge-inconsistent-data-entry):\n",
    "<small>\n",
    "\n",
    "```\n",
    "In [ ]: import chardet\n",
    "# look at the first thousand bytes to guess the character encoding\n",
    "with open('Data/Phytoplankton_San_Francisco_Bay_1992_2014.csv', 'rb') as rawdata:\n",
    "    result = chardet.detect(rawdata.read(1000))\n",
    "\n",
    "# check what the character encoding might be\n",
    "print(result)\n",
    "\n",
    "Out [ ]:\n",
    "{'encoding': 'ascii', 'confidence': 1.0, 'language': ''}\n",
    "```\n",
    "</small>\n",
    "\n",
    "Unfortunately, \n",
    "```\n",
    "ph_df1 = pd.read_csv('Data/orig/Phytoplankton_San_Francisco_Bay_1992_2014.csv', header=0, encoding='ascii')\n",
    "```\n",
    "failed differently.\n",
    "\n",
    "More searching turned up [this comment](https://stackoverflow.com/questions/21129020/how-to-fix-unicodedecodeerror-ascii-codec-cant-decode-byte/21129492#comment67359759_21129492).\n",
    "\n",
    "so I tried \n",
    "```\n",
    "ph_df1 = pd.read_csv('Data/orig/Phytoplankton_San_Francisco_Bay_1992_2014.csv', header=0, encoding='latin1')\n",
    "```\n",
    "\n",
    "which worked and did not throw any errors.\n",
    "\n",
    "**Note:** Now that I understand encoding a bit more, I fixed the encoding of the CSV files on disk to be UTF8."
   ]
  },
  {
   "cell_type": "code",
   "execution_count": 2,
   "metadata": {},
   "outputs": [],
   "source": [
    "# Read in Phytoplankton data\n",
    "# Files have been encoded as UTF8 on disk\n",
    "ph_df1 = pd.read_csv('Data/orig/Phytoplankton_San_Francisco_Bay_1992_2014.csv', parse_dates=['Date'], header=0)\n",
    "ph_df2 = pd.read_csv('Data/orig/Phytoplankton_San_Francisco_Bay_2014_2016.csv', parse_dates=['Date'], header=0)\n",
    "ph_df3 = pd.read_csv('Data/orig/Phytoplankton_San_Francisco_Bay_2017-2018.csv', parse_dates=['Date'], header=0)"
   ]
  },
  {
   "cell_type": "markdown",
   "metadata": {},
   "source": [
    "### Combine Phytoplankton datasets\n",
    "\n",
    "Now we repeat the concatenation process with the Phytoplankton datasets, to get one combined DataFrame.\n",
    "datasets\n"
   ]
  },
  {
   "cell_type": "markdown",
   "metadata": {},
   "source": [
    "### Issue: mis-aligned columns\n",
    "\n",
    "As noted before, one of the Phytoplankton datasets does not contain the `Actual Count` column. Thus, if we simply try a concatenation, \n",
    "\n",
    "```\n",
    "ph_df = pd.concat([ph_df1, ph_df2, ph_df3]).reset_index(drop=True)\n",
    "```\n",
    "\n",
    "we'll get an error:\n",
    "\n",
    "```\n",
    "/Local/Users/vlb/anaconda3/lib/python3.7/site-packages/ipykernel_launcher.py:2: FutureWarning: Sorting because non-concatenation axis is not aligned. A future version\n",
    "of pandas will change to not sort by default.\n",
    "\n",
    "To accept the future behavior, pass 'sort=False'.\n",
    "\n",
    "To retain the current behavior and silence the warning, pass 'sort=True'.\n",
    "```\n",
    "\n",
    "Setting `sort=True` aligns the columns-in-common, allowing concatenation with the newer column not causing problems."
   ]
  },
  {
   "cell_type": "code",
   "execution_count": 3,
   "metadata": {},
   "outputs": [],
   "source": [
    "# Concatenate phytoplankton DataFrames\n",
    "# sort=True ensures that columns are aligned.\n",
    "ph_df = pd.concat([ph_df1, ph_df2, ph_df3], sort=True).reset_index(drop=True)"
   ]
  },
  {
   "cell_type": "markdown",
   "metadata": {},
   "source": [
    "### Issue - possibly redundant records\n",
    "\n",
    "Looking at the phytoplankton dataset filenames (and the first hundred rows of data), I was concerned that there might be overlap for part of 2014. An \"overlapping\" row would match on every field except for `Actual Count` which would be either a number or `NaN`. \n",
    "\n",
    "I examined some of the 2014 data, using:\n",
    "\n",
    "```\n",
    "ph_2014_df = ph_df.loc[ph_df['Date'].str.match('[12]/.*/2014')]\n",
    "\n",
    "ph_2014_df.sort_values(by=['Date', 'Station Number', 'Depth (m)', 'Density (cells/mL)'])\n",
    "```\n",
    "\n",
    "I did not see any clear overlap. \n",
    "\n",
    "Sample:<br />\n",
    "<img src=\"http://wiki.cfcl.com/pub/Vicki/Datasci/Capstone1DataWrangling/Check_for_Overlap_in-2014_phytoplanton_data.png\" width=\"894\" height=\"622\">\n"
   ]
  },
  {
   "cell_type": "markdown",
   "metadata": {},
   "source": [
    "We can now ignore the original phytoplankton files / DFs and use the concatenated DF containing all data from 1992 to 2018."
   ]
  },
  {
   "cell_type": "code",
   "execution_count": 4,
   "metadata": {},
   "outputs": [
    {
     "data": {
      "text/html": [
       "<div>\n",
       "<style scoped>\n",
       "    .dataframe tbody tr th:only-of-type {\n",
       "        vertical-align: middle;\n",
       "    }\n",
       "\n",
       "    .dataframe tbody tr th {\n",
       "        vertical-align: top;\n",
       "    }\n",
       "\n",
       "    .dataframe thead th {\n",
       "        text-align: right;\n",
       "    }\n",
       "</style>\n",
       "<table border=\"1\" class=\"dataframe\">\n",
       "  <thead>\n",
       "    <tr style=\"text-align: right;\">\n",
       "      <th></th>\n",
       "      <th>Actual Count</th>\n",
       "      <th>Biovolume (cubic micrometers/mL)</th>\n",
       "      <th>Cell Volume (cubic micrometers/cell)</th>\n",
       "      <th>Date</th>\n",
       "      <th>Density (cells/mL)</th>\n",
       "      <th>Depth (m)</th>\n",
       "      <th>Phylum or Class</th>\n",
       "      <th>Station Number</th>\n",
       "      <th>Taxonomic Identification</th>\n",
       "    </tr>\n",
       "  </thead>\n",
       "  <tbody>\n",
       "    <tr>\n",
       "      <th>0</th>\n",
       "      <td>NaN</td>\n",
       "      <td>47502.0</td>\n",
       "      <td>5655.0</td>\n",
       "      <td>1992-04-01</td>\n",
       "      <td>8.4</td>\n",
       "      <td>1.0</td>\n",
       "      <td>BACILLARIOPHYTA</td>\n",
       "      <td>30.0</td>\n",
       "      <td>Asterionellopsis glacialis</td>\n",
       "    </tr>\n",
       "    <tr>\n",
       "      <th>1</th>\n",
       "      <td>NaN</td>\n",
       "      <td>950.6</td>\n",
       "      <td>58.3</td>\n",
       "      <td>1992-04-01</td>\n",
       "      <td>16.3</td>\n",
       "      <td>1.0</td>\n",
       "      <td>BACILLARIOPHYTA</td>\n",
       "      <td>30.0</td>\n",
       "      <td>Ceratoneis closterium</td>\n",
       "    </tr>\n",
       "    <tr>\n",
       "      <th>2</th>\n",
       "      <td>NaN</td>\n",
       "      <td>307827.0</td>\n",
       "      <td>1052.4</td>\n",
       "      <td>1992-04-01</td>\n",
       "      <td>292.5</td>\n",
       "      <td>1.0</td>\n",
       "      <td>BACILLARIOPHYTA</td>\n",
       "      <td>30.0</td>\n",
       "      <td>Chaetoceros debilis</td>\n",
       "    </tr>\n",
       "    <tr>\n",
       "      <th>3</th>\n",
       "      <td>NaN</td>\n",
       "      <td>476403.6</td>\n",
       "      <td>476403.6</td>\n",
       "      <td>1992-04-01</td>\n",
       "      <td>1.0</td>\n",
       "      <td>1.0</td>\n",
       "      <td>BACILLARIOPHYTA</td>\n",
       "      <td>30.0</td>\n",
       "      <td>Coscinodiscus radiatus</td>\n",
       "    </tr>\n",
       "    <tr>\n",
       "      <th>4</th>\n",
       "      <td>NaN</td>\n",
       "      <td>21122.2</td>\n",
       "      <td>157.6</td>\n",
       "      <td>1992-04-01</td>\n",
       "      <td>134.0</td>\n",
       "      <td>1.0</td>\n",
       "      <td>BACILLARIOPHYTA</td>\n",
       "      <td>30.0</td>\n",
       "      <td>Cyclotella sp.</td>\n",
       "    </tr>\n",
       "  </tbody>\n",
       "</table>\n",
       "</div>"
      ],
      "text/plain": [
       "   Actual Count  Biovolume (cubic micrometers/mL)  \\\n",
       "0           NaN                           47502.0   \n",
       "1           NaN                             950.6   \n",
       "2           NaN                          307827.0   \n",
       "3           NaN                          476403.6   \n",
       "4           NaN                           21122.2   \n",
       "\n",
       "   Cell Volume (cubic micrometers/cell)       Date  Density (cells/mL)  \\\n",
       "0                                5655.0 1992-04-01                 8.4   \n",
       "1                                  58.3 1992-04-01                16.3   \n",
       "2                                1052.4 1992-04-01               292.5   \n",
       "3                              476403.6 1992-04-01                 1.0   \n",
       "4                                 157.6 1992-04-01               134.0   \n",
       "\n",
       "   Depth (m)  Phylum or Class  Station Number    Taxonomic Identification  \n",
       "0        1.0  BACILLARIOPHYTA            30.0  Asterionellopsis glacialis  \n",
       "1        1.0  BACILLARIOPHYTA            30.0       Ceratoneis closterium  \n",
       "2        1.0  BACILLARIOPHYTA            30.0         Chaetoceros debilis  \n",
       "3        1.0  BACILLARIOPHYTA            30.0      Coscinodiscus radiatus  \n",
       "4        1.0  BACILLARIOPHYTA            30.0              Cyclotella sp.  "
      ]
     },
     "execution_count": 4,
     "metadata": {},
     "output_type": "execute_result"
    }
   ],
   "source": [
    "# Quick look at the phytoplankton DataFrame\n",
    "ph_df.head()"
   ]
  },
  {
   "cell_type": "markdown",
   "metadata": {},
   "source": [
    "### Alphabetical Ordering of Columns\n",
    "\n",
    "Due to the need to sort columns before concatenation, the data columns are now in alphabetical order, left to right.\n",
    "\n",
    "Before saving, I want to re-order the columns, to move Date, Station number, and Depth to the front. "
   ]
  },
  {
   "cell_type": "code",
   "execution_count": 5,
   "metadata": {},
   "outputs": [
    {
     "data": {
      "text/plain": [
       "Index(['Actual Count', 'Biovolume (cubic micrometers/mL)',\n",
       "       'Cell Volume (cubic micrometers/cell)', 'Date', 'Density (cells/mL)',\n",
       "       'Depth (m)', 'Phylum or Class', 'Station Number',\n",
       "       'Taxonomic Identification'],\n",
       "      dtype='object')"
      ]
     },
     "execution_count": 5,
     "metadata": {},
     "output_type": "execute_result"
    }
   ],
   "source": [
    "# Capture the list of columns\n",
    "ph_df.columns"
   ]
  },
  {
   "cell_type": "code",
   "execution_count": 6,
   "metadata": {},
   "outputs": [],
   "source": [
    "# re-order the columns\n",
    "ph_df = ph_df[['Date', 'Station Number', 'Depth (m)', \n",
    "               'Actual Count', 'Biovolume (cubic micrometers/mL)', \n",
    "               'Cell Volume (cubic micrometers/cell)', 'Density (cells/mL)',\n",
    "               'Phylum or Class', 'Taxonomic Identification']]\n"
   ]
  },
  {
   "cell_type": "code",
   "execution_count": 7,
   "metadata": {},
   "outputs": [],
   "source": [
    "# Create a units dictionary for phytoplankton\n",
    "\n",
    "ph_units = {\n",
    " 'Date': 'YYYY-MM-DD',\n",
    " 'Station Number' : '', \n",
    " 'Depth': '(m)', \n",
    " 'Actual Count': '', \n",
    " 'Biovolume': '(cubic micrometers/mL)', \n",
    " 'Cell Volume': '(cubic micrometers/cell)', \n",
    " 'Density': '(cells/mL)',\n",
    " 'Phylum or Class': '', \n",
    " 'Taxonomic Identification': ''\n",
    "}"
   ]
  },
  {
   "cell_type": "code",
   "execution_count": 8,
   "metadata": {},
   "outputs": [],
   "source": [
    "# Simplify the column names, removing units\n",
    "ph_df.columns = ['Date', 'Station Number', 'Depth', \n",
    "               'Actual Count', 'Biovolume', 'Cell Volume', 'Density',\n",
    "               'Phylum or Class', 'Taxonomic Identification']"
   ]
  },
  {
   "cell_type": "markdown",
   "metadata": {},
   "source": [
    "Convert Station numbers to strings and remove unnecessary trailing .0"
   ]
  },
  {
   "cell_type": "code",
   "execution_count": 9,
   "metadata": {},
   "outputs": [],
   "source": [
    "ph_df['Station Number'] = ph_df['Station Number'].astype(str)\n",
    "ph_df['Station Number'] = [x.replace('.0', '') for x in ph_df['Station Number']]\n"
   ]
  },
  {
   "cell_type": "markdown",
   "metadata": {},
   "source": [
    "<hr style=\"border: 5px solid green;\">"
   ]
  },
  {
   "cell_type": "markdown",
   "metadata": {},
   "source": [
    "## Examine Phytoplankton Data"
   ]
  },
  {
   "cell_type": "code",
   "execution_count": 10,
   "metadata": {
    "scrolled": true
   },
   "outputs": [
    {
     "name": "stdout",
     "output_type": "stream",
     "text": [
      "<class 'pandas.core.frame.DataFrame'>\n",
      "RangeIndex: 33185 entries, 0 to 33184\n",
      "Data columns (total 9 columns):\n",
      "Date                        33185 non-null datetime64[ns]\n",
      "Station Number              33185 non-null object\n",
      "Depth                       33185 non-null float64\n",
      "Actual Count                16743 non-null float64\n",
      "Biovolume                   33185 non-null float64\n",
      "Cell Volume                 33185 non-null float64\n",
      "Density                     33185 non-null float64\n",
      "Phylum or Class             33185 non-null object\n",
      "Taxonomic Identification    33185 non-null object\n",
      "dtypes: datetime64[ns](1), float64(5), object(3)\n",
      "memory usage: 2.3+ MB\n"
     ]
    }
   ],
   "source": [
    "ph_df.info()"
   ]
  },
  {
   "cell_type": "markdown",
   "metadata": {},
   "source": [
    "The only missing data is in the `Actual Count` column. This value was not part of the dataset before 2014.\n",
    "\n",
    "Note that pandas recognizes the Date field as a datetime object."
   ]
  },
  {
   "cell_type": "code",
   "execution_count": 11,
   "metadata": {},
   "outputs": [
    {
     "data": {
      "text/html": [
       "<div>\n",
       "<style scoped>\n",
       "    .dataframe tbody tr th:only-of-type {\n",
       "        vertical-align: middle;\n",
       "    }\n",
       "\n",
       "    .dataframe tbody tr th {\n",
       "        vertical-align: top;\n",
       "    }\n",
       "\n",
       "    .dataframe thead th {\n",
       "        text-align: right;\n",
       "    }\n",
       "</style>\n",
       "<table border=\"1\" class=\"dataframe\">\n",
       "  <thead>\n",
       "    <tr style=\"text-align: right;\">\n",
       "      <th></th>\n",
       "      <th>Date</th>\n",
       "      <th>Station Number</th>\n",
       "      <th>Depth</th>\n",
       "      <th>Actual Count</th>\n",
       "      <th>Biovolume</th>\n",
       "      <th>Cell Volume</th>\n",
       "      <th>Density</th>\n",
       "      <th>Phylum or Class</th>\n",
       "      <th>Taxonomic Identification</th>\n",
       "    </tr>\n",
       "  </thead>\n",
       "  <tbody>\n",
       "    <tr>\n",
       "      <th>0</th>\n",
       "      <td>2014-01-14</td>\n",
       "      <td>6</td>\n",
       "      <td>2.0</td>\n",
       "      <td>1.0</td>\n",
       "      <td>78746.8</td>\n",
       "      <td>2944.9</td>\n",
       "      <td>26.7</td>\n",
       "      <td>BACILLARIOPHYTA</td>\n",
       "      <td>Actinocyclus sp.</td>\n",
       "    </tr>\n",
       "    <tr>\n",
       "      <th>1</th>\n",
       "      <td>2014-01-14</td>\n",
       "      <td>657</td>\n",
       "      <td>2.0</td>\n",
       "      <td>5.0</td>\n",
       "      <td>89596.4</td>\n",
       "      <td>1005.3</td>\n",
       "      <td>89.1</td>\n",
       "      <td>BACILLARIOPHYTA</td>\n",
       "      <td>Cyclotella sp.</td>\n",
       "    </tr>\n",
       "    <tr>\n",
       "      <th>2</th>\n",
       "      <td>2014-01-14</td>\n",
       "      <td>657</td>\n",
       "      <td>2.0</td>\n",
       "      <td>1.0</td>\n",
       "      <td>8238.0</td>\n",
       "      <td>2269.4</td>\n",
       "      <td>3.6</td>\n",
       "      <td>BACILLARIOPHYTA</td>\n",
       "      <td>Cyclotella striata</td>\n",
       "    </tr>\n",
       "    <tr>\n",
       "      <th>3</th>\n",
       "      <td>2014-01-14</td>\n",
       "      <td>657</td>\n",
       "      <td>2.0</td>\n",
       "      <td>2.0</td>\n",
       "      <td>3994.2</td>\n",
       "      <td>112.0</td>\n",
       "      <td>35.7</td>\n",
       "      <td>BACILLARIOPHYTA</td>\n",
       "      <td>Encyonema sp.</td>\n",
       "    </tr>\n",
       "    <tr>\n",
       "      <th>4</th>\n",
       "      <td>2014-01-14</td>\n",
       "      <td>657</td>\n",
       "      <td>2.0</td>\n",
       "      <td>7.0</td>\n",
       "      <td>439022.2</td>\n",
       "      <td>3518.7</td>\n",
       "      <td>124.8</td>\n",
       "      <td>BACILLARIOPHYTA</td>\n",
       "      <td>Entomoneis paludosa</td>\n",
       "    </tr>\n",
       "    <tr>\n",
       "      <th>5</th>\n",
       "      <td>2014-01-14</td>\n",
       "      <td>657</td>\n",
       "      <td>2.0</td>\n",
       "      <td>2.0</td>\n",
       "      <td>5230.6</td>\n",
       "      <td>720.5</td>\n",
       "      <td>7.3</td>\n",
       "      <td>BACILLARIOPHYTA</td>\n",
       "      <td>Epithemia sp.</td>\n",
       "    </tr>\n",
       "    <tr>\n",
       "      <th>6</th>\n",
       "      <td>2014-01-14</td>\n",
       "      <td>657</td>\n",
       "      <td>2.0</td>\n",
       "      <td>1.0</td>\n",
       "      <td>86264.5</td>\n",
       "      <td>4840.9</td>\n",
       "      <td>17.8</td>\n",
       "      <td>BACILLARIOPHYTA</td>\n",
       "      <td>Frustulia sp.</td>\n",
       "    </tr>\n",
       "    <tr>\n",
       "      <th>7</th>\n",
       "      <td>2014-01-14</td>\n",
       "      <td>657</td>\n",
       "      <td>2.0</td>\n",
       "      <td>1.0</td>\n",
       "      <td>745.7</td>\n",
       "      <td>41.8</td>\n",
       "      <td>17.8</td>\n",
       "      <td>BACILLARIOPHYTA</td>\n",
       "      <td>Gomphonema sp.</td>\n",
       "    </tr>\n",
       "    <tr>\n",
       "      <th>8</th>\n",
       "      <td>2014-01-14</td>\n",
       "      <td>657</td>\n",
       "      <td>2.0</td>\n",
       "      <td>1.0</td>\n",
       "      <td>11386.0</td>\n",
       "      <td>3136.6</td>\n",
       "      <td>3.6</td>\n",
       "      <td>BACILLARIOPHYTA</td>\n",
       "      <td>Gyrosigma fasciola</td>\n",
       "    </tr>\n",
       "    <tr>\n",
       "      <th>9</th>\n",
       "      <td>2014-01-14</td>\n",
       "      <td>657</td>\n",
       "      <td>2.0</td>\n",
       "      <td>1.0</td>\n",
       "      <td>2584.9</td>\n",
       "      <td>145.1</td>\n",
       "      <td>17.8</td>\n",
       "      <td>BACILLARIOPHYTA</td>\n",
       "      <td>Halamphora sp.</td>\n",
       "    </tr>\n",
       "    <tr>\n",
       "      <th>10</th>\n",
       "      <td>2014-01-14</td>\n",
       "      <td>657</td>\n",
       "      <td>2.0</td>\n",
       "      <td>1.0</td>\n",
       "      <td>813.0</td>\n",
       "      <td>224.0</td>\n",
       "      <td>3.6</td>\n",
       "      <td>BACILLARIOPHYTA</td>\n",
       "      <td>Navicula cryptotenella</td>\n",
       "    </tr>\n",
       "    <tr>\n",
       "      <th>11</th>\n",
       "      <td>2014-01-14</td>\n",
       "      <td>657</td>\n",
       "      <td>2.0</td>\n",
       "      <td>1.0</td>\n",
       "      <td>2070.2</td>\n",
       "      <td>570.3</td>\n",
       "      <td>3.6</td>\n",
       "      <td>BACILLARIOPHYTA</td>\n",
       "      <td>Nitzschia brevissima</td>\n",
       "    </tr>\n",
       "    <tr>\n",
       "      <th>12</th>\n",
       "      <td>2014-01-14</td>\n",
       "      <td>657</td>\n",
       "      <td>2.0</td>\n",
       "      <td>1.0</td>\n",
       "      <td>1116.8</td>\n",
       "      <td>307.7</td>\n",
       "      <td>3.6</td>\n",
       "      <td>BACILLARIOPHYTA</td>\n",
       "      <td>Nitzschia dissipata</td>\n",
       "    </tr>\n",
       "    <tr>\n",
       "      <th>13</th>\n",
       "      <td>2014-01-14</td>\n",
       "      <td>657</td>\n",
       "      <td>2.0</td>\n",
       "      <td>2.0</td>\n",
       "      <td>11331.5</td>\n",
       "      <td>1560.8</td>\n",
       "      <td>7.3</td>\n",
       "      <td>BACILLARIOPHYTA</td>\n",
       "      <td>Nitzschia linearis</td>\n",
       "    </tr>\n",
       "    <tr>\n",
       "      <th>14</th>\n",
       "      <td>2014-01-14</td>\n",
       "      <td>657</td>\n",
       "      <td>2.0</td>\n",
       "      <td>1.0</td>\n",
       "      <td>588.2</td>\n",
       "      <td>33.0</td>\n",
       "      <td>17.8</td>\n",
       "      <td>BACILLARIOPHYTA</td>\n",
       "      <td>Nitzschia spp.</td>\n",
       "    </tr>\n",
       "    <tr>\n",
       "      <th>15</th>\n",
       "      <td>2014-01-14</td>\n",
       "      <td>657</td>\n",
       "      <td>2.0</td>\n",
       "      <td>1.0</td>\n",
       "      <td>2795.4</td>\n",
       "      <td>770.1</td>\n",
       "      <td>3.6</td>\n",
       "      <td>BACILLARIOPHYTA</td>\n",
       "      <td>Cyclotella meneghiniana</td>\n",
       "    </tr>\n",
       "    <tr>\n",
       "      <th>16</th>\n",
       "      <td>2014-01-14</td>\n",
       "      <td>657</td>\n",
       "      <td>2.0</td>\n",
       "      <td>1.0</td>\n",
       "      <td>7060.4</td>\n",
       "      <td>1945.0</td>\n",
       "      <td>3.6</td>\n",
       "      <td>BACILLARIOPHYTA</td>\n",
       "      <td>Nitzschia spp.</td>\n",
       "    </tr>\n",
       "    <tr>\n",
       "      <th>17</th>\n",
       "      <td>2014-01-14</td>\n",
       "      <td>657</td>\n",
       "      <td>2.0</td>\n",
       "      <td>1.0</td>\n",
       "      <td>588.5</td>\n",
       "      <td>162.1</td>\n",
       "      <td>3.6</td>\n",
       "      <td>BACILLARIOPHYTA</td>\n",
       "      <td>Rhopalodia sp.</td>\n",
       "    </tr>\n",
       "    <tr>\n",
       "      <th>18</th>\n",
       "      <td>2014-01-14</td>\n",
       "      <td>657</td>\n",
       "      <td>2.0</td>\n",
       "      <td>13.0</td>\n",
       "      <td>16379.3</td>\n",
       "      <td>70.7</td>\n",
       "      <td>231.7</td>\n",
       "      <td>BACILLARIOPHYTA</td>\n",
       "      <td>Staurosira venter</td>\n",
       "    </tr>\n",
       "    <tr>\n",
       "      <th>19</th>\n",
       "      <td>2014-01-14</td>\n",
       "      <td>657</td>\n",
       "      <td>2.0</td>\n",
       "      <td>2.0</td>\n",
       "      <td>6844.7</td>\n",
       "      <td>192.0</td>\n",
       "      <td>35.7</td>\n",
       "      <td>BACILLARIOPHYTA</td>\n",
       "      <td>Thalassionema sp.</td>\n",
       "    </tr>\n",
       "  </tbody>\n",
       "</table>\n",
       "</div>"
      ],
      "text/plain": [
       "         Date Station Number  Depth  Actual Count  Biovolume  Cell Volume  \\\n",
       "0  2014-01-14              6    2.0           1.0    78746.8       2944.9   \n",
       "1  2014-01-14            657    2.0           5.0    89596.4       1005.3   \n",
       "2  2014-01-14            657    2.0           1.0     8238.0       2269.4   \n",
       "3  2014-01-14            657    2.0           2.0     3994.2        112.0   \n",
       "4  2014-01-14            657    2.0           7.0   439022.2       3518.7   \n",
       "5  2014-01-14            657    2.0           2.0     5230.6        720.5   \n",
       "6  2014-01-14            657    2.0           1.0    86264.5       4840.9   \n",
       "7  2014-01-14            657    2.0           1.0      745.7         41.8   \n",
       "8  2014-01-14            657    2.0           1.0    11386.0       3136.6   \n",
       "9  2014-01-14            657    2.0           1.0     2584.9        145.1   \n",
       "10 2014-01-14            657    2.0           1.0      813.0        224.0   \n",
       "11 2014-01-14            657    2.0           1.0     2070.2        570.3   \n",
       "12 2014-01-14            657    2.0           1.0     1116.8        307.7   \n",
       "13 2014-01-14            657    2.0           2.0    11331.5       1560.8   \n",
       "14 2014-01-14            657    2.0           1.0      588.2         33.0   \n",
       "15 2014-01-14            657    2.0           1.0     2795.4        770.1   \n",
       "16 2014-01-14            657    2.0           1.0     7060.4       1945.0   \n",
       "17 2014-01-14            657    2.0           1.0      588.5        162.1   \n",
       "18 2014-01-14            657    2.0          13.0    16379.3         70.7   \n",
       "19 2014-01-14            657    2.0           2.0     6844.7        192.0   \n",
       "\n",
       "    Density  Phylum or Class Taxonomic Identification  \n",
       "0      26.7  BACILLARIOPHYTA         Actinocyclus sp.  \n",
       "1      89.1  BACILLARIOPHYTA           Cyclotella sp.  \n",
       "2       3.6  BACILLARIOPHYTA       Cyclotella striata  \n",
       "3      35.7  BACILLARIOPHYTA            Encyonema sp.  \n",
       "4     124.8  BACILLARIOPHYTA      Entomoneis paludosa  \n",
       "5       7.3  BACILLARIOPHYTA            Epithemia sp.  \n",
       "6      17.8  BACILLARIOPHYTA            Frustulia sp.  \n",
       "7      17.8  BACILLARIOPHYTA           Gomphonema sp.  \n",
       "8       3.6  BACILLARIOPHYTA       Gyrosigma fasciola  \n",
       "9      17.8  BACILLARIOPHYTA           Halamphora sp.  \n",
       "10      3.6  BACILLARIOPHYTA   Navicula cryptotenella  \n",
       "11      3.6  BACILLARIOPHYTA     Nitzschia brevissima  \n",
       "12      3.6  BACILLARIOPHYTA      Nitzschia dissipata  \n",
       "13      7.3  BACILLARIOPHYTA       Nitzschia linearis  \n",
       "14     17.8  BACILLARIOPHYTA           Nitzschia spp.  \n",
       "15      3.6  BACILLARIOPHYTA  Cyclotella meneghiniana  \n",
       "16      3.6  BACILLARIOPHYTA           Nitzschia spp.  \n",
       "17      3.6  BACILLARIOPHYTA           Rhopalodia sp.  \n",
       "18    231.7  BACILLARIOPHYTA        Staurosira venter  \n",
       "19     35.7  BACILLARIOPHYTA        Thalassionema sp.  "
      ]
     },
     "execution_count": 11,
     "metadata": {},
     "output_type": "execute_result"
    }
   ],
   "source": [
    "# Look at the portion of the Phytoplankton DataFrame \n",
    "# where Actual count is not null.\n",
    "ph_counted_df = ph_df.loc[ph_df['Actual Count'].notnull()].sort_values('Date').reset_index(drop=True)\n",
    "                                  \n",
    "ph_counted_df.head(20)"
   ]
  },
  {
   "cell_type": "markdown",
   "metadata": {},
   "source": [
    "It appears that phytoplankton samples are typically only taken near the surface (e.g. 1 - 2 m depth). This makes sense; here's more light nearer the surface and phytoplankton need light.\n",
    "\n",
    "Also, each record appears to apply to a different Genus/species of phytoplankton. "
   ]
  },
  {
   "cell_type": "code",
   "execution_count": 12,
   "metadata": {},
   "outputs": [
    {
     "data": {
      "image/png": "[encoded data removed]",
      "text/plain": [
       "<Figure size 432x288 with 1 Axes>"
      ]
     },
     "metadata": {
      "needs_background": "light"
     },
     "output_type": "display_data"
    }
   ],
   "source": [
    "# Phytoplankton, actual count by depth\n",
    "\n",
    "ph_tmp_df = ph_counted_df.loc[:,['Depth', 'Actual Count']\n",
    "                       ].sort_values('Depth'\n",
    "                       ).reindex()\n",
    "\n",
    "ax = ph_tmp_df.plot(x='Depth', linestyle='none', marker='o', legend=False)\n",
    "\n",
    "# Set the x-axis label\n",
    "ax.set_xlabel(\"Depth, meters\")\n",
    "\n",
    "# Set the y-axis label\n",
    "ax.set_ylabel(\"Phytoplankton, Actual count\")\n",
    "\n",
    "ax.grid(True)\n",
    "# ax.set_xticklabels([], minor=True)\n",
    "\n",
    "plt.xlim(0,10)\n",
    "plt.show()"
   ]
  },
  {
   "cell_type": "markdown",
   "metadata": {},
   "source": [
    "Although \"Actual Count\" is only made at shallower levels, Density (cells/ml) has been sampled at deeper volumns, including samples taken between 34 and 36 meters.\n",
    "\n",
    "(I checked before setting the xticks; there is no data beyond 40 meters.)\n"
   ]
  },
  {
   "cell_type": "code",
   "execution_count": 13,
   "metadata": {},
   "outputs": [
    {
     "data": {
      "image/png": "[encoded data removed]",
      "text/plain": [
       "<Figure size 576x360 with 1 Axes>"
      ]
     },
     "metadata": {
      "needs_background": "light"
     },
     "output_type": "display_data"
    }
   ],
   "source": [
    "# Phytoplankton, density by depth, full dataset, with and without Actual Count\n",
    "\n",
    "ph_tmp_df = ph_df.loc[:,['Depth', 'Density']\n",
    "                       ].sort_values('Depth'\n",
    "                       ).reindex()\n",
    "\n",
    "xticks=(range(0,41,4))\n",
    "ax = ph_tmp_df.plot(x='Depth', linestyle='none', marker='.', logy=True, \n",
    "                    figsize=(8,5), legend=False, xticks=xticks)\n",
    "\n",
    "# Set the x-axis label\n",
    "ax.set_xlabel(\"Depth, meters\")\n",
    "\n",
    "# Set the y-axis label\n",
    "ax.set_ylabel(\"Phytoplankton, cells/mL\")\n",
    "\n",
    "ax.grid(True)\n",
    "\n",
    "plt.show()"
   ]
  },
  {
   "cell_type": "markdown",
   "metadata": {},
   "source": [
    "Density has not been measured at deeper levels in post-2014 samples."
   ]
  },
  {
   "cell_type": "code",
   "execution_count": 14,
   "metadata": {},
   "outputs": [
    {
     "data": {
      "image/png": "[encoded data removed]",
      "text/plain": [
       "<Figure size 576x360 with 1 Axes>"
      ]
     },
     "metadata": {
      "needs_background": "light"
     },
     "output_type": "display_data"
    }
   ],
   "source": [
    "# Phytoplankton, density by depth, post-2014 dataset \n",
    "# (Actual count != null)\n",
    "\n",
    "ph_tmp_df = ph_counted_df.loc[:,['Depth', 'Density']\n",
    "                       ].sort_values('Depth'\n",
    "                       ).reindex()\n",
    "\n",
    "xticks=(range(0,41,4))\n",
    "ax = ph_tmp_df.plot(x='Depth', linestyle='none', marker='.', \n",
    "                    figsize=(8,5), logy=True, legend=False, xticks=xticks)\n",
    "\n",
    "# Set the x-axis label\n",
    "ax.set_xlabel(\"Depth, meters\")\n",
    "\n",
    "# Set the y-axis label\n",
    "ax.set_ylabel(\"Phytoplankton, cells/mL\")\n",
    "\n",
    "ax.grid(True)\n",
    "\n",
    "plt.show()\n"
   ]
  },
  {
   "cell_type": "markdown",
   "metadata": {},
   "source": [
    "## Issue: Actual Count values are unexpected\n",
    "\n",
    "`Actual count` is described as \"Number of phytoplankton cells counted in the sample\". Sample size has not been provided.\n",
    "\n",
    "`Density` is described as \"Number of phytoplankton cells per milliliter of water.\"\n",
    "\n",
    "`Actual count` values seem to be at odds with `Density` values. Most \"actual counts\" are very small; the mean is 25 cells. But density is much larger; the mean is 2803.\n"
   ]
  },
  {
   "cell_type": "code",
   "execution_count": 15,
   "metadata": {},
   "outputs": [
    {
     "data": {
      "text/plain": [
       "count    16743.000000\n",
       "mean        25.164845\n",
       "std        113.539136\n",
       "min          1.000000\n",
       "25%          1.000000\n",
       "50%          2.000000\n",
       "75%          6.000000\n",
       "max       3195.000000\n",
       "Name: Actual Count, dtype: float64"
      ]
     },
     "execution_count": 15,
     "metadata": {},
     "output_type": "execute_result"
    }
   ],
   "source": [
    "# In the portion of the dataset where Actual Count has been included\n",
    "ph_counted_df['Actual Count'].describe() "
   ]
  },
  {
   "cell_type": "code",
   "execution_count": 16,
   "metadata": {
    "scrolled": false
   },
   "outputs": [
    {
     "name": "stdout",
     "output_type": "stream",
     "text": [
      "median Actual Count: 2.0\n",
      "mode: 1.0\n"
     ]
    }
   ],
   "source": [
    "print(\"median Actual Count:\", median(ph_counted_df['Actual Count']))\n",
    "print(\"mode:\", mode(ph_counted_df['Actual Count']))"
   ]
  },
  {
   "cell_type": "markdown",
   "metadata": {},
   "source": [
    "I asked my USGS contact. Her recommendation is that I ignore the `Actual Count` field. \n",
    "   * it's primarily a \"notation\" field; someone saw these cells under a microscope\n",
    "   * the sample size is indeterminable\n",
    "   * it's unrelated to the rest of the data\n",
    "   \n",
    "I will remove this column"
   ]
  },
  {
   "cell_type": "code",
   "execution_count": 17,
   "metadata": {},
   "outputs": [],
   "source": [
    "ph_df.drop(columns=['Actual Count'], inplace=True)\n",
    "\n",
    "del ph_units['Actual Count']"
   ]
  },
  {
   "cell_type": "markdown",
   "metadata": {},
   "source": [
    "### Question - if Density is low but Cell Volume is high, are these huge cells?\n",
    "\n",
    "Again, I asked my USGS contact, who confirmed. Her recommendation is to concentrate on Biovolume, ignoring Density and Cell Volume."
   ]
  },
  {
   "cell_type": "code",
   "execution_count": 18,
   "metadata": {
    "scrolled": true
   },
   "outputs": [],
   "source": [
    "ph_df.drop(columns=['Density', 'Cell Volume'], inplace=True)\n",
    "\n",
    "del ph_units['Density']\n",
    "del ph_units['Cell Volume']"
   ]
  },
  {
   "cell_type": "code",
   "execution_count": 19,
   "metadata": {
    "scrolled": true
   },
   "outputs": [
    {
     "data": {
      "text/html": [
       "<div>\n",
       "<style scoped>\n",
       "    .dataframe tbody tr th:only-of-type {\n",
       "        vertical-align: middle;\n",
       "    }\n",
       "\n",
       "    .dataframe tbody tr th {\n",
       "        vertical-align: top;\n",
       "    }\n",
       "\n",
       "    .dataframe thead th {\n",
       "        text-align: right;\n",
       "    }\n",
       "</style>\n",
       "<table border=\"1\" class=\"dataframe\">\n",
       "  <thead>\n",
       "    <tr style=\"text-align: right;\">\n",
       "      <th></th>\n",
       "      <th>Date</th>\n",
       "      <th>Station Number</th>\n",
       "      <th>Depth</th>\n",
       "      <th>Biovolume</th>\n",
       "      <th>Phylum or Class</th>\n",
       "      <th>Taxonomic Identification</th>\n",
       "    </tr>\n",
       "  </thead>\n",
       "  <tbody>\n",
       "    <tr>\n",
       "      <th>12843</th>\n",
       "      <td>2008-08-19</td>\n",
       "      <td>18</td>\n",
       "      <td>2.0</td>\n",
       "      <td>511.30000</td>\n",
       "      <td>DINOPHYCEAE</td>\n",
       "      <td>Amphidinium sphenoides</td>\n",
       "    </tr>\n",
       "    <tr>\n",
       "      <th>30997</th>\n",
       "      <td>2018-05-07</td>\n",
       "      <td>657</td>\n",
       "      <td>2.0</td>\n",
       "      <td>646.12763</td>\n",
       "      <td>BACILLARIOPHYTA</td>\n",
       "      <td>Unknown Diatom</td>\n",
       "    </tr>\n",
       "    <tr>\n",
       "      <th>21448</th>\n",
       "      <td>2015-10-15</td>\n",
       "      <td>657</td>\n",
       "      <td>2.0</td>\n",
       "      <td>14335.40000</td>\n",
       "      <td>CHLOROPHYTA</td>\n",
       "      <td>Chlamydomonas globosa</td>\n",
       "    </tr>\n",
       "    <tr>\n",
       "      <th>11261</th>\n",
       "      <td>2006-08-02</td>\n",
       "      <td>21</td>\n",
       "      <td>2.0</td>\n",
       "      <td>3298.60000</td>\n",
       "      <td>RAPHIDOPHYCEAE</td>\n",
       "      <td>Heterosigma akashiwo</td>\n",
       "    </tr>\n",
       "    <tr>\n",
       "      <th>1700</th>\n",
       "      <td>1994-02-17</td>\n",
       "      <td>32</td>\n",
       "      <td>2.0</td>\n",
       "      <td>2585.70000</td>\n",
       "      <td>BACILLARIOPHYTA</td>\n",
       "      <td>Gyrosigma fasciola</td>\n",
       "    </tr>\n",
       "    <tr>\n",
       "      <th>22091</th>\n",
       "      <td>2016-01-21</td>\n",
       "      <td>36</td>\n",
       "      <td>1.0</td>\n",
       "      <td>12935.50000</td>\n",
       "      <td>BACILLARIOPHYTA</td>\n",
       "      <td>Tryblionella compressa</td>\n",
       "    </tr>\n",
       "    <tr>\n",
       "      <th>8214</th>\n",
       "      <td>2002-04-22</td>\n",
       "      <td>32</td>\n",
       "      <td>2.0</td>\n",
       "      <td>250.00000</td>\n",
       "      <td>CYANOPHYCEAE</td>\n",
       "      <td>Synechocystis sp.</td>\n",
       "    </tr>\n",
       "    <tr>\n",
       "      <th>14773</th>\n",
       "      <td>2011-06-24</td>\n",
       "      <td>24</td>\n",
       "      <td>2.0</td>\n",
       "      <td>351603.00000</td>\n",
       "      <td>BACILLARIOPHYTA</td>\n",
       "      <td>Thalassiosira visurgis</td>\n",
       "    </tr>\n",
       "    <tr>\n",
       "      <th>6713</th>\n",
       "      <td>2000-03-29</td>\n",
       "      <td>30</td>\n",
       "      <td>2.0</td>\n",
       "      <td>171837.10000</td>\n",
       "      <td>BACILLARIOPHYTA</td>\n",
       "      <td>Skeletonema costatum</td>\n",
       "    </tr>\n",
       "    <tr>\n",
       "      <th>5963</th>\n",
       "      <td>1999-03-09</td>\n",
       "      <td>657</td>\n",
       "      <td>2.0</td>\n",
       "      <td>44962.60000</td>\n",
       "      <td>CRYPTOPHYTA</td>\n",
       "      <td>Plagioselmis prolonga</td>\n",
       "    </tr>\n",
       "  </tbody>\n",
       "</table>\n",
       "</div>"
      ],
      "text/plain": [
       "            Date Station Number  Depth     Biovolume  Phylum or Class  \\\n",
       "12843 2008-08-19             18    2.0     511.30000      DINOPHYCEAE   \n",
       "30997 2018-05-07            657    2.0     646.12763  BACILLARIOPHYTA   \n",
       "21448 2015-10-15            657    2.0   14335.40000      CHLOROPHYTA   \n",
       "11261 2006-08-02             21    2.0    3298.60000   RAPHIDOPHYCEAE   \n",
       "1700  1994-02-17             32    2.0    2585.70000  BACILLARIOPHYTA   \n",
       "22091 2016-01-21             36    1.0   12935.50000  BACILLARIOPHYTA   \n",
       "8214  2002-04-22             32    2.0     250.00000     CYANOPHYCEAE   \n",
       "14773 2011-06-24             24    2.0  351603.00000  BACILLARIOPHYTA   \n",
       "6713  2000-03-29             30    2.0  171837.10000  BACILLARIOPHYTA   \n",
       "5963  1999-03-09            657    2.0   44962.60000      CRYPTOPHYTA   \n",
       "\n",
       "      Taxonomic Identification  \n",
       "12843   Amphidinium sphenoides  \n",
       "30997           Unknown Diatom  \n",
       "21448    Chlamydomonas globosa  \n",
       "11261     Heterosigma akashiwo  \n",
       "1700        Gyrosigma fasciola  \n",
       "22091   Tryblionella compressa  \n",
       "8214         Synechocystis sp.  \n",
       "14773   Thalassiosira visurgis  \n",
       "6713      Skeletonema costatum  \n",
       "5963     Plagioselmis prolonga  "
      ]
     },
     "execution_count": 19,
     "metadata": {},
     "output_type": "execute_result"
    }
   ],
   "source": [
    "ph_df.sample(10)"
   ]
  },
  {
   "cell_type": "code",
   "execution_count": 20,
   "metadata": {},
   "outputs": [
    {
     "data": {
      "image/png": "[encoded data removed]",
      "text/plain": [
       "<Figure size 576x360 with 1 Axes>"
      ]
     },
     "metadata": {
      "needs_background": "light"
     },
     "output_type": "display_data"
    }
   ],
   "source": [
    "# Phytoplankton, density by depth, full dataset, with and without Actual Count\n",
    "\n",
    "ph_tmp_df = ph_df.loc[:,['Depth', 'Biovolume']\n",
    "                       ].sort_values('Depth'\n",
    "                       ).reindex()\n",
    "\n",
    "xticks=(range(0,41,4))\n",
    "ax = ph_tmp_df.plot(x='Depth', linestyle='none', marker='.', logy=True, \n",
    "                    figsize=(8,5), legend=False, xticks=xticks)\n",
    "\n",
    "# Set the x-axis label\n",
    "ax.set_xlabel(\"Depth, meters\")\n",
    "\n",
    "# Set the y-axis label\n",
    "ax.set_ylabel(\"Phytoplankton, cubic micrometers/mL\")\n",
    "\n",
    "ax.grid(True)\n",
    "\n",
    "plt.show()"
   ]
  },
  {
   "cell_type": "markdown",
   "metadata": {},
   "source": [
    "### Save Phytoplankton DataFrame to disk\n"
   ]
  },
  {
   "cell_type": "code",
   "execution_count": 21,
   "metadata": {},
   "outputs": [],
   "source": [
    "# Save our work\n",
    "ph_df.to_csv('Data/Phytoplankton.csv', index=False)"
   ]
  },
  {
   "cell_type": "markdown",
   "metadata": {},
   "source": [
    "Review first two lines of the new file on disk\n",
    "<small>\n",
    "    \n",
    "```\n",
    "Date,Station Number,Depth,Biovolume,Phylum or Class,Taxonomic Identification\n",
    "1992-04-01,30,1.0,47502.0,BACILLARIOPHYTA,Asterionellopsis glacialis\n",
    "```\n",
    "</small>"
   ]
  },
  {
   "cell_type": "markdown",
   "metadata": {},
   "source": [
    "We can read the data back in with \n",
    "```\n",
    "ph_df = pd.read_csv('Data/Phytoplankton.csv', \n",
    "                     header=0, \n",
    "                     parse_dates=['Date'],\n",
    "                     dtype={'Station Number' : str}\n",
    "```"
   ]
  },
  {
   "cell_type": "code",
   "execution_count": null,
   "metadata": {},
   "outputs": [],
   "source": []
  }
 ],
 "metadata": {
  "kernelspec": {
   "display_name": "Python 3",
   "language": "python",
   "name": "python3"
  },
  "language_info": {
   "codemirror_mode": {
    "name": "ipython",
    "version": 3
   },
   "file_extension": ".py",
   "mimetype": "text/x-python",
   "name": "python",
   "nbconvert_exporter": "python",
   "pygments_lexer": "ipython3",
   "version": "3.7.3"
  }
 },
 "nbformat": 4,
 "nbformat_minor": 2
}
