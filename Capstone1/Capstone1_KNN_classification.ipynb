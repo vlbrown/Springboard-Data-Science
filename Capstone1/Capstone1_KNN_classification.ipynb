{
 "cells": [
  {
   "cell_type": "markdown",
   "metadata": {},
   "source": [
    "# Nearest Neighbors Classification\n",
    "\n",
    "\n",
    "Sample usage 2 of Nearest Neighbors classification.\n",
    "It will plot the decision boundaries for each class.\n",
    "\n",
    "Code from [benalexkeen.com](http://benalexkeen.com/k-nearest-neighbours-classification-in-python/)\n"
   ]
  },
  {
   "cell_type": "code",
   "execution_count": 1,
   "metadata": {
    "ExecuteTime": {
     "end_time": "2019-12-31T20:52:36.413359Z",
     "start_time": "2019-12-31T20:52:33.831534Z"
    }
   },
   "outputs": [],
   "source": [
    "import numpy as np\n",
    "import pandas as pd\n",
    "\n",
    "import matplotlib.pyplot as plt\n",
    "from matplotlib.colors import ListedColormap\n",
    "\n",
    "from sklearn import neighbors\n",
    "from sklearn import preprocessing\n",
    "from sklearn.metrics import accuracy_score\n",
    "from sklearn.model_selection import train_test_split\n",
    "from sklearn.model_selection import cross_val_score\n"
   ]
  },
  {
   "cell_type": "code",
   "execution_count": 2,
   "metadata": {
    "ExecuteTime": {
     "end_time": "2019-12-31T20:52:53.013922Z",
     "start_time": "2019-12-31T20:52:36.424164Z"
    }
   },
   "outputs": [],
   "source": [
    "# import data \n",
    "wq_df = pd.read_csv('Data/SFBayWaterQualityCleaned.csv', \n",
    "                    header=0, \n",
    "                    parse_dates=['DateTime', 'Date'],\n",
    "                    dtype={'Station' : str}\n",
    "                    )\n",
    "\n",
    "# Station Groups\n",
    "# 0: South Bay \n",
    "# 1: Central Bay\n",
    "# 2: Golden Gate\n",
    "# 3: San Pablo Bay\n",
    "# 4: Suisun Bay\n",
    "# 5: Sacramento River\n",
    "\n",
    "st_group = {0: ['36', '35', '34', '33', '32', '31', '30', '29.5'], \n",
    "            1: ['29', '28.5', '28', '27', '26', '25', '24', '23'], \n",
    "            2: ['22', '21', '20', '19', '18', '17', '16', '15'], \n",
    "            3: ['14', '13', '12.5', '12', '11', '10', '9', '8'], \n",
    "            4: ['405', '7', '6', '5', '411', '407', '4', '3'], \n",
    "            5: ['2', '649', '650', '651', '652', '653', '654', \n",
    "                '655', '657', '659', '662']}\n",
    "\n",
    "def label_group (row):\n",
    "    #print(\"station\", row['Station'])\n",
    "    for gid in st_group:\n",
    "        #print(\"gid\", gid)\n",
    "        if (row['Station'] in st_group[gid]):\n",
    "            #print(row['Station'], \"matches group\", gid)\n",
    "            return(gid)\n",
    "            \n",
    "wq_df['Station_group'] = wq_df.apply(lambda row: label_group(row), axis=1)\n",
    "\n",
    "wq_df_sub = wq_df[(wq_df.Date >= '2019-06-04') & \n",
    "                       (wq_df.Date < '2019-06-05') &\n",
    "                       (wq_df['Salinity'].notnull()) &\n",
    "                       (wq_df['Temperature'].notnull()) &\n",
    "                       (wq_df['Calculated Chlorophyll'].notnull())\n",
    "                     ]\n",
    "\n",
    "working_df = wq_df_sub[['Salinity', 'Temperature', \n",
    "                        'Calculated Chlorophyll', 'Station_group']].copy()\n",
    "working_df.Station_group = working_df.Station_group.astype('str')\n"
   ]
  },
  {
   "cell_type": "code",
   "execution_count": 3,
   "metadata": {
    "ExecuteTime": {
     "end_time": "2019-12-31T20:52:53.025353Z",
     "start_time": "2019-12-31T20:52:53.017534Z"
    }
   },
   "outputs": [],
   "source": [
    "# create design matrix X and target vector y\n",
    "y = working_df['Station_group'].values\n",
    "X = working_df.drop('Station_group', axis=1).values\n"
   ]
  },
  {
   "cell_type": "code",
   "execution_count": 4,
   "metadata": {
    "ExecuteTime": {
     "end_time": "2019-12-31T20:52:53.034517Z",
     "start_time": "2019-12-31T20:52:53.028790Z"
    }
   },
   "outputs": [],
   "source": [
    "scaler = preprocessing.MinMaxScaler()\n",
    "X = scaler.fit_transform(X)"
   ]
  },
  {
   "cell_type": "code",
   "execution_count": 5,
   "metadata": {
    "ExecuteTime": {
     "end_time": "2019-12-31T20:52:53.045639Z",
     "start_time": "2019-12-31T20:52:53.037326Z"
    }
   },
   "outputs": [],
   "source": [
    "X_train, X_test, y_train, y_test = train_test_split(X, y, random_state=1)"
   ]
  },
  {
   "cell_type": "code",
   "execution_count": 6,
   "metadata": {
    "ExecuteTime": {
     "end_time": "2019-12-31T20:52:53.074082Z",
     "start_time": "2019-12-31T20:52:53.055642Z"
    }
   },
   "outputs": [
    {
     "data": {
      "text/plain": [
       "array([[-0.06579745, -0.18485226],\n",
       "       [-0.49343477, -0.01874382],\n",
       "       [-0.51965877,  0.03854279],\n",
       "       [-0.47481328, -0.24379343],\n",
       "       [-0.50550093, -0.12795334]])"
      ]
     },
     "execution_count": 6,
     "metadata": {},
     "output_type": "execute_result"
    }
   ],
   "source": [
    "from sklearn.decomposition import PCA\n",
    "\n",
    "pca_model = PCA(n_components=2)\n",
    "pca_model.fit(X_train)\n",
    "X_train = pca_model.transform(X_train)\n",
    "X_test = pca_model.transform(X_test)\n",
    "\n",
    "# 2-Dimensions\n",
    "X_train[:5]\n"
   ]
  },
  {
   "cell_type": "code",
   "execution_count": 7,
   "metadata": {
    "ExecuteTime": {
     "end_time": "2019-12-31T20:52:53.090357Z",
     "start_time": "2019-12-31T20:52:53.077257Z"
    }
   },
   "outputs": [
    {
     "data": {
      "text/plain": [
       "KNeighborsClassifier(algorithm='auto', leaf_size=30, metric='minkowski',\n",
       "                     metric_params=None, n_jobs=None, n_neighbors=5, p=2,\n",
       "                     weights='uniform')"
      ]
     },
     "execution_count": 7,
     "metadata": {},
     "output_type": "execute_result"
    }
   ],
   "source": [
    "# instantiate learning model \n",
    "k = 5\n",
    "knn_model = neighbors.KNeighborsClassifier(n_neighbors=k)\n",
    "\n",
    "# fit the model\n",
    "knn_model.fit(X_train, y_train) "
   ]
  },
  {
   "cell_type": "code",
   "execution_count": 9,
   "metadata": {
    "ExecuteTime": {
     "end_time": "2019-12-31T21:02:13.227069Z",
     "start_time": "2019-12-31T21:02:13.204120Z"
    },
    "scrolled": true
   },
   "outputs": [
    {
     "name": "stdout",
     "output_type": "stream",
     "text": [
      "accuracy: 0.9663865546218487\n"
     ]
    }
   ],
   "source": [
    "# predict the response\n",
    "y_predict = knn_model.predict(X_test)\n",
    "\n",
    "# evaluate accuracy\n",
    "print(\"accuracy: {}\".format(accuracy_score(y_test, y_predict)))"
   ]
  },
  {
   "cell_type": "code",
   "execution_count": 10,
   "metadata": {
    "ExecuteTime": {
     "end_time": "2019-12-31T21:02:17.658821Z",
     "start_time": "2019-12-31T21:02:17.028731Z"
    }
   },
   "outputs": [
    {
     "data": {
      "image/png": "[encoded data removed]",
      "text/plain": [
       "<Figure size 864x648 with 1 Axes>"
      ]
     },
     "metadata": {},
     "output_type": "display_data"
    }
   ],
   "source": [
    "# Plot the results\n",
    "colors = {0: 'violet', 1: 'indigo', 2: 'palegreen', \n",
    "          3: 'orange', 4: 'yellow', 5: 'red'\n",
    "         }\n",
    "\n",
    "plt.style.use('ggplot') \n",
    "\n",
    "fig = plt.figure(figsize=(12, 9))\n",
    "ax = fig.add_subplot(111)\n",
    "padding = 0.1\n",
    "resolution = 0.1\n",
    "\n",
    "x_min, x_max = X_train[:, 0].min(), X_train[:, 0].max()\n",
    "y_min, y_max = X_train[:, 1].min(), X_train[:, 1].max()\n",
    "x_range = x_max - x_min\n",
    "y_range = y_max - y_min\n",
    "x_min -= x_range * padding\n",
    "y_min -= y_range * padding\n",
    "x_max += x_range * padding\n",
    "y_max += y_range * padding\n",
    "\n",
    "# Get decision boundaries from model\n",
    "xx, yy = np.meshgrid(np.arange(x_min, x_max, resolution),\n",
    "                     np.arange(y_min, y_max, resolution))\n",
    "\n",
    "Z = knn_model.predict(np.c_[xx.ravel(), yy.ravel()])\n",
    "Z = Z.reshape(xx.shape)\n",
    "\n",
    "# Plot the contour map\n",
    "plt.contourf(xx, yy, Z, cmap=plt.cm.Spectral)\n",
    "plt.axis('tight')\n",
    "\n",
    "# Plot your testing points as well\n",
    "for label in np.unique(y_test):\n",
    "    l = int(label)\n",
    "    indices = np.where(y_test == label)\n",
    "    plt.scatter(X_test[indices, 0], X_test[indices, 1], c=colors[l], alpha=0.8, \n",
    "               label='Station group {}'.format(label))\n",
    "\n",
    "plt.legend(loc='lower right')\n",
    "plt.title('K = {}'.format(k))\n",
    "plt.show()"
   ]
  },
  {
   "cell_type": "markdown",
   "metadata": {},
   "source": [
    "The plot implies that I might get better results if I adjust station groups 2, 3, and 4 slightly."
   ]
  },
  {
   "cell_type": "code",
   "execution_count": null,
   "metadata": {},
   "outputs": [],
   "source": []
  }
 ],
 "metadata": {
  "kernelspec": {
   "display_name": "Python 3",
   "language": "python",
   "name": "python3"
  },
  "language_info": {
   "codemirror_mode": {
    "name": "ipython",
    "version": 3
   },
   "file_extension": ".py",
   "mimetype": "text/x-python",
   "name": "python",
   "nbconvert_exporter": "python",
   "pygments_lexer": "ipython3",
   "version": "3.7.3"
  }
 },
 "nbformat": 4,
 "nbformat_minor": 2
}
