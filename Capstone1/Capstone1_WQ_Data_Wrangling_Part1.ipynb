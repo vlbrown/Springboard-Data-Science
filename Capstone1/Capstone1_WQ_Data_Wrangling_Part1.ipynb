{
 "cells": [
  {
   "cell_type": "markdown",
   "metadata": {},
   "source": [
    "## Capstone 1 \n",
    "# San Francisco Bay Water Quality\n",
    "\n",
    "ref. [Water quality of SF Bay home page](https://sfbay.wr.usgs.gov/access/wqdata/index.html)\n",
    "     \n",
    "     "
   ]
  },
  {
   "cell_type": "markdown",
   "metadata": {},
   "source": [
    "## Unit 5 - Data Wrangling, part 1\n",
    "\n",
    "### Tasks\n",
    "\n",
    "The first step in completing your capstone project is to collect data. Depending on your dataset, you may apply some of the data wrangling techniques that you learned in this unit.\n",
    "\n",
    "Include answers to these questions in your submission:\n",
    "   * What kind of cleaning steps did you perform?\n",
    "\n",
    "   * How did you deal with missing values, if any?\n",
    "\n",
    "   * Were there outliers, and how did you handle them?\n"
   ]
  },
  {
   "cell_type": "markdown",
   "metadata": {},
   "source": [
    "## Data Acquisition\n",
    "\n",
    "### Water Quality Data\n",
    "\n",
    "#### Access\n",
    "   1. Water quality data, 1969 - 2019, requested via query form. No API is available.\n",
    "   [Expert query](https://sfbay.wr.usgs.gov/access/wqdata/query/expert.html) in three chunks, saved as CSV files\n",
    "      1. Julian Date < 1999001 <br/>\n",
    "      2. 1999001 < Julian Date < 2009001 <br/>\n",
    "      3. Julian Date > 2009001 <br/>\n",
    "\n",
    "      \n",
    "**Note**: Water quality data is also available for download from [ScienceBase](https://www.sciencebase.gov/catalog/item/5841f97ee4b04fc80e518d9f); however, that archive includes fewer parameters and is not as up to date as the database at sfbay.wr.usgs.gov.\n",
    "\n",
    "#### Files\n",
    "   1. `SFBayWaterQuality1969-1998.csv` \n",
    "   2. `SFBayWaterQuality1999-2008.csv`\n",
    "   3. `SFBayWaterQuality2009-2019.csv`\n",
    "\n",
    "   \n",
    "#### Data Format\n",
    "\n",
    "All files are formatted as CSV (comma-separated values) with 27 columns.\n",
    "\n",
    "WaterQuality files have two header rows; the second row shows units of measure. \n",
    "\n",
    "<small>\n",
    "\n",
    "```\n",
    "Date, Time, Station Number, Distance from 36, Depth, Discrete Chlorophyll, Chlorophyll a/a+PHA, Fluorescence, Calculated Chlorophyll, Discrete Oxygen, Oxygen Electrode Output, Oxygen Saturation %, Calculated Oxygen, Discrete SPM, Optical Backscatter, Calculated SPM, Measured Extinction Coefficient, Calculated Extinction Coefficient, Salinity, Temperature, Sigma-t, Nitrite, Nitrate + Nitrite, Ammonium, Phosphate, Silicate\n",
    "```\n",
    "```\n",
    "MM/DD/YYYY, 24 hr., , [km], [meters], [mg/m3], , [volts], [mg/m3], [mg/L], [volts], , [mg/L], [mg/L], [volts], [mg/L], [per meter], [per meter], [psu], [°C], [kg/m3], [µM], [µM], [µM], [µM], [µM]\n",
    "```\n",
    "</small>\n",
    "\n",
    "\n",
    "\n"
   ]
  },
  {
   "cell_type": "markdown",
   "metadata": {},
   "source": [
    "## Setup\n",
    "\n",
    "Import libraries"
   ]
  },
  {
   "cell_type": "code",
   "execution_count": null,
   "metadata": {},
   "outputs": [],
   "source": [
    "# Import useful libraries\n",
    "\n",
    "import pandas as pd\n",
    "import matplotlib.pyplot as plt\n",
    "import datetime\n",
    "import re\n",
    "import json\n"
   ]
  },
  {
   "cell_type": "markdown",
   "metadata": {},
   "source": [
    "## Read in the Water Quality data"
   ]
  },
  {
   "cell_type": "code",
   "execution_count": null,
   "metadata": {
    "scrolled": true
   },
   "outputs": [],
   "source": [
    "# Read in the Water Quality data\n",
    "wq_df1 = pd.read_csv('Data/orig/SFBayWaterQuality1969-1998.csv', header=[0,1])\n",
    "wq_df2 = pd.read_csv('Data/orig/SFBayWaterQuality1999-2008.csv', header=[0,1])\n",
    "wq_df3 = pd.read_csv('Data/orig/SFBayWaterQuality2009-2019.csv', header=[0,1])"
   ]
  },
  {
   "cell_type": "markdown",
   "metadata": {},
   "source": [
    "## Combine datasets\n",
    "\n",
    "The three water quallity DataFrames have identical columns and can easily be concatenated into one file."
   ]
  },
  {
   "cell_type": "code",
   "execution_count": null,
   "metadata": {},
   "outputs": [],
   "source": [
    "# Concatenate water quality DataFrames\n",
    "wq_df = pd.concat([wq_df1, wq_df2, wq_df3]).reset_index(drop=True)"
   ]
  },
  {
   "cell_type": "code",
   "execution_count": null,
   "metadata": {
    "scrolled": true
   },
   "outputs": [],
   "source": [
    "# Examine the new DataFrame\n",
    "wq_df.sample(20)"
   ]
  },
  {
   "cell_type": "markdown",
   "metadata": {},
   "source": [
    "We can now ignore the original Water Quality files / DFs and use the concatenated DF containing all data from 1969 to 2019."
   ]
  },
  {
   "cell_type": "markdown",
   "metadata": {},
   "source": [
    "### Handle multi-level index for water quality columns\n",
    "\n",
    "The original Water Quality CSV files had two-row column headers. The second level is units.\n",
    "\n",
    "```\n",
    "wq_df.columns\n",
    "```\n",
    "<small>\n",
    "\n",
    "```\n",
    "MultiIndex([(                             'Date',          'MM/DD/YYYY'),\n",
    "            (                             'Time',              '24 hr.'),\n",
    "            (                   'Station Number',  'Unnamed: 2_level_1'),\n",
    "            (                 'Distance from 36',                '[km]'),\n",
    "            (                            'Depth',            '[meters]'),\n",
    "            (             'Discrete Chlorophyll',             '[mg/m3]'),\n",
    "            (              'Chlorophyll a/a+PHA',  'Unnamed: 6_level_1'),\n",
    "            (                     'Fluorescence',             '[volts]'),\n",
    "            (           'Calculated Chlorophyll',             '[mg/m3]'),\n",
    "            (                  'Discrete Oxygen',              '[mg/L]'),\n",
    "            (          'Oxygen Electrode Output',             '[volts]'),\n",
    "            (              'Oxygen Saturation %', 'Unnamed: 11_level_1'),\n",
    "            (                'Calculated Oxygen',              '[mg/L]'),\n",
    "            (                     'Discrete SPM',              '[mg/L]'),\n",
    "            (              'Optical Backscatter',             '[volts]'),\n",
    "            (                   'Calculated SPM',              '[mg/L]'),\n",
    "            (  'Measured Extinction Coefficient',         '[per meter]'),\n",
    "            ('Calculated Extinction Coefficient',         '[per meter]'),\n",
    "            (                         'Salinity',               '[psu]'),\n",
    "            (                      'Temperature',                '[°C]'),\n",
    "            (                          'Sigma-t',             '[kg/m3]'),\n",
    "            (                          'Nitrite',                '[µM]'),\n",
    "            (                'Nitrate + Nitrite',                '[µM]'),\n",
    "            (                         'Ammonium',                '[µM]'),\n",
    "            (                        'Phosphate',                '[µM]'),\n",
    "            (                         'Silicate',                '[µM]')],\n",
    "           )\n",
    "```\n",
    "</small>\n",
    "\n",
    "It will be easier to work with the data if I save the units into a dictionary and change the DataFrame to only have one level of headers."
   ]
  },
  {
   "cell_type": "code",
   "execution_count": null,
   "metadata": {},
   "outputs": [],
   "source": [
    "# create a dictionary of Water Quality parameters and units\n",
    "wq_units = {}\n",
    "for param, unit in wq_df.columns:\n",
    "    if 'Unnamed:' in unit:\n",
    "        # handle fields with no units\n",
    "        unit = ''\n",
    "    wq_units[param] = unit\n",
    "    \n",
    "wq_units"
   ]
  },
  {
   "cell_type": "code",
   "execution_count": null,
   "metadata": {
    "scrolled": true
   },
   "outputs": [],
   "source": [
    "# Reset the Water Quality column headers\n",
    "wq_df.columns = wq_units.keys()\n",
    "\n",
    "wq_df.columns"
   ]
  },
  {
   "cell_type": "markdown",
   "metadata": {},
   "source": [
    "### Convert Date/Time columns to DateTime\n",
    "\n",
    "The initial dataset has a Date column and a Time column, both in non-standard format. It will be useful to have a single DateTime column.\n",
    "\n",
    "Issues:\n",
    "   * The initial Date column is type `string`, M/D/YYYY, with no leading zeroes on day or month, possibly with a leading space. Conveniently, `pd.to_datetime` is able to convert this to DateTime format without trouble.\n",
    "   * The initial Time column is type `int`, with no leading zeroes on the hour. To concatenate this to the Date column, I need it to be type `string`, 0-padded.\n",
    "\n",
    "When I have two strings, I can concatenate them into a new DateTime column and covert that to DateTime format."
   ]
  },
  {
   "cell_type": "code",
   "execution_count": null,
   "metadata": {
    "scrolled": true
   },
   "outputs": [],
   "source": [
    "# Convert the Date field to datetime format\n",
    "# 6/4/2010 => 2019-06-04\n",
    "wq_df['Date'] = pd.to_datetime(wq_df['Date'])\n",
    "\n",
    "# Convert back to string\n",
    "wq_df['Date'] = wq_df['Date'].astype('str')\n",
    "\n",
    "# convert Time field from int to str\n",
    "wq_df['Time'] = wq_df['Time'].astype('str')\n",
    "\n",
    "# 0-pad Time values\n",
    "wq_df['Time'] = wq_df['Time'].transform(lambda x: x.rjust(4,'0')) \n",
    "\n",
    "# create a new DateTime field by concatenating the strings\n",
    "wq_df['DateTime'] = wq_df['Date'].str.cat(wq_df['Time'],sep=' ')\n",
    "\n",
    "# convert the new field to DateTime format\n",
    "wq_df['DateTime'] = pd.to_datetime(wq_df['DateTime'])\n",
    "\n"
   ]
  },
  {
   "cell_type": "code",
   "execution_count": null,
   "metadata": {
    "scrolled": true
   },
   "outputs": [],
   "source": [
    "# Move the new DateTime column to the front of the DataFrame\n",
    "cols = list(wq_df.columns)    # get the list of columns\n",
    "cols = [cols[-1]] + cols[:-1] # rearrange the list\n",
    "\n",
    "wq_df = wq_df[cols]   # rearrange the columns\n",
    "\n",
    "wq_df.columns"
   ]
  },
  {
   "cell_type": "code",
   "execution_count": null,
   "metadata": {},
   "outputs": [],
   "source": [
    "# Update the Water Quality units dictionary with the enhanced date data\n",
    "wq_units['Date'] = 'YYYY-MM-DD'\n",
    "wq_units['DateTime'] = 'YYYY-MM-DD HH:MM:SS'\n"
   ]
  },
  {
   "cell_type": "code",
   "execution_count": null,
   "metadata": {},
   "outputs": [],
   "source": [
    "# Save the DataFrame to CSV\n",
    "wq_df.to_csv('Data/orig/SFBayWaterQualityCombined.csv', index=False)"
   ]
  },
  {
   "cell_type": "markdown",
   "metadata": {},
   "source": [
    "## Remove Columns that are not useful\n",
    "\n",
    "**Optical Backscatter** \n",
    "\n",
    "According to the data dictionary, due to sensor changes and gain differences, this value is only comparable within cruises and may not be comparable between cruises.\n",
    "\n",
    "Thus, I will remove this column."
   ]
  },
  {
   "cell_type": "code",
   "execution_count": null,
   "metadata": {},
   "outputs": [],
   "source": [
    "wq_df.drop(columns=['Optical Backscatter'], inplace=True)"
   ]
  },
  {
   "cell_type": "code",
   "execution_count": null,
   "metadata": {
    "scrolled": true
   },
   "outputs": [],
   "source": [
    "del wq_units['Optical Backscatter']"
   ]
  },
  {
   "cell_type": "markdown",
   "metadata": {},
   "source": [
    "Calculated clorophyll, SPM, and O2 values are determined using linear regression between the discrete values and othe measurements. \n",
    "\n",
    "My USGS contact has suggested that I ignore the \"discrete\" values going forward. I will remove these from the dataset."
   ]
  },
  {
   "cell_type": "code",
   "execution_count": null,
   "metadata": {},
   "outputs": [],
   "source": [
    "wq_df.drop(columns=['Discrete Chlorophyll', 'Discrete Oxygen', 'Discrete SPM'\n",
    "                   ], inplace=True)"
   ]
  },
  {
   "cell_type": "code",
   "execution_count": null,
   "metadata": {},
   "outputs": [],
   "source": [
    "del wq_units['Discrete Chlorophyll']\n",
    "del wq_units['Discrete Oxygen']\n",
    "del wq_units['Discrete SPM']"
   ]
  },
  {
   "cell_type": "markdown",
   "metadata": {},
   "source": [
    "Convert Station numbers to strings and remove unnecessary trailing `.0`. \n",
    "\n",
    "Also, shorten the column name to one word for ease of use."
   ]
  },
  {
   "cell_type": "code",
   "execution_count": null,
   "metadata": {
    "scrolled": true
   },
   "outputs": [],
   "source": [
    "wq_df['Station Number'] = wq_df['Station Number'].astype(str)"
   ]
  },
  {
   "cell_type": "code",
   "execution_count": null,
   "metadata": {
    "scrolled": true
   },
   "outputs": [],
   "source": [
    "wq_df['Station Number'] =  [x.replace('.0', '') for x in wq_df['Station Number']]"
   ]
  },
  {
   "cell_type": "code",
   "execution_count": null,
   "metadata": {},
   "outputs": [],
   "source": [
    "wq_df.rename(columns={\"Station Number\": \"Station\"}, inplace=True)"
   ]
  },
  {
   "cell_type": "markdown",
   "metadata": {},
   "source": [
    "I no longer need the Time column however, I will keep the Date column for now."
   ]
  },
  {
   "cell_type": "code",
   "execution_count": null,
   "metadata": {},
   "outputs": [],
   "source": [
    "wq_df.drop(columns=['Time'], inplace=True)\n",
    "del wq_units['Time']"
   ]
  },
  {
   "cell_type": "code",
   "execution_count": null,
   "metadata": {},
   "outputs": [],
   "source": [
    "# Save the units dictionary\n",
    "with open('Data/water_quality_units.json', 'w') as fp:\n",
    "    json.dump(wq_units, fp)"
   ]
  },
  {
   "cell_type": "code",
   "execution_count": null,
   "metadata": {},
   "outputs": [],
   "source": [
    "# Save the DataFrame to CSV\n",
    "wq_df.to_csv('Data/SFBayWaterQualityCleaned.csv', index=False)"
   ]
  },
  {
   "cell_type": "markdown",
   "metadata": {},
   "source": [
    "<hr style=\"border: 5px solid green;\">"
   ]
  },
  {
   "cell_type": "markdown",
   "metadata": {},
   "source": [
    "Next time, we can read the data in with\n",
    "```\n",
    "wq_df = pd.read_csv('Data/SFBayWaterQuality.csv', \n",
    "                    header=0, \n",
    "                    parse_dates=['DateTime', 'Date', 'Time'],\n",
    "                    dtype={'Station' : str}\n",
    "                    )\n",
    "\n",
    "\n",
    "with open('Data/water_quality_units.json', 'r') as f:\n",
    "    wq_units = json.load(f)\n",
    "\n",
    "```"
   ]
  },
  {
   "cell_type": "code",
   "execution_count": null,
   "metadata": {},
   "outputs": [],
   "source": []
  }
 ],
 "metadata": {
  "kernelspec": {
   "display_name": "Python 3",
   "language": "python",
   "name": "python3"
  },
  "language_info": {
   "codemirror_mode": {
    "name": "ipython",
    "version": 3
   },
   "file_extension": ".py",
   "mimetype": "text/x-python",
   "name": "python",
   "nbconvert_exporter": "python",
   "pygments_lexer": "ipython3",
   "version": "3.7.3"
  }
 },
 "nbformat": 4,
 "nbformat_minor": 2
}
