{
 "cells": [
  {
   "cell_type": "markdown",
   "metadata": {},
   "source": [
    "##### Springboard Unit 5 - API mini project\n",
    "\n",
    "### Vicki Brown - August 15, 2019"
   ]
  },
  {
   "cell_type": "markdown",
   "metadata": {},
   "source": [
    "This exercise will require you to pull some data from the Qunadl API. Qaundl is currently the most widely used aggregator of financial market data."
   ]
  },
  {
   "cell_type": "markdown",
   "metadata": {},
   "source": [
    "As a first step, you will need to register a free account on the http://www.quandl.com website.\n",
    "\n",
    "After you register, you will be provided with a unique API key, that you should store:"
   ]
  },
  {
   "cell_type": "code",
   "execution_count": 1,
   "metadata": {},
   "outputs": [],
   "source": [
    "# Store the API key as a string - per PEP8, constants should always be named in all upper case\n",
    "API_KEY = ''"
   ]
  },
  {
   "cell_type": "markdown",
   "metadata": {},
   "source": [
    "**Delete the API KEY before posting the final notebook file**"
   ]
  },
  {
   "cell_type": "markdown",
   "metadata": {},
   "source": [
    "Qaundl has a large number of data sources, but, unfortunately, most of them require a Premium subscription. Still, there are also a good number of free datasets.\n",
    "\n",
    "For this mini project, we will focus on equities data from the Frankfurt Stock Exchange (FSE), which is available for free. We'll try and analyze the stock prices of a company called Carl Zeiss Meditec, which manufactures tools for eye examinations, as well as medical lasers for laser eye surgery: https://www.zeiss.com/meditec/int/home.html. The company is listed under the stock ticker AFX_X.\n",
    "\n",
    "You can find the detailed Quandl API instructions here: https://docs.quandl.com/docs/time-series.\n",
    "\n",
    "Further information on the data fed is at https://www.quandl.com/data/FSE-Frankfurt-Stock-Exchange?keyword=AFX_X."
   ]
  },
  {
   "cell_type": "markdown",
   "metadata": {},
   "source": [
    "While there is a dedicated Python package for connecting to the Quandl API, we would prefer that you use the *requests* package, which can be easily downloaded using *pip* or *conda*. You can find the documentation for the package here: http://docs.python-requests.org/en/master/.\n",
    "\n",
    "Finally, apart from the *requests* package, you are encouraged to not use any third party Python packages, such as *pandas*, and instead focus on what's available in the Python Standard Library (the *collections* module might come in handy: https://pymotw.com/3/collections/ ).\n",
    "\n",
    "Also, since you won't have access to DataFrames, you are encouraged to use Python's native data structures - preferably dictionaries, though some questions can also be answered using lists. You can read more on these data structures here: https://docs.python.org/3/tutorial/datastructures.html\n",
    "\n",
    "Keep in mind that the JSON responses you will be getting from the API map almost one-to-one to Python's dictionaries. Unfortunately, they can be very nested, so make sure you read up on indexing dictionaries in the documentation provided above."
   ]
  },
  {
   "cell_type": "markdown",
   "metadata": {},
   "source": [
    "## Setup"
   ]
  },
  {
   "cell_type": "code",
   "execution_count": 2,
   "metadata": {},
   "outputs": [],
   "source": [
    "# Import the relevant modules\n",
    "import collections\n",
    "import requests\n",
    "import json\n"
   ]
  },
  {
   "cell_type": "code",
   "execution_count": 3,
   "metadata": {},
   "outputs": [
    {
     "data": {
      "text/plain": [
       "True"
      ]
     },
     "execution_count": 3,
     "metadata": {},
     "output_type": "execute_result"
    }
   ],
   "source": [
    "# Now, call the Quandl API and pull out a small sample of the data (only one day) to get a glimpse\n",
    "# into the JSON structure that will be returned\n",
    "#\n",
    "# Quandl product overview: https://www.quandl.com/data/FSE-Frankfurt-Stock-Exchange/documentation\n",
    "#\n",
    "# API Usage:\n",
    "#   https://www.quandl.com/api/v3/datasets/{Quandl_Code}/data.format?parameters&api_key={API_KEY}\n",
    "#   {Quandl_Code} = FSE/{company_code}_X\n",
    "#   company_code = AFX\n",
    "# https://www.quandl.com/api/v3/datasets/FSE/AFX_X/data.json\n",
    "\n",
    "quandl_url = 'https://www.quandl.com/api/v3/datasets/'\n",
    "quandl_code = 'FSE/AFX_X'\n",
    "data_type = 'json'\n",
    "parameters = 'start_date=2019-08-01&end_date=2019-08-01'\n",
    "api_url = f'{quandl_url}{quandl_code}/data.{data_type}?{parameters}&api_key={API_KEY}' \n",
    "\n",
    "r = requests.get(api_url)\n",
    "\n",
    "# r.status_code == 200\n",
    "r.status_code == requests.codes.ok"
   ]
  },
  {
   "cell_type": "markdown",
   "metadata": {},
   "source": [
    "## Examine the data"
   ]
  },
  {
   "cell_type": "code",
   "execution_count": 4,
   "metadata": {
    "scrolled": true
   },
   "outputs": [
    {
     "name": "stdout",
     "output_type": "stream",
     "text": [
      "{\n",
      "  \"dataset_data\": {\n",
      "    \"limit\": null,\n",
      "    \"transform\": null,\n",
      "    \"column_index\": null,\n",
      "    \"column_names\": [\n",
      "      \"Date\",\n",
      "      \"Open\",\n",
      "      \"High\",\n",
      "      \"Low\",\n",
      "      \"Close\",\n",
      "      \"Change\",\n",
      "      \"Traded Volume\",\n",
      "      \"Turnover\",\n",
      "      \"Last Price of the Day\",\n",
      "      \"Daily Traded Units\",\n",
      "      \"Daily Turnover\"\n",
      "    ],\n",
      "    \"start_date\": \"2019-08-01\",\n",
      "    \"end_date\": \"2019-08-01\",\n",
      "    \"frequency\": \"daily\",\n",
      "    \"data\": [\n",
      "      [\n",
      "        \"2019-08-01\",\n",
      "        99.6,\n",
      "        100.7,\n",
      "        99.3,\n",
      "        100.5,\n",
      "        null,\n",
      "        102399.0,\n",
      "        10267086.0,\n",
      "        null,\n",
      "        null,\n",
      "        null\n",
      "      ]\n",
      "    ],\n",
      "    \"collapse\": null,\n",
      "    \"order\": null\n",
      "  }\n",
      "}\n"
     ]
    }
   ],
   "source": [
    "# Inspect the JSON structure of the object you created, and take note of how nested it is,\n",
    "# as well as the overall structure\n",
    "\n",
    "print(json.dumps(r.json(), indent=2))"
   ]
  },
  {
   "cell_type": "markdown",
   "metadata": {},
   "source": [
    "### Description\n",
    "\n",
    "The JSON object is a nested dictionary.\n",
    "   * The outermost layer is a dictionary with one item\n",
    "      * `dataset_data : {another dictionary}`\n",
    "\n",
    "   * The next dictionary layer has 10 items:\n",
    "      * 8 simple `key : value` pairs referencing metadata from the call; the values are strings.\n",
    "      * 1 pair (key: `\"column_names\"`) where the value is a _list_ of column names. \n",
    "      * 1 pair (key: `\"data\"`) where the value is a _list of lists_ (a 2-D list).\n",
    "\n",
    "This `data` list of lists contains the actual data returned from the call. The elements in the sublists map one-to-one with the list keyed by `\"column names\"`. Each item in the `data` list contains the data for a given date. \n",
    "\n",
    "e.g., `r_dict[\"dataset_data\"][\"data\"][0]`, contains the data for the first day returned.\n",
    " \n",
    "------------------\n",
    "**Structure** (flattened and simplified)\n",
    "        \n",
    "```\n",
    "{\n",
    "  \"dataset_data\": {\n",
    "    \"limit\": value,\n",
    "    \"transform\": value\n",
    "    \"column_index\": value,\n",
    "    \"column_names\": [\"Date\", \"Open\", \"High\", \"Low\", ..., \"Daily Turnover\"],\n",
    "    \"start_date\": \"YYYY-MM-DD\",\n",
    "    \"end_date\": \"YYYY-MM-DD\",\n",
    "    \"frequency\": value,\n",
    "    \"data\": [\n",
    "      [ \"YYYY-MM-DD\", value, value, value, ..., value ],\n",
    "      [ \"YYYY-MM-DD\", value, value, value, ..., value ]\n",
    "    ],\n",
    "    \"collapse\": value,\n",
    "    \"order\": value\n",
    "  }\n",
    "}\n",
    "```\n"
   ]
  },
  {
   "cell_type": "markdown",
   "metadata": {},
   "source": [
    "### Practice retrieving things from the data"
   ]
  },
  {
   "cell_type": "code",
   "execution_count": 5,
   "metadata": {
    "scrolled": true
   },
   "outputs": [
    {
     "name": "stdout",
     "output_type": "stream",
     "text": [
      "limit\n",
      "transform\n",
      "column_index\n",
      "column_names\n",
      "start_date\n",
      "end_date\n",
      "frequency\n",
      "data\n",
      "collapse\n",
      "order\n"
     ]
    }
   ],
   "source": [
    "r_dict = r.json()\n",
    "for key in r_dict[\"dataset_data\"]:\n",
    "    print(key)"
   ]
  },
  {
   "cell_type": "code",
   "execution_count": 6,
   "metadata": {},
   "outputs": [
    {
     "name": "stdout",
     "output_type": "stream",
     "text": [
      "['Date', 'Open', 'High', 'Low', 'Close', 'Change', 'Traded Volume', 'Turnover', 'Last Price of the Day', 'Daily Traded Units', 'Daily Turnover']\n"
     ]
    }
   ],
   "source": [
    "print( r_dict[\"dataset_data\"][\"column_names\"] )"
   ]
  },
  {
   "cell_type": "code",
   "execution_count": 7,
   "metadata": {},
   "outputs": [
    {
     "name": "stdout",
     "output_type": "stream",
     "text": [
      "Low\n"
     ]
    }
   ],
   "source": [
    "print( r_dict[\"dataset_data\"][\"column_names\"][3] )"
   ]
  },
  {
   "cell_type": "code",
   "execution_count": 8,
   "metadata": {
    "scrolled": true
   },
   "outputs": [
    {
     "name": "stdout",
     "output_type": "stream",
     "text": [
      "['2019-08-01', 99.6, 100.7, 99.3, 100.5, None, 102399.0, 10267086.0, None, None, None]\n"
     ]
    }
   ],
   "source": [
    "print( r_dict[\"dataset_data\"][\"data\"][0] )"
   ]
  },
  {
   "cell_type": "code",
   "execution_count": 9,
   "metadata": {
    "scrolled": false
   },
   "outputs": [
    {
     "name": "stdout",
     "output_type": "stream",
     "text": [
      "100.5\n"
     ]
    }
   ],
   "source": [
    "print( r_dict[\"dataset_data\"][\"data\"][0][4] )"
   ]
  },
  {
   "cell_type": "code",
   "execution_count": 10,
   "metadata": {
    "scrolled": true
   },
   "outputs": [
    {
     "name": "stdout",
     "output_type": "stream",
     "text": [
      "2019-08-01\n",
      "100.5\n"
     ]
    }
   ],
   "source": [
    "d = r_dict[\"dataset_data\"][\"data\"]\n",
    "\n",
    "print(d[0][0])\n",
    "print(d[0][4])"
   ]
  },
  {
   "cell_type": "code",
   "execution_count": 11,
   "metadata": {},
   "outputs": [
    {
     "name": "stdout",
     "output_type": "stream",
     "text": [
      "100.5\n"
     ]
    }
   ],
   "source": [
    "i_close = r_dict[\"dataset_data\"][\"column_names\"].index('Close')\n",
    "\n",
    "print(d[0][i_close])"
   ]
  },
  {
   "cell_type": "markdown",
   "metadata": {},
   "source": [
    "## Mini Project"
   ]
  },
  {
   "cell_type": "markdown",
   "metadata": {},
   "source": [
    "### Tasks\n",
    "\n",
    "These are your tasks for this mini project:\n",
    "\n",
    "1. Collect data from the Frankfurt Stock Exchange, for the ticker AFX_X, for the whole year 2017 (keep in mind that the date format is YYYY-MM-DD).\n",
    "2. Convert the returned JSON object into a Python dictionary.\n",
    "3. Calculate what the highest and lowest opening prices were for the stock in this period.\n",
    "4. What was the largest change in any one day (based on High and Low price)?\n",
    "5. What was the largest change between any two days (based on Closing Price)?\n",
    "6. What was the average daily trading volume during this year?\n",
    "7. (Optional) What was the median trading volume during this year. (Note: you may need to implement your own function for calculating the median.)"
   ]
  },
  {
   "cell_type": "markdown",
   "metadata": {},
   "source": [
    "#### 1. Collect data from the Frankfurt Stock Exchange, for the ticker AFX_X, for the whole year 2017 (keep in mind that the date format is YYYY-MM-DD).\n"
   ]
  },
  {
   "cell_type": "code",
   "execution_count": 12,
   "metadata": {},
   "outputs": [
    {
     "data": {
      "text/plain": [
       "True"
      ]
     },
     "execution_count": 12,
     "metadata": {},
     "output_type": "execute_result"
    }
   ],
   "source": [
    "# These haven't changed\n",
    "# quandl_url = 'https://www.quandl.com/api/v3/datasets/'\n",
    "# quandl_code = 'FSE/AFX_X'\n",
    "# data_type = 'json'\n",
    "\n",
    "parameters = 'start_date=2017-01-01&end_date=2017-12-31'\n",
    "api_url = f'{quandl_url}{quandl_code}/data.{data_type}?{parameters}&api_key={API_KEY}' \n",
    "\n",
    "r_afx = requests.get(api_url)\n",
    "r_afx.status_code == requests.codes.ok"
   ]
  },
  {
   "cell_type": "markdown",
   "metadata": {},
   "source": [
    "#### 2. Convert the returned JSON object into a Python dictionary."
   ]
  },
  {
   "cell_type": "code",
   "execution_count": 13,
   "metadata": {
    "scrolled": false
   },
   "outputs": [
    {
     "name": "stdout",
     "output_type": "stream",
     "text": [
      "<class 'dict'>\n"
     ]
    }
   ],
   "source": [
    "# When using requests, the type of the return value of .json() is a dictionary\n",
    "afx_dict = r_afx.json()\n",
    "print(type(afx_dict))"
   ]
  },
  {
   "cell_type": "code",
   "execution_count": 14,
   "metadata": {
    "scrolled": true
   },
   "outputs": [
    {
     "name": "stdout",
     "output_type": "stream",
     "text": [
      "['2017-12-21', 51.16, 51.52, 50.9, 51.4, None, 120649.0, 6179433.0, None, None, None]\n"
     ]
    }
   ],
   "source": [
    "# Examine an arbitrary row of the data\n",
    "print( afx_dict[\"dataset_data\"][\"data\"][4] )"
   ]
  },
  {
   "cell_type": "markdown",
   "metadata": {},
   "source": [
    "**Planning**: \n",
    "\n",
    "Looking forward, we'e going to need to keep dipping into the data rows for different values, e.g. opening prices,\n",
    "closing price, high and low...\n",
    "\n",
    "1. We could use the list `.index()` method to get numeric indexes based on desired column names, (e.g. \"Open\"), then walk through the list of lists of `data`, gathering the value from that position for every row (i.e. date).\n",
    "\n",
    "2. Alternatively, we could map the `column_names` to the elements in each date's data list, as a dicionary\n",
    "\n",
    "Option 2 seems cleaner, easier to use, easier to read, and a better general solution.\n",
    "\n",
    "There are multiple ways to build the map:\n",
    "1. as a list of dicts, indexed by an integer, one list element per day\n",
    "2. as a dict of dicts, with the outer dictionary keyed by the date\n",
    "3. as a list of tuples...\n",
    "\n",
    "as a list of dictionaries\n",
    "```\n",
    "[{ 'Date' : \"2019-08-01\", 'Open' : 99.6, 'High' : 100.7, 'Low' : 99.3, ...},\n",
    " { 'Date' : \"2019-08-02\", 'Open' : 99.0, 'High' : 100.1, 'Low' : 99.0, ...},\n",
    "...]\n",
    "```\n",
    "\n",
    "as a nested dictionary\n",
    "```\n",
    "{'2019-08-01': {'Open': 99.6, 'High': 100.7, 'Low': 99.3, ...},\n",
    " '2019-08-02': {'Open': 99.0, 'High': 104, 'Low': 98, ...},\n",
    "...}\n",
    "```\n",
    "\n",
    "I like the dict of dicts approach."
   ]
  },
  {
   "cell_type": "code",
   "execution_count": 15,
   "metadata": {},
   "outputs": [],
   "source": [
    "# Extract the list of column names from the original request data, skipping the \"Date\" column\n",
    "column_names = afx_dict[\"dataset_data\"][\"column_names\"][1:]\n",
    "\n",
    "# Extract the data portion as a list of lists, ensuring that it's sorted by date\n",
    "data_list = sorted(afx_dict[\"dataset_data\"][\"data\"])\n",
    "\n",
    "# Initialize a new dictionary\n",
    "data_dict = {}\n",
    "\n",
    "# and populate it, using the date field from each data row as the key\n",
    "for row in data_list:\n",
    "    row_date = row[0]\n",
    "    data_dict[row_date] = collections.OrderedDict(zip(column_names, row[1:]))      \n"
   ]
  },
  {
   "cell_type": "markdown",
   "metadata": {},
   "source": [
    "I printed data_dict. It's large, so I've exceroted it here.\n",
    "\n",
    "```\n",
    "data_dict\n",
    "\n",
    "{'2017-01-02': OrderedDict([('Open', 34.99),\n",
    "              ('High', 35.94),\n",
    "              ('Low', 34.99),\n",
    "              ('Close', 35.8),\n",
    "              ('Change', None),\n",
    "              ('Traded Volume', 44700.0),\n",
    "              ('Turnover', 1590561.0),\n",
    "              ('Last Price of the Day', None),\n",
    "              ('Daily Traded Units', None),\n",
    "              ('Daily Turnover', None)]),\n",
    " '2017-01-03': OrderedDict([('Open', 35.9),\n",
    "              ('High', 35.93),\n",
    "              ...]),\n",
    " '2017-12-29': OrderedDict([('Open', 51.76),\n",
    "              ('High', 51.94),\n",
    "              ('Low', 51.45),\n",
    "              ('Close', 51.76),\n",
    "              ('Change', None),\n",
    "              ('Traded Volume', 34640.0),\n",
    "              ('Turnover', 1792304.0),\n",
    "              ('Last Price of the Day', None),\n",
    "              ('Daily Traded Units', None),\n",
    "              ('Daily Turnover', None)])}\n",
    " ```"
   ]
  },
  {
   "cell_type": "code",
   "execution_count": 16,
   "metadata": {
    "scrolled": true
   },
   "outputs": [
    {
     "name": "stdout",
     "output_type": "stream",
     "text": [
      "['Date', 'Open', 'High', 'Low', 'Close', 'Change', 'Traded Volume', 'Turnover', 'Last Price of the Day', 'Daily Traded Units', 'Daily Turnover']\n",
      "['2017-12-21', 51.16, 51.52, 50.9, 51.4, None, 120649.0, 6179433.0, None, None, None]\n",
      "\n",
      "\n",
      "OrderedDict([('Open', 51.16), ('High', 51.52), ('Low', 50.9), ('Close', 51.4), ('Change', None), ('Traded Volume', 120649.0), ('Turnover', 6179433.0), ('Last Price of the Day', None), ('Daily Traded Units', None), ('Daily Turnover', None)])\n"
     ]
    }
   ],
   "source": [
    "# Compare the new dictionary to the original JSON data structure.\n",
    "\n",
    "# original JSON data structure\n",
    "print( afx_dict[\"dataset_data\"][\"column_names\"] )\n",
    "print( afx_dict[\"dataset_data\"][\"data\"][4] )\n",
    "\n",
    "print(\"\\n\")\n",
    "\n",
    "# This should have the same data\n",
    "print(data_dict['2017-12-21'])\n"
   ]
  },
  {
   "cell_type": "markdown",
   "metadata": {},
   "source": [
    "#### 3. Calculate what the highest and lowest opening prices were for the stock in this period."
   ]
  },
  {
   "cell_type": "code",
   "execution_count": 17,
   "metadata": {},
   "outputs": [
    {
     "name": "stdout",
     "output_type": "stream",
     "text": [
      "The highest opening price was 53.11\n",
      "The lowest opening price was 34.0\n"
     ]
    }
   ],
   "source": [
    "# Get a list of Opening prices per day\n",
    "opening_by_day = [data_dict[day]['Open'] \n",
    "                  for day in data_dict \n",
    "                  if data_dict[day]['Open'] != None\n",
    "                 ]\n",
    "\n",
    "highest_open = max(opening_by_day)\n",
    "lowest_open = min(opening_by_day)\n",
    "\n",
    "print('The highest opening price was', highest_open)\n",
    "print('The lowest opening price was', lowest_open)"
   ]
  },
  {
   "cell_type": "markdown",
   "metadata": {},
   "source": [
    "#### 4. What was the largest change in any one day (based on High and Low price)?"
   ]
  },
  {
   "cell_type": "code",
   "execution_count": 18,
   "metadata": {
    "scrolled": true
   },
   "outputs": [
    {
     "name": "stdout",
     "output_type": "stream",
     "text": [
      "The largest change in any one day was 2.81\n"
     ]
    }
   ],
   "source": [
    "# Get a list of price changes (high - low) per day\n",
    "change_by_day = [(data_dict[day]['High'] - data_dict[day]['Low']) \n",
    "                 for day in data_dict \n",
    "                 if (data_dict[day]['High'] != None and data_dict[day]['Low'] != None)\n",
    "                ]\n",
    "\n",
    "print(\"The largest change in any one day was\", round(max(change_by_day),3))"
   ]
  },
  {
   "cell_type": "markdown",
   "metadata": {},
   "source": [
    "#### 5. What was the largest change between any two days (based on Closing Price)?"
   ]
  },
  {
   "cell_type": "markdown",
   "metadata": {},
   "source": [
    "Because we sorted the original data list of lists and used collections.OrderedDict to create the dictionary, we know that we have our data in date order.\n"
   ]
  },
  {
   "cell_type": "code",
   "execution_count": 19,
   "metadata": {},
   "outputs": [
    {
     "name": "stdout",
     "output_type": "stream",
     "text": [
      "The largest change in closing price between any two days was 2.56\n"
     ]
    }
   ],
   "source": [
    "# Get the list of closing prices\n",
    "closing_by_day = [data_dict[day]['Close'] \n",
    "                  for day in data_dict \n",
    "                 if data_dict[day]['Close'] != None\n",
    "                 ]\n",
    "\n",
    "#It's easier to compare to the previous day than the next day; there's always a yesterdsy \n",
    "previous = closing_by_day.pop(0)\n",
    "\n",
    "max_change = 0 # initialize\n",
    "\n",
    "# loop over the list, starting with the 2nd day in the oiginal list\n",
    "# calculating change from previous day's price to today's price\n",
    "for price in closing_by_day:\n",
    "    change = round(abs(price - previous),3) # Avoid 17 \"significant\" digits\n",
    "    max_change = max(change, max_change)\n",
    "    previous = price\n",
    "\n",
    "print(\"The largest change in closing price between any two days was\", max_change)"
   ]
  },
  {
   "cell_type": "markdown",
   "metadata": {},
   "source": [
    "#### 6. What was the average daily trading volume during this year?"
   ]
  },
  {
   "cell_type": "code",
   "execution_count": 20,
   "metadata": {
    "scrolled": false
   },
   "outputs": [
    {
     "name": "stdout",
     "output_type": "stream",
     "text": [
      "The average daily trading volume during this year was 89124.3\n"
     ]
    }
   ],
   "source": [
    "# Get the list of traded_volume, per day\n",
    "traded_volume = [data_dict[day]['Traded Volume'] \n",
    "                  for day in data_dict \n",
    "                 if data_dict[day]['Traded Volume'] != None\n",
    "                 ]\n",
    "# count the days\n",
    "num_days=len(traded_volume)\n",
    "\n",
    "# get the mean\n",
    "avg_tv=round(sum(traded_volume)/num_days, 1)\n",
    "\n",
    "print(\"The average daily trading volume during this year was\", avg_tv)"
   ]
  },
  {
   "cell_type": "markdown",
   "metadata": {},
   "source": [
    "#### 7. What was the median trading volume during this year. (Note: you may need to implement your own function for calculating the median.)"
   ]
  },
  {
   "cell_type": "markdown",
   "metadata": {},
   "source": [
    "**Note**: The statistics module is included in the standard library for Python 3.\n",
    "\n",
    "But since you asked, and since it's so easy, I'll do it both ways."
   ]
  },
  {
   "cell_type": "code",
   "execution_count": 21,
   "metadata": {},
   "outputs": [
    {
     "name": "stdout",
     "output_type": "stream",
     "text": [
      "The median trading volume during this year was 76286.0\n"
     ]
    }
   ],
   "source": [
    "# test_list=[5,2,5,6,1,2,6,7,2,6,3,5,5]\n",
    "\n",
    "def do_median(nums):\n",
    "    \"\"\"\n",
    "    usage: do_median(list_of_numbers)\n",
    "    \"\"\"\n",
    "    nums = sorted(nums) \n",
    "    count = len(nums)\n",
    "    l = count//2\n",
    "    if (count % 2):\n",
    "        # get the middle number\n",
    "        return(nums[l])\n",
    "    else:\n",
    "        # average the two middle numbers\n",
    "        return((nums[1] + nums[l+1])/2)\n",
    "        \n",
    "print(\"The median trading volume during this year was\", do_median(traded_volume))\n",
    "        "
   ]
  },
  {
   "cell_type": "code",
   "execution_count": 22,
   "metadata": {},
   "outputs": [
    {
     "name": "stdout",
     "output_type": "stream",
     "text": [
      "The median trading volume during this year was 76286.0\n"
     ]
    }
   ],
   "source": [
    "# Python 3 includes a statistics package\n",
    "import statistics\n",
    "\n",
    "print(\"The median trading volume during this year was\", statistics.median(traded_volume))"
   ]
  }
 ],
 "metadata": {
  "kernelspec": {
   "display_name": "Python 3",
   "language": "python",
   "name": "python3"
  },
  "language_info": {
   "codemirror_mode": {
    "name": "ipython",
    "version": 3
   },
   "file_extension": ".py",
   "mimetype": "text/x-python",
   "name": "python",
   "nbconvert_exporter": "python",
   "pygments_lexer": "ipython3",
   "version": "3.7.3"
  }
 },
 "nbformat": 4,
 "nbformat_minor": 2
}
