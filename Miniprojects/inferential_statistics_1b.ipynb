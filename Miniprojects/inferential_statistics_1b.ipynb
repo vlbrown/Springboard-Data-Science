{
 "cells": [
  {
   "cell_type": "markdown",
   "metadata": {},
   "source": [
    "# Inferential Statistics Ib - Frequentism"
   ]
  },
  {
   "cell_type": "markdown",
   "metadata": {},
   "source": [
    "## Learning objectives"
   ]
  },
  {
   "cell_type": "markdown",
   "metadata": {},
   "source": [
    "Welcome to the second Frequentist inference mini-project! Over the course of working on this mini-project and the previous frequentist mini-project, you'll learn the fundamental concepts associated with frequentist inference. The following list includes the topics you will become familiar with as you work through these two mini-projects:\n",
    "* the _z_-statistic\n",
    "* the _t_-statistic\n",
    "* the difference and relationship between the two\n",
    "* the Central Limit Theorem, its assumptions and consequences\n",
    "* how to estimate the population mean and standard deviation from a sample\n",
    "* the concept of a sampling distribution of a test statistic, particularly for the mean\n",
    "* how to combine these concepts to calculate confidence intervals and p-values\n",
    "* how those confidence intervals and p-values allow you to perform hypothesis (or A/B) tests"
   ]
  },
  {
   "cell_type": "markdown",
   "metadata": {},
   "source": [
    "## Prerequisites"
   ]
  },
  {
   "cell_type": "markdown",
   "metadata": {},
   "source": [
    "* what a random variable is\n",
    "* what a probability density function (pdf) is\n",
    "* what the cumulative density function is\n",
    "* a high-level sense of what the Normal distribution\n",
    "\n",
    "If these concepts are new to you, please take a few moments to Google these topics in order to get a sense of what they are and how you might use them.\n",
    "\n",
    "These two notebooks were designed to bridge the gap between having a basic understanding of probability and random variables and being able to apply these concepts in Python. This second frequentist inference mini-project focuses on a real-world application of this type of inference to give you further practice using these concepts. "
   ]
  },
  {
   "cell_type": "markdown",
   "metadata": {},
   "source": [
    "In the previous notebook, we used only data from a known normal distribution. You'll now tackle real data, rather than simulated data, and answer some relevant real-world business problems using the data."
   ]
  },
  {
   "cell_type": "markdown",
   "metadata": {},
   "source": [
    "## Hospital medical charges"
   ]
  },
  {
   "cell_type": "markdown",
   "metadata": {},
   "source": [
    "Imagine that a hospital has hired you as their data analyst. An administrator is working on the hospital's business operations plan and needs you to help them answer some business questions. This mini-project, as well as the bootstrap and Bayesian inference mini-projects also found in this unit are designed to illustrate how each of the inferential statistics methods have their uses for different use cases. \n",
    "\n",
    "In this assignment notebook, you're going to use frequentist statistical inference on a data sample to answer the questions:\n",
    "* has the hospital's revenue stream fallen below a key threshold?\n",
    "* are patients with insurance really charged different amounts than those without?\n",
    "\n",
    "Answering that last question with a frequentist approach makes some assumptions, or requires some knowledge, about the two groups. In the next mini-project, you'll use bootstrapping to test that assumption. And in the final mini-project of the unit, you're going to create a model for simulating _individual_ charges (not a sampling distribution) that the hospital can use to model a range of scenarios."
   ]
  },
  {
   "cell_type": "markdown",
   "metadata": {},
   "source": [
    "We are going to use some data on medical charges obtained from [Kaggle](https://www.kaggle.com/easonlai/sample-insurance-claim-prediction-dataset). For the purposes of this exercise, assume the observations are the result of random sampling from one hospital. Recall in the previous assignment, we introduced the Central Limit Theorem (CLT), and how it tells us that the distributions of sample statistics approach a normal distribution as $n$ increases. The amazing thing about this is that it applies to the sampling distributions of statistics that have been calculated from even highly non-normal distributions of data. Remember, also, that hypothesis testing is very much based on making inferences about such sample statistics. You're going to rely heavily on the CLT to apply frequentist (parametric) tests to answer the questions in this notebook."
   ]
  },
  {
   "cell_type": "code",
   "execution_count": 1,
   "metadata": {},
   "outputs": [],
   "source": [
    "import pandas as pd\n",
    "import numpy as np\n",
    "import matplotlib.pyplot as plt\n",
    "from scipy import stats\n",
    "from scipy.stats import t\n",
    "from scipy.stats import norm\n",
    "from numpy.random import seed\n",
    "medical = pd.read_csv('data/insurance2.csv')"
   ]
  },
  {
   "cell_type": "code",
   "execution_count": 2,
   "metadata": {},
   "outputs": [
    {
     "data": {
      "text/plain": [
       "(1338, 8)"
      ]
     },
     "execution_count": 2,
     "metadata": {},
     "output_type": "execute_result"
    }
   ],
   "source": [
    "medical.shape"
   ]
  },
  {
   "cell_type": "code",
   "execution_count": 3,
   "metadata": {},
   "outputs": [
    {
     "data": {
      "text/html": [
       "<div>\n",
       "<style scoped>\n",
       "    .dataframe tbody tr th:only-of-type {\n",
       "        vertical-align: middle;\n",
       "    }\n",
       "\n",
       "    .dataframe tbody tr th {\n",
       "        vertical-align: top;\n",
       "    }\n",
       "\n",
       "    .dataframe thead th {\n",
       "        text-align: right;\n",
       "    }\n",
       "</style>\n",
       "<table border=\"1\" class=\"dataframe\">\n",
       "  <thead>\n",
       "    <tr style=\"text-align: right;\">\n",
       "      <th></th>\n",
       "      <th>age</th>\n",
       "      <th>sex</th>\n",
       "      <th>bmi</th>\n",
       "      <th>children</th>\n",
       "      <th>smoker</th>\n",
       "      <th>region</th>\n",
       "      <th>charges</th>\n",
       "      <th>insuranceclaim</th>\n",
       "    </tr>\n",
       "  </thead>\n",
       "  <tbody>\n",
       "    <tr>\n",
       "      <th>0</th>\n",
       "      <td>19</td>\n",
       "      <td>0</td>\n",
       "      <td>27.900</td>\n",
       "      <td>0</td>\n",
       "      <td>1</td>\n",
       "      <td>3</td>\n",
       "      <td>16884.92400</td>\n",
       "      <td>1</td>\n",
       "    </tr>\n",
       "    <tr>\n",
       "      <th>1</th>\n",
       "      <td>18</td>\n",
       "      <td>1</td>\n",
       "      <td>33.770</td>\n",
       "      <td>1</td>\n",
       "      <td>0</td>\n",
       "      <td>2</td>\n",
       "      <td>1725.55230</td>\n",
       "      <td>1</td>\n",
       "    </tr>\n",
       "    <tr>\n",
       "      <th>2</th>\n",
       "      <td>28</td>\n",
       "      <td>1</td>\n",
       "      <td>33.000</td>\n",
       "      <td>3</td>\n",
       "      <td>0</td>\n",
       "      <td>2</td>\n",
       "      <td>4449.46200</td>\n",
       "      <td>0</td>\n",
       "    </tr>\n",
       "    <tr>\n",
       "      <th>3</th>\n",
       "      <td>33</td>\n",
       "      <td>1</td>\n",
       "      <td>22.705</td>\n",
       "      <td>0</td>\n",
       "      <td>0</td>\n",
       "      <td>1</td>\n",
       "      <td>21984.47061</td>\n",
       "      <td>0</td>\n",
       "    </tr>\n",
       "    <tr>\n",
       "      <th>4</th>\n",
       "      <td>32</td>\n",
       "      <td>1</td>\n",
       "      <td>28.880</td>\n",
       "      <td>0</td>\n",
       "      <td>0</td>\n",
       "      <td>1</td>\n",
       "      <td>3866.85520</td>\n",
       "      <td>1</td>\n",
       "    </tr>\n",
       "  </tbody>\n",
       "</table>\n",
       "</div>"
      ],
      "text/plain": [
       "   age  sex     bmi  children  smoker  region      charges  insuranceclaim\n",
       "0   19    0  27.900         0       1       3  16884.92400               1\n",
       "1   18    1  33.770         1       0       2   1725.55230               1\n",
       "2   28    1  33.000         3       0       2   4449.46200               0\n",
       "3   33    1  22.705         0       0       1  21984.47061               0\n",
       "4   32    1  28.880         0       0       1   3866.85520               1"
      ]
     },
     "execution_count": 3,
     "metadata": {},
     "output_type": "execute_result"
    }
   ],
   "source": [
    "medical.head()"
   ]
  },
  {
   "cell_type": "markdown",
   "metadata": {},
   "source": [
    "__Q:__ Plot the histogram of charges and calculate the mean and standard deviation. Comment on the appropriateness of these statistics for the data."
   ]
  },
  {
   "cell_type": "markdown",
   "metadata": {},
   "source": [
    "__A:__ The histogram shows a big peak below \\\\$15,000, a much smaller bump between \\\\$32,000 and \\\\$52,000, on the right, and a very flat tail above \\\\$52,000.\n",
    "\n",
    "The std deviation is very close to the mean and also very high. A high standard deviation means that the numbers are more spread out. We don't have a normal curve, the mean isn't useful here and all the std dev. tells us is that we have some very high (and very low) charges with respect to the \"average\".\n",
    "\n",
    "These are not appropriate statistics for the data."
   ]
  },
  {
   "cell_type": "code",
   "execution_count": 4,
   "metadata": {},
   "outputs": [
    {
     "data": {
      "image/png": "[encoded data removed]",
      "text/plain": [
       "<Figure size 1008x576 with 1 Axes>"
      ]
     },
     "metadata": {
      "needs_background": "light"
     },
     "output_type": "display_data"
    }
   ],
   "source": [
    "medical.hist(column='charges', bins=10, grid=False,\n",
    "           figsize=(14,8), xlabelsize=10, edgecolor='k')\n",
    "plt.xticks(range(0, 70000, 3000))\n",
    "plt.xlabel(\"Dollars\", fontsize=15)\n",
    "plt.ylabel(\"Frequency\",fontsize=15)\n",
    "plt.show()"
   ]
  },
  {
   "cell_type": "code",
   "execution_count": 5,
   "metadata": {},
   "outputs": [
    {
     "data": {
      "text/plain": [
       "63770.42801"
      ]
     },
     "execution_count": 5,
     "metadata": {},
     "output_type": "execute_result"
    }
   ],
   "source": [
    "max(medical.charges)"
   ]
  },
  {
   "cell_type": "code",
   "execution_count": 6,
   "metadata": {},
   "outputs": [
    {
     "name": "stdout",
     "output_type": "stream",
     "text": [
      "mean: 13270.42 \n",
      "std. dev.: 12110.01\n"
     ]
    }
   ],
   "source": [
    "m_mean = round(medical.charges.mean(), 2)\n",
    "m_std = round(medical.charges.std(), 2)\n",
    "\n",
    "print(\"mean:\", m_mean, \"\\nstd. dev.:\", m_std)"
   ]
  },
  {
   "cell_type": "markdown",
   "metadata": {},
   "source": [
    "`pandas` std. deviation is equivalent to `numpy` corrected std. dev. with `ddof=1`."
   ]
  },
  {
   "cell_type": "code",
   "execution_count": 7,
   "metadata": {},
   "outputs": [
    {
     "name": "stdout",
     "output_type": "stream",
     "text": [
      "Median charge is 9382.03\n"
     ]
    }
   ],
   "source": [
    "m_median = round(medical.charges.median(), 2)\n",
    "print(\"Median charge is\", m_median)"
   ]
  },
  {
   "cell_type": "markdown",
   "metadata": {},
   "source": [
    "__Q:__ The administrator is concerned that the actual average charge has fallen below 12000, threatening the hospital's operational model. On the assumption that these data represent a random sample of charges, how would you justify that these data allow you to answer that question? And what would be the most appropriate frequentist test, of the ones discussed so far, to apply?"
   ]
  },
  {
   "cell_type": "markdown",
   "metadata": {},
   "source": [
    "__A:__ The mean is 13270.42, which isn't much higher than 12,000. The median charge is 9382.03, well under 12000. The histogram makes it pretty clear that charges less than 15000 are very common, but not less than 12000.\n",
    "\n",
    "\"Frequentist statistics is a type of statistical approach where conclusions are made based on the frequency of an event. This statistical approach determines the probability of a long-term experiment\"\n",
    "\n",
    "The most appropriate frequentist test would be to use the CLT to resample the means and work toward a better distribution, then ask \"what is the probability of a charge of less than 12000\"?\n",
    "\n",
    "Start by doing more samples.\n",
    "\n"
   ]
  },
  {
   "cell_type": "code",
   "execution_count": 8,
   "metadata": {},
   "outputs": [
    {
     "name": "stdout",
     "output_type": "stream",
     "text": [
      "mean 13326.1059319732 \n",
      "std. dev.: 1475.7682660606786\n"
     ]
    }
   ],
   "source": [
    "m = medical.charges.to_numpy()\n",
    "\n",
    "seed(47)\n",
    "sample_mean = []\n",
    "\n",
    "# calculate 100 means sampled from the larger dataset\n",
    "for n in range(100):\n",
    "    this_sample = np.random.choice(m, 50)\n",
    "    sample_mean.append(np.mean(this_sample))\n",
    "\n",
    "mean_of_means = np.mean(sample_mean)\n",
    "std_of_means = np.std(sample_mean, ddof=1)\n",
    "\n",
    "print(\"mean\", mean_of_means, \"\\nstd. dev.:\", std_of_means)"
   ]
  },
  {
   "cell_type": "markdown",
   "metadata": {},
   "source": [
    "Use our resampled mean (which hasn't changed much) and resampled std. dev. (which has narrowed a lot) to calculate the probability of a charge less than 12000."
   ]
  },
  {
   "cell_type": "code",
   "execution_count": 9,
   "metadata": {},
   "outputs": [
    {
     "data": {
      "text/plain": [
       "0.18449310083302167"
      ]
     },
     "execution_count": 9,
     "metadata": {},
     "output_type": "execute_result"
    }
   ],
   "source": [
    "norm.cdf(12000, loc=13326, scale=1476)"
   ]
  },
  {
   "cell_type": "markdown",
   "metadata": {},
   "source": [
    "__Q:__ Given the nature of the administrator's concern, what is the appropriate confidence interval in this case? A one-sided or two-sided interval? Calculate the critical value and the relevant 95% confidence interval for the mean and comment on whether the administrator should be concerned?"
   ]
  },
  {
   "cell_type": "markdown",
   "metadata": {},
   "source": [
    "__A:__ A one-sided interval (less than) is more appropriate in this case. \"In general, use a one-sided confidence interval instead of a two-sided confidence interval to obtain the tightest upper (lower) bound on a sample mean.\" [ref](https://vsp.pnnl.gov/help/Vsample/Stats_CI_One_Sided.htm)\n",
    "\n",
    "The critical z value for a 95% confidence interval is 1.96.\n",
    "\n",
    "margin of error = (critical value * pop std dev)\n",
    "\n",
    "ci = mean +/- (margin of error / sqrt(sample size))"
   ]
  },
  {
   "cell_type": "code",
   "execution_count": 10,
   "metadata": {},
   "outputs": [
    {
     "name": "stdout",
     "output_type": "stream",
     "text": [
      "13246.911311813235 < 13326 < 13405.088688186765\n"
     ]
    }
   ],
   "source": [
    "z = 1.96\n",
    "std_dev = 1476\n",
    "sample_size = 1338\n",
    "mean = 13326\n",
    "\n",
    "ci = (z * std_dev) / np.sqrt(sample_size)\n",
    "\n",
    "print ((mean - ci),  \"<\",  mean, \"<\", (mean + ci))"
   ]
  },
  {
   "cell_type": "markdown",
   "metadata": {},
   "source": [
    "The administrator should not be concerned yet. The 95% confidence level puts the average minimum charge at 13344, not 12000 or less."
   ]
  },
  {
   "cell_type": "markdown",
   "metadata": {},
   "source": [
    "Try a t-test. (Why a t-test?)\n",
    "\n",
    "_One-Sample T-Test\n",
    "Tests whether the mean of a normally distributed population is different from a specified value._ [ref](https://medium.com/@kangeugine/hypothesis-test-21795f788f7d)\n",
    "   * Null Hypothesis: states that the population mean is equal to some value.\n",
    "   * Alternative Hypothesis: states that the mean does not equal/is greater than/is less than some value.\n",
    "\n",
    "But we don't have a normally distributed population. Perhaps if we use he CLT and the mean we got from resampling.\n",
    "\n",
    "See Also: [How to Calculate Critical Values for Statistical Hypothesis Testing with Python](https://machinelearningmastery.com/critical-values-for-statistical-hypothesis-testing/)"
   ]
  },
  {
   "cell_type": "code",
   "execution_count": 11,
   "metadata": {},
   "outputs": [
    {
     "name": "stdout",
     "output_type": "stream",
     "text": [
      "critical value 1.6459941145571317\n",
      "13259.581879957419 < 13326 < 13392.418120042581\n"
     ]
    }
   ],
   "source": [
    "n = len(medical.charges)\n",
    "dof = n - 1\n",
    "p = 0.95\n",
    "critical_value = stats.t.ppf(p, dof)\n",
    "std_dev = 1476\n",
    "mean = 13326\n",
    "\n",
    "print(\"critical value\", critical_value)\n",
    "ci = ((critical_value * std_dev) / np.sqrt(n))\n",
    "print(mean - ci, \"<\", mean, \"<\", mean + ci)\n"
   ]
  },
  {
   "cell_type": "markdown",
   "metadata": {},
   "source": [
    "What if we pretend that we believe the original dataset is normally distributed?\n",
    "\n",
    "(The following exercise (inferential statistics 2) appears to assume we should have believed this.)"
   ]
  },
  {
   "cell_type": "code",
   "execution_count": 12,
   "metadata": {},
   "outputs": [
    {
     "data": {
      "text/plain": [
       "12725.48718381623"
      ]
     },
     "execution_count": 12,
     "metadata": {},
     "output_type": "execute_result"
    }
   ],
   "source": [
    "ci2 = critical_value * medical.charges.std() / np.sqrt(n) \n",
    "\n",
    "# Lower bound\n",
    "medical.charges.mean() - ci2"
   ]
  },
  {
   "cell_type": "markdown",
   "metadata": {},
   "source": [
    "_The t test (also called Student’s T Test) compares two averages (means) and tells you if they are different from each other. The t test also tells you how significant the differences are; In other words it lets you know if those differences could have happened by chance._ [ref](https://towardsdatascience.com/inferential-statistics-series-t-test-using-numpy-2718f8f9bf2f)\n",
    "\n",
    "If p-value is less than the predetermined value of significance, reject null hypothesis and accept alternative hypothesis.\n",
    "\n",
    "If we just want a yes or no answer, we can do this."
   ]
  },
  {
   "cell_type": "code",
   "execution_count": 13,
   "metadata": {},
   "outputs": [
    {
     "data": {
      "text/plain": [
       "Ttest_1sampResult(statistic=3.8373517196585314, pvalue=0.000130171652092872)"
      ]
     },
     "execution_count": 13,
     "metadata": {},
     "output_type": "execute_result"
    }
   ],
   "source": [
    "# Null Hypothesis: the population mean is equal to 12000\n",
    "\n",
    "stats.ttest_1samp(medical.charges, 12000)"
   ]
  },
  {
   "cell_type": "markdown",
   "metadata": {},
   "source": [
    "The t-statistic is the ratio of the departure of the estimated value of a parameter from its hypothesized value to its standard error. _I have no idea how to interpret this_.\n",
    "\n",
    "However, the pvalue is very small and 1/2 the pvalue would be smaller, so I'd say the mean is not 12000.\n",
    "\n",
    "Can we use any of this info to give us an idea of what it thinks the 95% confidence interval is?\n",
    "\n",
    "Try [this](https://www.dummies.com/education/math/statistics/using-the-t-distribution-to-calculate-confidence-intervals/)\n",
    "\n",
    "`mean +/- t*(s/sqrt(n))`\n",
    "\n",
    "So... the t-statistic is related to the critical value. \n",
    "\n",
    "_The observation values in the population beyond the critical value are often called the “critical region” or the “region of rejection“._\n",
    "\n",
    "_Critical Value: A value appearing in tables for specified statistical tests indicating at what computed value the null hypothesis can be rejected (the computed statistic falls in the rejection region)._ [ref](https://machinelearningmastery.com/critical-values-for-statistical-hypothesis-testing/)\n",
    "\n",
    "_If the statistic is less than or equal to the critical value, we fail to reject the null hypothesis (e.g. no effect). Otherwise it is rejected._\n",
    "\n",
    "So, if the t-statistic is larger than the critical value, it means that the mean we pushed through the function is outside the confidence interval we asked for.  In other words, the critical value can give us a range; the test statistic gives us a yes/no answer.\n"
   ]
  },
  {
   "cell_type": "code",
   "execution_count": 14,
   "metadata": {},
   "outputs": [
    {
     "name": "stdout",
     "output_type": "stream",
     "text": [
      "The calculated critical value is 1.6459941145571317\n",
      "The calculated t-statistic is 3.8373517196585314\n",
      "We reject the hypothesis that the mean is 12000\n"
     ]
    }
   ],
   "source": [
    "null_hypothesis = \"the mean is 12000\"\n",
    "print (\"The calculated critical value is\", critical_value)\n",
    "t_statistic, pvalue = stats.ttest_1samp(medical.charges, 12000)\n",
    "print (\"The calculated t-statistic is\", t_statistic)\n",
    "\n",
    "if (t_statistic <= critical_value):\n",
    "    # fail to reject the null hypohesis\n",
    "    print(\"We cannot reject the hypothesis that\", null_hypothesis)\n",
    "else:\n",
    "    # reject the null hypothesis\n",
    "     print(\"We reject the hypothesis that\", null_hypothesis)\n",
    "   "
   ]
  },
  {
   "cell_type": "markdown",
   "metadata": {},
   "source": [
    "---------------"
   ]
  },
  {
   "cell_type": "markdown",
   "metadata": {},
   "source": [
    "The administrator then wants to know whether people with insurance really are charged a different amount to those without.\n",
    "\n",
    "__Q:__ State the null and alternative hypothesis here. Use the _t_-test for the difference between means where the pooled standard deviation of the two groups is given by\n",
    "\\begin{equation}\n",
    "s_p = \\sqrt{\\frac{(n_0 - 1)s^2_0 + (n_1 - 1)s^2_1}{n_0 + n_1 - 2}}\n",
    "\\end{equation}\n",
    "\n",
    "and the *t* test statistic is then given by\n",
    "\n",
    "\\begin{equation}\n",
    "t = \\frac{\\bar{x}_0 - \\bar{x}_1}{s_p \\sqrt{1/n_0 + 1/n_1}}.\n",
    "\\end{equation}\n",
    "\n",
    "What assumption about the variances of the two groups are we making here?"
   ]
  },
  {
   "cell_type": "markdown",
   "metadata": {},
   "source": [
    "__A:__ The null hypothesis is that there is no difference between people with insurance and people without insurance, that the average charge is the same.\n",
    "\n",
    "The alternative hypothesis is that the administrator's fears are true and people with insurance are charged more (or less) than those without insurance.\n",
    "\n",
    "\"What assumption about the variances of the two groups are we making here?\" We're assuming that the variance is roughly the same and we can combine these two groups (pool the standard deviations) in this way.\n"
   ]
  },
  {
   "cell_type": "markdown",
   "metadata": {},
   "source": [
    "__Q:__ Perform this hypothesis test both manually, using the above formulae, and then using the appropriate function from [scipy.stats](https://docs.scipy.org/doc/scipy/reference/stats.html#statistical-tests) (hint, you're looking for a function to perform a _t_-test on two independent samples). For the manual approach, calculate the value of the test statistic and then its probability (the p-value). Verify you get the same results from both."
   ]
  },
  {
   "cell_type": "markdown",
   "metadata": {},
   "source": [
    "__A:__\n",
    "\\begin{equation}\n",
    "s_p = \\sqrt{\\frac{(n_0 - 1)s^2_0 + (n_1 - 1)s^2_1}{n_0 + n_1 - 2}}\n",
    "\\end{equation}\n",
    "\n",
    "and the *t* test statistic is then given by\n",
    "\n",
    "\\begin{equation}\n",
    "t = \\frac{\\bar{x}_0 - \\bar{x}_1}{s_p \\sqrt{1/n_0 + 1/n_1}}.\n",
    "\\end{equation}\n"
   ]
  },
  {
   "cell_type": "code",
   "execution_count": 15,
   "metadata": {},
   "outputs": [],
   "source": [
    "# not insured\n",
    "ins0 = medical.loc[medical.insuranceclaim == 0]\n",
    "\n",
    "# not insured\n",
    "ins1 = medical.loc[medical.insuranceclaim == 1]\n"
   ]
  },
  {
   "cell_type": "code",
   "execution_count": 16,
   "metadata": {
    "scrolled": false
   },
   "outputs": [
    {
     "name": "stdout",
     "output_type": "stream",
     "text": [
      "uninsured\n",
      " count 555 mean 8821.421892306294 std. dev. 6446.510126811736\n",
      "\n",
      "\n",
      "insured\n",
      " count 783 mean 16423.928276537663 std. dev. 14045.928418802127\n",
      "dof: 1336 sp: 11520.034268775256\n",
      "\n",
      "t stat: -11.89329903087671\n"
     ]
    }
   ],
   "source": [
    "\n",
    "n0 = len(ins0)\n",
    "s0 = (ins0.charges.std())\n",
    "x0 = (ins0.charges.mean())\n",
    "\n",
    "n1 = len(ins1)\n",
    "s1 = (ins1.charges.std())\n",
    "x1 = (ins1.charges.mean())\n",
    "\n",
    "print(\"uninsured\\n\", \"count\", n0, \"mean\", x0, \"std. dev.\", s0)\n",
    "print(\"\\n\")\n",
    "print(\"insured\\n\", \"count\", n1, \"mean\", x1, \"std. dev.\", s1)\n",
    "\n",
    "a = (n0 - 1)*s0**2\n",
    "b = (n1 - 1)*s1**2\n",
    "\n",
    "dof = (n0 + n1 - 2)\n",
    "\n",
    "sp = np.sqrt((a + b)/dof)\n",
    "\n",
    "print(\"dof:\", dof, \"sp:\", sp)\n",
    "\n",
    "t_stat = ((x0 - x1)/(sp*(np.sqrt(1/n0 + 1/n1))))\n",
    "\n",
    "print(\"\\nt stat:\", t_stat)"
   ]
  },
  {
   "cell_type": "markdown",
   "metadata": {},
   "source": [
    "---------------------"
   ]
  },
  {
   "cell_type": "markdown",
   "metadata": {},
   "source": [
    "After a lot of searching, I found [this](https://support.minitab.com/en-us/minitab/18/help-and-how-to/statistics/basic-statistics/supporting-topics/basics/manually-calculate-a-p-value/):\n",
    "\n",
    "   * For a lower-tailed test, the p-value is equal to this probability; p-value = cdf(ts).\n",
    "   * For an upper-tailed test, the p-value is equal to one minus this probability; p-value = 1 - cdf(ts).\n",
    "   * For a two-sided test, the p-value is equal to two times the p-value for the lower-tailed p-value if the value of the test statistic from your sample is negative. However, the p-value is equal to two times the p-value for the upper-tailed p-value if the value of the test statistic from your sample is positive.\n"
   ]
  },
  {
   "cell_type": "code",
   "execution_count": 17,
   "metadata": {},
   "outputs": [
    {
     "name": "stdout",
     "output_type": "stream",
     "text": [
      "p value: 4.461230231620972e-31\n"
     ]
    }
   ],
   "source": [
    "cdf = stats.t.cdf(t_stat,df=dof)\n",
    "\n",
    "# For a two-sided test, if the value of the test statistic from \n",
    "# your sample is negative, then the p-value is equal to \n",
    "# two times the p-value for the lower-tailed p-value \n",
    "# (i.e. 2 * cdf(ts))\n",
    "# \n",
    "p_val = 2 * cdf    \n",
    "\n",
    "print(\"p value:\", p_val)"
   ]
  },
  {
   "cell_type": "code",
   "execution_count": 18,
   "metadata": {},
   "outputs": [
    {
     "name": "stdout",
     "output_type": "stream",
     "text": [
      "t stat: -11.893299030876712 p value: 4.461230231620717e-31\n"
     ]
    }
   ],
   "source": [
    "# using the appropriate function from scipy.stats\n",
    "# Calculate the T-test for the means of two independent samples.\n",
    "# stats.ttest_ind\n",
    "# This is a two-sided test for the null hypothesis that 2 independent\n",
    "# samples have identical average (expected) values. This test assumes\n",
    "# that the populations have identical variances by default.\n",
    "\n",
    "t_stat, p_val = stats.ttest_ind(ins0.charges, ins1.charges)\n",
    "print(\"t stat:\", t_stat, \"p value:\", p_val)"
   ]
  },
  {
   "cell_type": "markdown",
   "metadata": {},
   "source": [
    "   * A large t-score tells you that the groups are different.\n",
    "   * A small t-score tells you that the groups are similar.\n",
    "   \n",
    "   Is -11.9 \"small\"? 4.46e-31 is essentially 0.\n",
    "   \n",
    "   Or is 11 large?"
   ]
  },
  {
   "cell_type": "markdown",
   "metadata": {},
   "source": [
    "Congratulations! Hopefully you got the exact same numerical results. This shows that you correctly calculated the numbers by hand. Secondly, you used the correct function and saw that it's much easier to use. All you need to do pass your data to it."
   ]
  },
  {
   "cell_type": "markdown",
   "metadata": {},
   "source": [
    "<span style=\"color:red\"> **Hooboy yes**</span>"
   ]
  },
  {
   "cell_type": "markdown",
   "metadata": {},
   "source": [
    "__Q:__ In the above calculations, we assumed the sample variances were equal. We may well suspect they are not (we'll explore this in another assignment). The calculation becomes a little more complicated to do by hand in this case, but we now know of a helpful function. Check the documentation for the function to tell it not to assume equal variances and perform the test again."
   ]
  },
  {
   "cell_type": "markdown",
   "metadata": {},
   "source": [
    "__A:__ Given hat this is a very non-normal distribution, I'd bet on he side of \"the sample variances are not equal\".\n",
    "\n",
    "Set `equal_var = False`"
   ]
  },
  {
   "cell_type": "code",
   "execution_count": 19,
   "metadata": {},
   "outputs": [
    {
     "name": "stdout",
     "output_type": "stream",
     "text": [
      "t stat: -13.298031957975649 p value: 1.1105103216309125e-37\n"
     ]
    }
   ],
   "source": [
    "t_stat, p_val = stats.ttest_ind(ins0.charges, ins1.charges, equal_var = False)\n",
    "print(\"t stat:\", t_stat, \"p value:\", p_val)"
   ]
  },
  {
   "cell_type": "markdown",
   "metadata": {},
   "source": [
    "At which point the p_value is even smaller."
   ]
  },
  {
   "cell_type": "markdown",
   "metadata": {},
   "source": [
    "__Q:__ Conceptual question: look through the documentation for statistical test functions in scipy.stats. You'll see the above _t_-test for a sample, but can you see an equivalent one for performing a *z*-test from a sample? Comment on your answer."
   ]
  },
  {
   "cell_type": "markdown",
   "metadata": {},
   "source": [
    "__A:__ `scipy` `stats` has a `zscore` method.\n",
    "```\n",
    "scipy.stats.zscore(a, axis=0, ddof=0)[source]\n",
    "Calculates the z score of each value in the sample, relative to the sample mean \n",
    "and standard deviation.\n",
    "```\n",
    "\n",
    "The `statsmodel` package has this:\n",
    "```\n",
    "statsmodels.stats.weightstats.ztest(x1, x2=None, value=0, alternative='two-sided', usevar='pooled', ddof=1.0)[source]\n",
    "test for mean based on normal distribution, one or two samples\n",
    "```"
   ]
  },
  {
   "cell_type": "markdown",
   "metadata": {},
   "source": [
    "## Learning outcomes"
   ]
  },
  {
   "cell_type": "markdown",
   "metadata": {},
   "source": [
    "Having completed this project notebook, you now have good hands-on experience:\n",
    "* using the central limit theorem to help you apply frequentist techniques to answer questions that pertain to very non-normally distributed data from the real world\n",
    "* performing inference using such data to answer business questions\n",
    "* forming a hypothesis and framing the null and alternative hypotheses\n",
    "* testing this using a _t_-test"
   ]
  },
  {
   "cell_type": "markdown",
   "metadata": {},
   "source": [
    "<hr style=\"border: 5px solid green;\">"
   ]
  },
  {
   "cell_type": "markdown",
   "metadata": {},
   "source": [
    "I may have good hands-on experience but I am still confused."
   ]
  },
  {
   "cell_type": "code",
   "execution_count": null,
   "metadata": {},
   "outputs": [],
   "source": []
  }
 ],
 "metadata": {
  "kernelspec": {
   "display_name": "Python 3",
   "language": "python",
   "name": "python3"
  },
  "language_info": {
   "codemirror_mode": {
    "name": "ipython",
    "version": 3
   },
   "file_extension": ".py",
   "mimetype": "text/x-python",
   "name": "python",
   "nbconvert_exporter": "python",
   "pygments_lexer": "ipython3",
   "version": "3.7.3"
  }
 },
 "nbformat": 4,
 "nbformat_minor": 2
}
