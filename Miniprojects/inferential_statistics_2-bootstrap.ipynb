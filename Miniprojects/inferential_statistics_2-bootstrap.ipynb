{
 "cells": [
  {
   "cell_type": "markdown",
   "metadata": {},
   "source": [
    "# Inferential statistics II - Bootstrapping"
   ]
  },
  {
   "cell_type": "markdown",
   "metadata": {},
   "source": [
    "## Introduction"
   ]
  },
  {
   "cell_type": "markdown",
   "metadata": {},
   "source": [
    "In the previous frequentist mini-projects, you did frequentist calculations to perform inference from a sample of data. Such inference relies on theory largely developed from the 19th-Century onwards that is subject to certain assumptions or theoretical limits. These are fine if those assumptions hold for the particular case you're working on, and what you want to do has a known theoretical distribution (for example the mean of a sampling distribution that we looked at in the previous mini-project.)"
   ]
  },
  {
   "cell_type": "markdown",
   "metadata": {},
   "source": [
    "In this mini-project, you'll use the same medical charge data you used in the frequentist inference mini-project, but this time you'll make inferences about the population using bootstrapping (ie. simulating repeated re-runs of an experiment.) If frequentism is about using assumptions and theoretical results to calculate what we expect to happen were an experiment to be run again and again and again, then bootstrapping is about using computing power to essentially re-run the sample draw again and again and again to see what actually happens."
   ]
  },
  {
   "cell_type": "markdown",
   "metadata": {},
   "source": [
    "## Prerequisites"
   ]
  },
  {
   "cell_type": "markdown",
   "metadata": {},
   "source": [
    "While these exercises do not strictly depend on these concepts, we encourage you to complete the previous mini-projects before starting this one so that you can approach this assignment with a good understanding of frequentist concepts like:\n",
    "* the _z_-statistic\n",
    "* the _t_-statistic\n",
    "* the difference and relationship between the two\n",
    "* the Central Limit Theorem, its assumptions and consequences\n",
    "* how to estimate the population mean and standard deviation from a sample\n",
    "* the concept of a sampling distribution of a test statistic, particularly for the mean\n",
    "* how to combine these concepts to calculate confidence intervals and p-values\n",
    "* how those confidence intervals and p-values allow you to perform hypothesis (or A/B) tests"
   ]
  },
  {
   "cell_type": "markdown",
   "metadata": {},
   "source": [
    "To complete mini-project, it's important that you first complete the bootstrap resources listed in this subunit, as they contain valuable information about how to calculate bootstrap replicates of summary statistics. Having an basic understanding of what confidence intervals and p-values are will also be helpful (we touch on them in this mini-project, but please speak to your mentor or conduct individual research if you'd like to learn more.) "
   ]
  },
  {
   "cell_type": "code",
   "execution_count": 1,
   "metadata": {},
   "outputs": [],
   "source": [
    "import pandas as pd\n",
    "import numpy as np\n",
    "from numpy.random import seed\n",
    "from scipy import stats\n",
    "import matplotlib.pyplot as plt"
   ]
  },
  {
   "cell_type": "markdown",
   "metadata": {},
   "source": [
    "## Medical charge data set"
   ]
  },
  {
   "cell_type": "code",
   "execution_count": 2,
   "metadata": {},
   "outputs": [],
   "source": [
    "med_charges = pd.read_csv('data/insurance2.csv')"
   ]
  },
  {
   "cell_type": "code",
   "execution_count": 3,
   "metadata": {},
   "outputs": [
    {
     "data": {
      "text/html": [
       "<div>\n",
       "<style scoped>\n",
       "    .dataframe tbody tr th:only-of-type {\n",
       "        vertical-align: middle;\n",
       "    }\n",
       "\n",
       "    .dataframe tbody tr th {\n",
       "        vertical-align: top;\n",
       "    }\n",
       "\n",
       "    .dataframe thead th {\n",
       "        text-align: right;\n",
       "    }\n",
       "</style>\n",
       "<table border=\"1\" class=\"dataframe\">\n",
       "  <thead>\n",
       "    <tr style=\"text-align: right;\">\n",
       "      <th></th>\n",
       "      <th>age</th>\n",
       "      <th>sex</th>\n",
       "      <th>bmi</th>\n",
       "      <th>children</th>\n",
       "      <th>smoker</th>\n",
       "      <th>region</th>\n",
       "      <th>charges</th>\n",
       "      <th>insuranceclaim</th>\n",
       "    </tr>\n",
       "  </thead>\n",
       "  <tbody>\n",
       "    <tr>\n",
       "      <th>0</th>\n",
       "      <td>19</td>\n",
       "      <td>0</td>\n",
       "      <td>27.900</td>\n",
       "      <td>0</td>\n",
       "      <td>1</td>\n",
       "      <td>3</td>\n",
       "      <td>16884.92400</td>\n",
       "      <td>1</td>\n",
       "    </tr>\n",
       "    <tr>\n",
       "      <th>1</th>\n",
       "      <td>18</td>\n",
       "      <td>1</td>\n",
       "      <td>33.770</td>\n",
       "      <td>1</td>\n",
       "      <td>0</td>\n",
       "      <td>2</td>\n",
       "      <td>1725.55230</td>\n",
       "      <td>1</td>\n",
       "    </tr>\n",
       "    <tr>\n",
       "      <th>2</th>\n",
       "      <td>28</td>\n",
       "      <td>1</td>\n",
       "      <td>33.000</td>\n",
       "      <td>3</td>\n",
       "      <td>0</td>\n",
       "      <td>2</td>\n",
       "      <td>4449.46200</td>\n",
       "      <td>0</td>\n",
       "    </tr>\n",
       "    <tr>\n",
       "      <th>3</th>\n",
       "      <td>33</td>\n",
       "      <td>1</td>\n",
       "      <td>22.705</td>\n",
       "      <td>0</td>\n",
       "      <td>0</td>\n",
       "      <td>1</td>\n",
       "      <td>21984.47061</td>\n",
       "      <td>0</td>\n",
       "    </tr>\n",
       "    <tr>\n",
       "      <th>4</th>\n",
       "      <td>32</td>\n",
       "      <td>1</td>\n",
       "      <td>28.880</td>\n",
       "      <td>0</td>\n",
       "      <td>0</td>\n",
       "      <td>1</td>\n",
       "      <td>3866.85520</td>\n",
       "      <td>1</td>\n",
       "    </tr>\n",
       "  </tbody>\n",
       "</table>\n",
       "</div>"
      ],
      "text/plain": [
       "   age  sex     bmi  children  smoker  region      charges  insuranceclaim\n",
       "0   19    0  27.900         0       1       3  16884.92400               1\n",
       "1   18    1  33.770         1       0       2   1725.55230               1\n",
       "2   28    1  33.000         3       0       2   4449.46200               0\n",
       "3   33    1  22.705         0       0       1  21984.47061               0\n",
       "4   32    1  28.880         0       0       1   3866.85520               1"
      ]
     },
     "execution_count": 3,
     "metadata": {},
     "output_type": "execute_result"
    }
   ],
   "source": [
    "med_charges.head()"
   ]
  },
  {
   "cell_type": "markdown",
   "metadata": {},
   "source": [
    "In the previous assignment, you used the frequentist approach to estimate the lower limit for the 95% confidence interval on the mean hospital charge. This approach relies on statistical theory that has been developed over the years and is also limited to statistics for which theoretical results on the sampling distribution exist. These results are remarkably useful and applicable much of the time and under a surprisingly wide range of conditions."
   ]
  },
  {
   "cell_type": "markdown",
   "metadata": {},
   "source": [
    "Having calculated the 95% lower confidence interval using frequentist theory in the previous exercise, you'll now use bootstrap inference to verify your calculations and check that you get consistent results without making the assumptions required before. After all, the distribution of charges really was very non-normal."
   ]
  },
  {
   "cell_type": "markdown",
   "metadata": {},
   "source": [
    "__Q:__ Use bootstrap sampling to estimate the same 95% confidence interval lower limit as before."
   ]
  },
  {
   "cell_type": "markdown",
   "metadata": {},
   "source": [
    "__A:__ Use `conf_int = np.percentile(bs_replicates, [5]) # 95% lower limit`"
   ]
  },
  {
   "cell_type": "code",
   "execution_count": 4,
   "metadata": {
    "scrolled": true
   },
   "outputs": [],
   "source": [
    "# Define a function we can use again\n",
    "def draw_bs_reps(data, func, size=1):\n",
    "    \"\"\"\n",
    "    Draw bootstrap replicates.\n",
    "      data = one-dimensional array of values\n",
    "      func = the function to run on each replicate, e.g. mean\n",
    "      size = the number of replicates to draw (generate) \n",
    "    \"\"\"\n",
    "\n",
    "    # Initialize array of replicates: bs_replicates\n",
    "    bs_replicates = np.empty(size)\n",
    "\n",
    "    # Generate replicates\n",
    "    for i in range(size):\n",
    "        bs_replicates[i] = func(\n",
    "                            np.random.choice(\n",
    "                                data, size=len(data)\n",
    "                           ))\n",
    "\n",
    "    return bs_replicates\n",
    "#end_def"
   ]
  },
  {
   "cell_type": "code",
   "execution_count": 5,
   "metadata": {},
   "outputs": [
    {
     "data": {
      "text/plain": [
       "array([12724.4679217])"
      ]
     },
     "execution_count": 5,
     "metadata": {},
     "output_type": "execute_result"
    }
   ],
   "source": [
    "# Draw 10000 replicates of medical charges and\n",
    "# calculate the 95% lower confidence interval \n",
    "np.random.seed(47)\n",
    "N_rep = 10000\n",
    "\n",
    "bs_replicates = draw_bs_reps(med_charges.charges, np.mean, N_rep)\n",
    "conf_int = np.percentile(bs_replicates, [5]) # 95% lower limit\n",
    "\n",
    "conf_int"
   ]
  },
  {
   "cell_type": "markdown",
   "metadata": {},
   "source": [
    "If you performed 10000 replicates immediately after setting the random seed to 47, you should get the value 12724 here, which compares very well with the value 12725 obtained using the _t_-distribution confidence interval previously. It is a most pleasant result to see the predictions of classical frequentist theory match with results that are now possible through the number-crunching ability of computers."
   ]
  },
  {
   "cell_type": "markdown",
   "metadata": {},
   "source": [
    "Remember, in the previous mini-projects, we saw that there are two ways of performing a _t_-test from a sample, depending on whether we can assume the groups have equal variance or not. We can actually easily test this using the bootstrap approach!"
   ]
  },
  {
   "cell_type": "markdown",
   "metadata": {},
   "source": [
    "__Q:__ Calculate the 95% confidence interval for the difference between the standard deviations of insurance and non-insurance claim charges (insured - non-insured). Calculate the differences over 10000 replicates. Plot the histogram of values and mark the locations of the percentiles. State the null and alternative hypothesis and comment on whether you would retain or reject the null hypothesis in this case and why."
   ]
  },
  {
   "cell_type": "markdown",
   "metadata": {},
   "source": [
    "__A:__ The null hypothesis: there is no difference between the standard deviations of insurance and non-insurance claim charges."
   ]
  },
  {
   "cell_type": "code",
   "execution_count": 6,
   "metadata": {},
   "outputs": [],
   "source": [
    "# not insured\n",
    "ins0 = med_charges.loc[med_charges.insuranceclaim == 0]\n",
    "\n",
    "# not insured\n",
    "ins1 = med_charges.loc[med_charges.insuranceclaim == 1]\n"
   ]
  },
  {
   "cell_type": "code",
   "execution_count": 7,
   "metadata": {},
   "outputs": [
    {
     "name": "stdout",
     "output_type": "stream",
     "text": [
      "insured\n",
      " [14165.0062503  14176.49758651 14109.56522567 ... 14112.40608661\n",
      " 14420.49156918 14163.2373204 ]\n",
      "not insured\n",
      " [6159.05411195 6115.51989319 6642.76007193 ... 6510.627812   6371.59338214\n",
      " 6269.25813899]\n",
      "diffs\n",
      " [8005.95213835 8060.97769333 7466.80515375 ... 7601.77827461 8048.89818704\n",
      " 7893.97918141]\n"
     ]
    }
   ],
   "source": [
    "np.random.seed(47)\n",
    "N_rep = 10000\n",
    "\n",
    "nonins_bs_replicates = draw_bs_reps(ins0.charges, np.std, N_rep)\n",
    "ins_bs_replicates = draw_bs_reps(ins1.charges, np.std, N_rep)\n",
    "\n",
    "diffs = ins_bs_replicates - nonins_bs_replicates\n",
    "\n",
    "print(\"insured\\n\", ins_bs_replicates)\n",
    "print(\"not insured\\n\", nonins_bs_replicates)\n",
    "print(\"diffs\\n\", diffs)"
   ]
  },
  {
   "cell_type": "code",
   "execution_count": 8,
   "metadata": {},
   "outputs": [
    {
     "data": {
      "image/png": "[encoded data removed]",
      "text/plain": [
       "<Figure size 1008x576 with 1 Axes>"
      ]
     },
     "metadata": {
      "needs_background": "light"
     },
     "output_type": "display_data"
    }
   ],
   "source": [
    "axvline_kwargs = {\"linestyle\" : \"dashed\", \"linewidth\" : \"1\"} \n",
    "diffs_s = pd.Series(diffs)\n",
    "diffs_s.hist(bins=20, grid=False,\n",
    "           figsize=(14,8), xlabelsize=10, edgecolor='k')\n",
    "plt.xlabel(\"Dollars\", fontsize=15)\n",
    "plt.ylabel(\"Frequency\",fontsize=15)\n",
    "plt.axvline(np.percentile(diffs_s, [97.5]), **axvline_kwargs, label=\"2.5%\")\n",
    "plt.axvline(diffs_s.mean(), **axvline_kwargs, color=\"red\", label=\"mean\")\n",
    "plt.axvline(np.percentile(diffs_s, [2.5]), **axvline_kwargs, label=\"97.5%\")\n",
    "plt.legend(loc='upper right')\n",
    "plt.show()"
   ]
  },
  {
   "cell_type": "code",
   "execution_count": 9,
   "metadata": {},
   "outputs": [
    {
     "name": "stdout",
     "output_type": "stream",
     "text": [
      "The 95% confidence interval is between 6685.46 and 8510.07\n"
     ]
    }
   ],
   "source": [
    "conf_int = np.percentile(diffs, [2.5, 97.5]) # 95% \n",
    "lower, upper = conf_int\n",
    "print(\"The 95% confidence interval is between\", round(lower,2), \"and\", round(upper,2))"
   ]
  },
  {
   "cell_type": "markdown",
   "metadata": {},
   "source": [
    "A: There is definitely a difference between the standard deviations of insurance and non-insurance claim charges. A difference of anything close to 0 isn't even on the plot."
   ]
  },
  {
   "cell_type": "markdown",
   "metadata": {},
   "source": [
    "----------------------"
   ]
  },
  {
   "cell_type": "markdown",
   "metadata": {},
   "source": [
    "## Confidence interval,  $\\alpha$, and p-value\n",
    "\n",
    "The **confidence interval** is often a useful quantity to estimate. We wish to limit our expected probability of making a Type I error<sup>[1]</sup> to alpha ($\\alpha$)<sup>[2]</sup>. The associated confidence interval is our estimate of the interval within which we expect the true population value to be found (1 - $\\alpha$) $\\times$ 100 % of the time we do this test. \n",
    "\n",
    "In the exercise above, we performed bootstrap replicates to estimate the interval and reject the null hypothesis if this interval did not contain zero. You will sometimes see such an interval reported in the output of statistical functions.\n",
    "\n",
    "The partner of the confidence interval is the p-value. The p-value and the confidence interval are linked through our choice of $\\alpha$. The p-value tells us how likely it is, under the null hypothesis, to get an outcome at least as extreme as what was observed. If this fails to reach the level of our _pre-specified_ $\\alpha$, we decide the null hypothesis is sufficiently unlikely to be true and thus reject it. To calculate this p-value via the bootstrap, we have to put ourselves in a position where we are simulating the null hypothesis being true and then calculate the fraction of times we observe a result at least as extreme as that actually observed.\n",
    "\n",
    "Remember how, previously, you used the _t_-test to calculate the p-value for the observed difference between the means of insured and non-insured medical cases. We're now going to repeat this, this time using the bootstrap approach.\n",
    "\n",
    "<sup>[1]</sup> Type 1 error: where we wrongly reject the null hypothesis, and it is, instead, true)\n",
    "<br>\n",
    "<sup>[2]</sup> alpha ($\\alpha$) is the desired significance level, typically 0.05 or lower.\n",
    "\n",
    "See Also: [What is the difference between an alpha level and a p-value? ](https://courses.washington.edu/p209s07/lecturenotes/Week%205_Monday%20overheads.pdf)"
   ]
  },
  {
   "cell_type": "markdown",
   "metadata": {},
   "source": [
    "__Q:__ Perform a bootstrapped hypothesis test at the 5% significance level ($\\alpha = 0.05$) to calculate the p-value of the observed difference between insurance and non-insurance charges, state your null and alternative hypotheses and whether you retain or reject the null hypothesis for the given significance level.\n"
   ]
  },
  {
   "cell_type": "markdown",
   "metadata": {},
   "source": [
    "__A:__ \n",
    "The null hypothesis: there is no significant difference between insurance and non-insurance charges. (The difference seen in the dataset is due to chance.)\n",
    "\n",
    "The alernative hypothesis: there is a significant difference between insurance and non-insurance charges.\n",
    "\n",
    "<blockquote>\n",
    "    To do the two-sample bootstrap test, we shift both arrays to have the same mean, since we are simulating the hypothesis that their means are, in fact, equal. We then draw bootstrap samples out of the shifted arrays and compute the difference in means. This constitutes a bootstrap replicate, and we generate many of them. The p-value is the fraction of replicates with a difference in means greater than or equal to what was observed.\n",
    "</blockquote> \n",
    "\n",
    "reference: \n",
    "[DataCamp Statistical thinking in Python, part 2](https://campus.datacamp.com/courses/statistical-thinking-in-python-part-2)"
   ]
  },
  {
   "cell_type": "markdown",
   "metadata": {},
   "source": [
    "Null hypothesis: charges are identically distributed between insured and uninsured patients (there are no differences due to insurance; shuffling samples shouldn't matter.)\n",
    "\n",
    "Test statistic: if the populations are \"identical\", they should have the same mean charge. The difference in mean charge should be 0.\n",
    "\n",
    "   1. Use the function, `diff_of_means` to compute the empirical difference of means that was observed between charges for insured vs uninsured patients in the original dataset.\n",
    "   2. Shift both arrays to have the same mean\n",
    "   3. Draw 10,000 replicates out of the shifted arrays.\n",
    "   4. Use the function, `diff_of_means` to compute the difference of means for he N permuted samples.\n",
    "   5. Compare the differences from the original data with the randomly computed differences.\n",
    "   6. Compute the p-value as the fraction of replicates with a difference in means greater than or equal to what was observed"
   ]
  },
  {
   "cell_type": "code",
   "execution_count": 10,
   "metadata": {},
   "outputs": [],
   "source": [
    "# Define the functions we will use\n",
    "\n",
    "def diff_of_means(data_1, data_2):\n",
    "    \"\"\"\n",
    "    Difference in means of two arrays.\n",
    "    data1 - data2\n",
    "    \"\"\"\n",
    "\n",
    "    # The difference of means of data_1, data_2\n",
    "    diff = np.mean(data_1) - np.mean(data_2)\n",
    "\n",
    "    return diff\n",
    "#end_def"
   ]
  },
  {
   "cell_type": "code",
   "execution_count": 11,
   "metadata": {},
   "outputs": [],
   "source": [
    "# not insured\n",
    "# ins0.charges is the Series/array of interest\n",
    "ins0 = med_charges.loc[med_charges.insuranceclaim == 0]\n",
    "ins0_charges = ins0.charges.values # numpy array\n",
    "\n",
    "# not insured\n",
    "# ins1.charges is the Series/array of interest\n",
    "ins1 = med_charges.loc[med_charges.insuranceclaim == 1]\n",
    "ins1_charges = ins1.charges.values # numpy array\n"
   ]
  },
  {
   "cell_type": "code",
   "execution_count": 12,
   "metadata": {},
   "outputs": [],
   "source": [
    "# Compute empirical (observed in the data we have) difference in means\n",
    "# Use absolute value bcause we don't care (or pretend not to know)\n",
    "# which way the difference goes.\n",
    "empirical_diff_means = diff_of_means(ins1.charges, ins0.charges)\n",
    "\n",
    "# Mean of all charges (if insurance doesn't matter, this is relevant)\n",
    "# This is equivalent to the mean of the concatenated sub-populations\n",
    "mean_charges = np.mean(med_charges.charges)\n",
    "\n",
    "# Generate shifted arrays\n",
    "ins0_shifted = ins0_charges - np.mean(ins0_charges) + mean_charges\n",
    "ins1_shifted = ins1_charges - np.mean(ins1_charges) + mean_charges\n"
   ]
  },
  {
   "cell_type": "code",
   "execution_count": 13,
   "metadata": {},
   "outputs": [
    {
     "name": "stdout",
     "output_type": "stream",
     "text": [
      "p-value = 0.0\n"
     ]
    }
   ],
   "source": [
    "# Compute 10,000 bootstrap replicates from shifted arrays\n",
    "nonins_bs_replicates = draw_bs_reps(ins0_shifted, np.mean, size=10000)\n",
    "ins_bs_replicates = draw_bs_reps(ins1_shifted, np.mean, size=10000)\n",
    "\n",
    "# Get replicates of difference of means\n",
    "# subtracing in the same order as for empirical_diff_means\n",
    "bs_replicates_diff = ins_bs_replicates - nonins_bs_replicates\n",
    "\n",
    "# Compute and print p-value\n",
    "p = np.sum(bs_replicates_diff >= empirical_diff_means) / len(bs_replicates_diff)\n",
    "\n",
    "print('p-value =', p)"
   ]
  },
  {
   "cell_type": "markdown",
   "metadata": {},
   "source": [
    "We reject the null hypothesis for the given significance level."
   ]
  },
  {
   "cell_type": "markdown",
   "metadata": {},
   "source": [
    "__Q:__ To put the above result in perspective, plot the histogram of your bootstrapped differences along with lines marking the locations of the observed difference. (Why would we plot more than one line, given that we only have one observed difference?)"
   ]
  },
  {
   "cell_type": "markdown",
   "metadata": {},
   "source": [
    "__A:__ \"Why would we plot more than one line, given that we only have one observed difference?)\"\n",
    "\n",
    "I have no idea."
   ]
  },
  {
   "cell_type": "code",
   "execution_count": 14,
   "metadata": {},
   "outputs": [
    {
     "data": {
      "image/png": "[encoded data removed]",
      "text/plain": [
       "<Figure size 864x576 with 1 Axes>"
      ]
     },
     "metadata": {
      "needs_background": "light"
     },
     "output_type": "display_data"
    }
   ],
   "source": [
    "axvline_kwargs = {\"linestyle\" : \"dashed\", \"linewidth\" : \"1\"} \n",
    "\n",
    "plt.figure(figsize=(12,8))\n",
    "\n",
    "plt.hist(ins_bs_replicates, bins=20, label=\"insurance means\")\n",
    "plt.hist(nonins_bs_replicates, bins=20, label=\"non-insurance means\")\n",
    "plt.hist(bs_replicates_diff, bins=20, label=\"difference in means\")\n",
    "plt.xlabel(\"Dollars\", fontsize=15)\n",
    "plt.ylabel(\"Frequency\",fontsize=15)\n",
    "plt.axvline(empirical_diff_means, **axvline_kwargs, label=\"empirical mean difference\")\n",
    "plt.axvline(mean_charges, **axvline_kwargs, color=\"k\", label=\"mean of all charges\")\n",
    "plt.legend(loc='best')\n",
    "plt.show()\n"
   ]
  },
  {
   "cell_type": "markdown",
   "metadata": {},
   "source": [
    "__Q:__ Compare your p-value above with that obtained using the _t_-test function in the previous assignment. Do you think you would want to try to perform enough bootstrap replicates to observe a random difference as large as that we did observe?"
   ]
  },
  {
   "cell_type": "markdown",
   "metadata": {},
   "source": [
    "__A:__ In the previous assignment, I got the p-value, 4.46e-31. This time, I got 0.0.\n",
    "\n",
    "They're effectively equivalent.\n",
    "\n",
    "I see no reason to perform more bootstrap replicates. \n",
    "\n",
    "<blockquote>\n",
    "    The number of bootstrap samples recommended in literature has increased as available computing power has increased. If the results may have substantial real-world consequences, then one should use as many samples as is reasonable, given available computing power and time. Increasing the number of samples cannot increase the amount of information in the original data; it can only reduce the effects of random sampling errors which can arise from a bootstrap procedure itself. Moreover, there is evidence that numbers of samples greater than 100 lead to negligible improvements in the estimation of standard errors. In fact, according to the original developer of the bootstrapping method, even setting the number of samples at 50 is likely to lead to fairly good standard error estimates.\n",
    "\n",
    "[Wikipedia](https://en.wikipedia.org/wiki/Bootstrapping_(statistics)#Recommendations)\n",
    "</blockquote>"
   ]
  },
  {
   "cell_type": "markdown",
   "metadata": {},
   "source": [
    "**Why did we do a boostrap test? Why not a permuation test?**\n",
    "\n",
    "Try a permuation test. According o Stack Exchange, \"The permutation test is best for testing hypotheses and bootstrapping is best for estimating confidence intervals.\"\n",
    "\n",
    "\"Permutation tests test a specific null hypothesis of exchangeability, i.e. that only the random sampling/randomization explains the difference seen.\"\n",
    "\n",
    "Permutation tests requie that we have wo sample arrays (which we do) and cannot look for a difference in distribution (which we don;t care about here)."
   ]
  },
  {
   "cell_type": "code",
   "execution_count": 15,
   "metadata": {},
   "outputs": [],
   "source": [
    "# not insured\n",
    "ins0 = med_charges.loc[med_charges.insuranceclaim == 0]\n",
    "\n",
    "# not insured\n",
    "ins1 = med_charges.loc[med_charges.insuranceclaim == 1]\n",
    "\n",
    "# we don't need to concatenate the populations; \n",
    "# they're already mixed in the original dataset\n",
    "# but for purposes of writing a moe generic function, we'll\n",
    "# separate and concatnate\n",
    "\n",
    "def permutation_sample(data1, data2):\n",
    "    \"\"\"Generate a permutation sample from two data sets.\"\"\"\n",
    "\n",
    "    # Concatenate the data sets: data\n",
    "    data = np.concatenate((data1, data2))\n",
    "\n",
    "    # Permute the concatenated array: permuted_data\n",
    "    permuted_data = np.random.permutation(data)\n",
    "\n",
    "    # Split the permuted array into two parts\n",
    "    # Note position of colons in the slices!\n",
    "    perm_sample_1 = permuted_data[:len(data1)]\n",
    "    perm_sample_2= permuted_data[len(data2):]\n",
    "\n",
    "    return perm_sample_1, perm_sample_2\n",
    "#end_def\n",
    "\n",
    "def draw_perm_reps(data_1, data_2, func, size=1):\n",
    "    \"\"\"Generate multiple permutation replicates.\"\"\"\n",
    "\n",
    "    # Initialize array of replicates: perm_replicates\n",
    "    perm_replicates = np.empty(size)\n",
    "\n",
    "    for i in range(size):\n",
    "        # Generate permutation sample\n",
    "        perm_sample_1, perm_sample_2 = permutation_sample(data_1, data_2)\n",
    "\n",
    "        # Compute the test statistic\n",
    "        perm_replicates[i] = func(perm_sample_1, perm_sample_2)\n",
    "\n",
    "    return perm_replicates\n",
    "#end_def\n",
    "\n",
    "# diff_of_means has already been defined"
   ]
  },
  {
   "cell_type": "markdown",
   "metadata": {},
   "source": [
    "Null hypothesis: charges are identically distributed between insured and uninsured patients (there are no differences due to insurance.\n",
    "\n",
    "Test statistic: if the populations are \"identical\", they should have the same mean charge. The difference in mean charge should be 0.\n",
    "\n",
    "   1. Use the function, diff_of_means to compute the empirical difference of means that was observed between charges for insured vs uninsured patients in the original dataset.\n",
    "   2. Draw 10,000 permutation replicates, Using the function, diff_of_means to compute the difference of means for the permuted samples.\n",
    "   4. Compare the differences from the original data with the randomly computed differences.\n",
    "   5. Compute the p-value."
   ]
  },
  {
   "cell_type": "code",
   "execution_count": 16,
   "metadata": {},
   "outputs": [
    {
     "name": "stdout",
     "output_type": "stream",
     "text": [
      "p value: 0.0\n"
     ]
    }
   ],
   "source": [
    "# Compute empirical difference from dataset \n",
    "empirical_diff_means = diff_of_means(ins1.charges, ins0.charges)\n",
    "\n",
    "# Draw 10,000 permutation replicates\n",
    "perm_replicates = draw_perm_reps(ins1.charges, ins0.charges,\n",
    "                                 diff_of_means, size=10000)\n",
    "\n",
    "# Compute p-value\n",
    "p = np.sum(perm_replicates >= empirical_diff_means) / len(perm_replicates)\n",
    "\n",
    "print(\"p value:\", p)\n"
   ]
  },
  {
   "cell_type": "code",
   "execution_count": 17,
   "metadata": {},
   "outputs": [
    {
     "data": {
      "text/plain": [
       "7602.506384231368"
      ]
     },
     "execution_count": 17,
     "metadata": {},
     "output_type": "execute_result"
    }
   ],
   "source": [
    "observed_diff = np.mean(ins1.charges) - np.mean(ins0.charges)\n",
    "observed_diff "
   ]
  },
  {
   "cell_type": "code",
   "execution_count": 18,
   "metadata": {},
   "outputs": [
    {
     "data": {
      "image/png": "[encoded data removed]",
      "text/plain": [
       "<Figure size 720x576 with 1 Axes>"
      ]
     },
     "metadata": {
      "needs_background": "light"
     },
     "output_type": "display_data"
    }
   ],
   "source": [
    "axvline_kwargs = {\"linestyle\" : \"dashed\", \"linewidth\" : \"1\"} \n",
    "plt.figure(figsize=(10,8))\n",
    "\n",
    "plt.hist(perm_replicates, bins=20, label=\"difference in means\")\n",
    "plt.xlabel(\"Dollars\", fontsize=15)\n",
    "plt.ylabel(\"Frequency\",fontsize=15)\n",
    "plt.axvline(np.percentile(perm_replicates, [97.5]), **axvline_kwargs, label=\"2.5%\")\n",
    "plt.axvline(np.percentile(perm_replicates, [2.5]), **axvline_kwargs, label=\"97.5%\")\n",
    "plt.axvline(observed_diff, **axvline_kwargs, color=\"red\", label=\"observed\")\n",
    "plt.legend(loc='upper right')\n",
    "plt.show()"
   ]
  },
  {
   "cell_type": "markdown",
   "metadata": {},
   "source": [
    "__Q:__ Consider the two variants of the _t_-test we performed in the previous assignment. Which one would you use now?"
   ]
  },
  {
   "cell_type": "markdown",
   "metadata": {},
   "source": [
    "__A:__ By, \"two variants\", do you mean manually by formula vs. using `scipy.stats`? \n",
    "\n",
    "I would absolutely use `scipy.stats`. It's less prone or error cause by a mistake in parentheses, ordering of operations, or memory.\n",
    "\n",
    "Or, by \"two variants\", do you mean assuming variance is the same or different? I would assume different."
   ]
  },
  {
   "cell_type": "markdown",
   "metadata": {},
   "source": [
    "__Q:__ If, instead of being asked whether the means of two groups were different, you were working with an ad-recommender team who wanted to release a new recommendation algorithm, and you were looking at click-through rate both for the current algorithm (call it A) and from trials of their new algorithm (call it B), would you perform a two-sided test as above? What would be your null and alternative hypotheses and what would be the real-world consequence of rejecting the null hypothesis?"
   ]
  },
  {
   "cell_type": "markdown",
   "metadata": {},
   "source": [
    "__A:__ We should perform an A/B test.\n",
    "\n",
    "The null hypohesis is, as usual, that nothing changes. There is no difference in clickthrough rate between algorithm A and algorithm B.\n",
    "\n",
    "The alternative hypothesis is that there is a change. Se would like the change to be positive (higher click through rate).\n",
    "\n",
    "The real-world consequence would be that we might replace algorithm A. If we are correct, he clickthrough rate will really increase and we might make more money. But it costs money to replace the recommendation algorithm, so we had better make enugh more to offset that."
   ]
  },
  {
   "cell_type": "markdown",
   "metadata": {},
   "source": [
    "# Learning outcomes\n",
    "\n",
    "You've previously applied frequentist methods to calculate confidence intervals, p-values, and perform hypothesis tests. Frequentist methods use theoretical results to calculate what we expect would happen if experiments were to be run again and again and again. Now you've seen how you can do the same things using the bootstrap approach, which does not rely on such theory, and attendant assumptions, but instead literally does run experiments again and again and again.\n",
    "\n",
    "In these exercises, you have:\n",
    "* calculated the same confidence interval lower limit as you did previously\n",
    "* tested the assumption that the variances of the two groups (insured vs. non-insured) were equal - something a bit harder to do using the frequentist method because of the nature of the sampling distribution for variance\n",
    "* calculated the p-value for the difference between the means of the two groups and compared with the result obtained using the previous frequentist approach\n",
    "\n",
    "You are now well equipped to apply the bootstrap approach to a wide variety of problems. Just think about what conditions you wish to recreate in your simulated reruns."
   ]
  },
  {
   "cell_type": "markdown",
   "metadata": {},
   "source": [
    "_hmmmmmmmmm_"
   ]
  },
  {
   "cell_type": "code",
   "execution_count": null,
   "metadata": {},
   "outputs": [],
   "source": []
  }
 ],
 "metadata": {
  "kernelspec": {
   "display_name": "Python 3",
   "language": "python",
   "name": "python3"
  },
  "language_info": {
   "codemirror_mode": {
    "name": "ipython",
    "version": 3
   },
   "file_extension": ".py",
   "mimetype": "text/x-python",
   "name": "python",
   "nbconvert_exporter": "python",
   "pygments_lexer": "ipython3",
   "version": "3.7.3"
  }
 },
 "nbformat": 4,
 "nbformat_minor": 2
}
