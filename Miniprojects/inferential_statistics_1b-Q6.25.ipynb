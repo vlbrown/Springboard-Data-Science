{
 "cells": [
  {
   "cell_type": "markdown",
   "metadata": {},
   "source": [
    "# Inferential Statistics Ib - Frequentism"
   ]
  },
  {
   "cell_type": "markdown",
   "metadata": {},
   "source": [
    "## Learning objectives"
   ]
  },
  {
   "cell_type": "markdown",
   "metadata": {},
   "source": [
    "Welcome to the second Frequentist inference mini-project! Over the course of working on this mini-project and the previous frequentist mini-project, you'll learn the fundamental concepts associated with frequentist inference. The following list includes the topics you will become familiar with as you work through these two mini-projects:\n",
    "* the _z_-statistic\n",
    "* the _t_-statistic\n",
    "* the difference and relationship between the two\n",
    "* the Central Limit Theorem, its assumptions and consequences\n",
    "* how to estimate the population mean and standard deviation from a sample\n",
    "* the concept of a sampling distribution of a test statistic, particularly for the mean\n",
    "* how to combine these concepts to calculate confidence intervals and p-values\n",
    "* how those confidence intervals and p-values allow you to perform hypothesis (or A/B) tests"
   ]
  },
  {
   "cell_type": "markdown",
   "metadata": {},
   "source": [
    "## Prerequisites"
   ]
  },
  {
   "cell_type": "markdown",
   "metadata": {},
   "source": [
    "* what a random variable is\n",
    "* what a probability density function (pdf) is\n",
    "* what the cumulative density function is\n",
    "* a high-level sense of what the Normal distribution\n",
    "\n",
    "If these concepts are new to you, please take a few moments to Google these topics in order to get a sense of what they are and how you might use them.\n",
    "\n",
    "These two notebooks were designed to bridge the gap between having a basic understanding of probability and random variables and being able to apply these concepts in Python. This second frequentist inference mini-project focuses on a real-world application of this type of inference to give you further practice using these concepts. "
   ]
  },
  {
   "cell_type": "markdown",
   "metadata": {},
   "source": [
    "In the previous notebook, we used only data from a known normal distribution. You'll now tackle real data, rather than simulated data, and answer some relevant real-world business problems using the data."
   ]
  },
  {
   "cell_type": "markdown",
   "metadata": {},
   "source": [
    "## Hospital medical charges"
   ]
  },
  {
   "cell_type": "markdown",
   "metadata": {},
   "source": [
    "Imagine that a hospital has hired you as their data analyst. An administrator is working on the hospital's business operations plan and needs you to help them answer some business questions. This mini-project, as well as the bootstrap and Bayesian inference mini-projects also found in this unit are designed to illustrate how each of the inferential statistics methods have their uses for different use cases. \n",
    "\n",
    "In this assignment notebook, you're going to use frequentist statistical inference on a data sample to answer the questions:\n",
    "* has the hospital's revenue stream fallen below a key threshold?\n",
    "* are patients with insurance really charged different amounts than those without?\n",
    "\n",
    "Answering that last question with a frequentist approach makes some assumptions, or requires some knowledge, about the two groups. In the next mini-project, you'll use bootstrapping to test that assumption. And in the final mini-project of the unit, you're going to create a model for simulating _individual_ charges (not a sampling distribution) that the hospital can use to model a range of scenarios."
   ]
  },
  {
   "cell_type": "markdown",
   "metadata": {},
   "source": [
    "We are going to use some data on medical charges obtained from [Kaggle](https://www.kaggle.com/easonlai/sample-insurance-claim-prediction-dataset). For the purposes of this exercise, assume the observations are the result of random sampling from one hospital. Recall in the previous assignment, we introduced the Central Limit Theorem (CLT), and how it tells us that the distributions of sample statistics approach a normal distribution as $n$ increases. The amazing thing about this is that it applies to the sampling distributions of statistics that have been calculated from even highly non-normal distributions of data. Remember, also, that hypothesis testing is very much based on making inferences about such sample statistics. You're going to rely heavily on the CLT to apply frequentist (parametric) tests to answer the questions in this notebook."
   ]
  },
  {
   "cell_type": "code",
   "execution_count": 1,
   "metadata": {},
   "outputs": [],
   "source": [
    "import pandas as pd\n",
    "import numpy as np\n",
    "import matplotlib.pyplot as plt\n",
    "from scipy import stats\n",
    "from scipy.stats import t\n",
    "from scipy.stats import norm\n",
    "from numpy.random import seed\n",
    "medical = pd.read_csv('data/insurance2.csv')"
   ]
  },
  {
   "cell_type": "code",
   "execution_count": 2,
   "metadata": {},
   "outputs": [
    {
     "data": {
      "text/plain": [
       "(1338, 8)"
      ]
     },
     "execution_count": 2,
     "metadata": {},
     "output_type": "execute_result"
    }
   ],
   "source": [
    "medical.shape"
   ]
  },
  {
   "cell_type": "code",
   "execution_count": 3,
   "metadata": {},
   "outputs": [
    {
     "data": {
      "text/html": [
       "<div>\n",
       "<style scoped>\n",
       "    .dataframe tbody tr th:only-of-type {\n",
       "        vertical-align: middle;\n",
       "    }\n",
       "\n",
       "    .dataframe tbody tr th {\n",
       "        vertical-align: top;\n",
       "    }\n",
       "\n",
       "    .dataframe thead th {\n",
       "        text-align: right;\n",
       "    }\n",
       "</style>\n",
       "<table border=\"1\" class=\"dataframe\">\n",
       "  <thead>\n",
       "    <tr style=\"text-align: right;\">\n",
       "      <th></th>\n",
       "      <th>age</th>\n",
       "      <th>sex</th>\n",
       "      <th>bmi</th>\n",
       "      <th>children</th>\n",
       "      <th>smoker</th>\n",
       "      <th>region</th>\n",
       "      <th>charges</th>\n",
       "      <th>insuranceclaim</th>\n",
       "    </tr>\n",
       "  </thead>\n",
       "  <tbody>\n",
       "    <tr>\n",
       "      <th>0</th>\n",
       "      <td>19</td>\n",
       "      <td>0</td>\n",
       "      <td>27.900</td>\n",
       "      <td>0</td>\n",
       "      <td>1</td>\n",
       "      <td>3</td>\n",
       "      <td>16884.92400</td>\n",
       "      <td>1</td>\n",
       "    </tr>\n",
       "    <tr>\n",
       "      <th>1</th>\n",
       "      <td>18</td>\n",
       "      <td>1</td>\n",
       "      <td>33.770</td>\n",
       "      <td>1</td>\n",
       "      <td>0</td>\n",
       "      <td>2</td>\n",
       "      <td>1725.55230</td>\n",
       "      <td>1</td>\n",
       "    </tr>\n",
       "    <tr>\n",
       "      <th>2</th>\n",
       "      <td>28</td>\n",
       "      <td>1</td>\n",
       "      <td>33.000</td>\n",
       "      <td>3</td>\n",
       "      <td>0</td>\n",
       "      <td>2</td>\n",
       "      <td>4449.46200</td>\n",
       "      <td>0</td>\n",
       "    </tr>\n",
       "    <tr>\n",
       "      <th>3</th>\n",
       "      <td>33</td>\n",
       "      <td>1</td>\n",
       "      <td>22.705</td>\n",
       "      <td>0</td>\n",
       "      <td>0</td>\n",
       "      <td>1</td>\n",
       "      <td>21984.47061</td>\n",
       "      <td>0</td>\n",
       "    </tr>\n",
       "    <tr>\n",
       "      <th>4</th>\n",
       "      <td>32</td>\n",
       "      <td>1</td>\n",
       "      <td>28.880</td>\n",
       "      <td>0</td>\n",
       "      <td>0</td>\n",
       "      <td>1</td>\n",
       "      <td>3866.85520</td>\n",
       "      <td>1</td>\n",
       "    </tr>\n",
       "  </tbody>\n",
       "</table>\n",
       "</div>"
      ],
      "text/plain": [
       "   age  sex     bmi  children  smoker  region      charges  insuranceclaim\n",
       "0   19    0  27.900         0       1       3  16884.92400               1\n",
       "1   18    1  33.770         1       0       2   1725.55230               1\n",
       "2   28    1  33.000         3       0       2   4449.46200               0\n",
       "3   33    1  22.705         0       0       1  21984.47061               0\n",
       "4   32    1  28.880         0       0       1   3866.85520               1"
      ]
     },
     "execution_count": 3,
     "metadata": {},
     "output_type": "execute_result"
    }
   ],
   "source": [
    "medical.head()"
   ]
  },
  {
   "cell_type": "markdown",
   "metadata": {},
   "source": [
    "__Q:__ Plot the histogram of charges and calculate the mean and standard deviation. Comment on the appropriateness of these statistics for the data."
   ]
  },
  {
   "cell_type": "markdown",
   "metadata": {},
   "source": [
    "__A:__ The histogram shows a big peak below \\\\$15,000, a much smaller bump between \\\\$32,000 and \\\\$52,000, on the right, and a very flat tail above \\\\$52,000.\n",
    "\n",
    "The std deviation is very close to the mean and also very high. A high standard deviation means that the numbers are more spread out. We don't have a normal curve, the mean isn't useful here and all the std dev. tells us is that we have some very high (and very low) charges with respect to the \"average\".\n",
    "\n",
    "These are not appropriate statistics for the data."
   ]
  },
  {
   "cell_type": "code",
   "execution_count": 4,
   "metadata": {},
   "outputs": [
    {
     "data": {
      "image/png": "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\n",
      "text/plain": [
       "<Figure size 1008x576 with 1 Axes>"
      ]
     },
     "metadata": {
      "needs_background": "light"
     },
     "output_type": "display_data"
    }
   ],
   "source": [
    "medical.hist(column='charges', bins=20, grid=False,\n",
    "           figsize=(14,8), xlabelsize=10, edgecolor='k')\n",
    "plt.xticks(range(0, 70000, 3000))\n",
    "plt.xlabel(\"Dollars\", fontsize=15)\n",
    "plt.ylabel(\"Frequency\",fontsize=15)\n",
    "plt.show()"
   ]
  },
  {
   "cell_type": "code",
   "execution_count": 5,
   "metadata": {},
   "outputs": [
    {
     "data": {
      "text/plain": [
       "63770.42801"
      ]
     },
     "execution_count": 5,
     "metadata": {},
     "output_type": "execute_result"
    }
   ],
   "source": [
    "max(medical.charges)"
   ]
  },
  {
   "cell_type": "code",
   "execution_count": 6,
   "metadata": {},
   "outputs": [
    {
     "name": "stdout",
     "output_type": "stream",
     "text": [
      "mean: 13270.42 \n",
      "std. dev.: 12110.01\n"
     ]
    }
   ],
   "source": [
    "m_mean = round(medical.charges.mean(), 2)\n",
    "m_std = round(medical.charges.std(), 2)\n",
    "\n",
    "print(\"mean:\", m_mean, \"\\nstd. dev.:\", m_std)"
   ]
  },
  {
   "cell_type": "markdown",
   "metadata": {},
   "source": [
    "`pandas` std. deviation is equivalent to `numpy` corrected std. dev. with `ddof=1`."
   ]
  },
  {
   "cell_type": "markdown",
   "metadata": {},
   "source": [
    "In a funny way, I think this is a better histogram:"
   ]
  },
  {
   "cell_type": "code",
   "execution_count": 7,
   "metadata": {},
   "outputs": [
    {
     "data": {
      "image/png": "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\n",
      "text/plain": [
       "<Figure size 1008x576 with 1 Axes>"
      ]
     },
     "metadata": {
      "needs_background": "light"
     },
     "output_type": "display_data"
    }
   ],
   "source": [
    "medical.hist(column='charges', bins=5, grid=False,\n",
    "           figsize=(14,8), xlabelsize=10, edgecolor='k')\n",
    "plt.xticks(range(0, 70000, 5000))\n",
    "plt.xlabel(\"Dollars\", fontsize=15)\n",
    "plt.ylabel(\"Frequency\",fontsize=15)\n",
    "plt.show()"
   ]
  },
  {
   "cell_type": "code",
   "execution_count": 8,
   "metadata": {},
   "outputs": [
    {
     "name": "stdout",
     "output_type": "stream",
     "text": [
      "Median charge is 9382.03\n"
     ]
    }
   ],
   "source": [
    "m_median = round(medical.charges.median(), 2)\n",
    "print(\"Median charge is\", m_median)"
   ]
  },
  {
   "cell_type": "markdown",
   "metadata": {},
   "source": [
    "__Q:__ The administrator is concerned that the actual average charge has fallen below 12000, threatening the hospital's operational model. On the assumption that these data represent a random sample of charges, how would you justify that these data allow you to answer that question? And what would be the most appropriate frequentist test, of the ones discussed so far, to apply?"
   ]
  },
  {
   "cell_type": "markdown",
   "metadata": {},
   "source": [
    "__A:__ The mean is 13270.42, which isn't much higher than 12,000. The median charge is 9382.03, well under 12000. The histogram with only 5 bins makes it pretty clear that charges less than 15000 are very common.\n",
    "\n",
    "\"Frequentist statistics is a type of statistical approach where conclusions are made based on the frequency of an event. This statistical approach determines the probability of a long-term experiment\"\n",
    "\n",
    "The most appropriate frequentist test would be to use the CLT to resample the means and work toward a better distribution, then ask \"what is the probability of a charge of less than 12000\"?\n",
    "\n",
    "Start by doing more samples.\n",
    "\n"
   ]
  },
  {
   "cell_type": "code",
   "execution_count": 9,
   "metadata": {},
   "outputs": [
    {
     "name": "stdout",
     "output_type": "stream",
     "text": [
      "mean 13429.083800555201 \n",
      "std. dev.: 1586.8568023784565\n"
     ]
    }
   ],
   "source": [
    "m = medical.charges.to_numpy()\n",
    "\n",
    "seed(42)\n",
    "sample_mean = []\n",
    "\n",
    "# calculate 100 means sampled from the larger dataset\n",
    "for n in range(100):\n",
    "    this_sample = np.random.choice(m, 50)\n",
    "    sample_mean.append(np.mean(this_sample))\n",
    "\n",
    "mean_of_means = np.mean(sample_mean)\n",
    "std_of_means = np.std(sample_mean, ddof=1)\n",
    "\n",
    "print(\"mean\", mean_of_means, \"\\nstd. dev.:\", std_of_means)"
   ]
  },
  {
   "cell_type": "markdown",
   "metadata": {},
   "source": [
    "Use our resampled mean (which hasn't changed much) and resampled std. dev. (which has narrowed a lot) to calculate the probability of a charge less than 12000."
   ]
  },
  {
   "cell_type": "code",
   "execution_count": 10,
   "metadata": {},
   "outputs": [
    {
     "data": {
      "text/plain": [
       "0.18379181316918147"
      ]
     },
     "execution_count": 10,
     "metadata": {},
     "output_type": "execute_result"
    }
   ],
   "source": [
    "norm.cdf(12000, loc=13429, scale=1586)"
   ]
  },
  {
   "cell_type": "markdown",
   "metadata": {},
   "source": [
    "__Q:__ Given the nature of the administrator's concern, what is the appropriate confidence interval in this case? A one-sided or two-sided interval? Calculate the critical value and the relevant 95% confidence interval for the mean and comment on whether the administrator should be concerned?"
   ]
  },
  {
   "cell_type": "markdown",
   "metadata": {},
   "source": [
    "__A:__ A one-sided interval (less than) is more appropriate in this case. \"In general, use a one-sided confidence interval instead of a two-sided confidence interval to obtain the tightest upper (lower) bound on a sample mean.\" [ref](https://vsp.pnnl.gov/help/Vsample/Stats_CI_One_Sided.htm)\n",
    "\n",
    "The critical z value for a 95% confidence interval is 1.96.\n",
    "\n",
    "margin of error = (critical value * pop std dev)\n",
    "\n",
    "ci = mean +/- (margin of error / sqrt(sample size))"
   ]
  },
  {
   "cell_type": "code",
   "execution_count": 11,
   "metadata": {},
   "outputs": [
    {
     "name": "stdout",
     "output_type": "stream",
     "text": [
      "13344.017168384684 < 13429 < 13513.982831615316\n"
     ]
    }
   ],
   "source": [
    "z = 1.96\n",
    "std_dev = 1586\n",
    "sample_size = 1338\n",
    "mean = 13429\n",
    "\n",
    "ci = (z * std_dev) / np.sqrt(sample_size)\n",
    "\n",
    "print ((mean - ci),  \"<\",  mean, \"<\", (mean + ci))"
   ]
  },
  {
   "cell_type": "markdown",
   "metadata": {},
   "source": [
    "The administrator should not be concerned yet. The 95% confidence level puts the average minimum charge at 13344, not 12000 or less."
   ]
  },
  {
   "cell_type": "markdown",
   "metadata": {},
   "source": [
    "---------------"
   ]
  },
  {
   "cell_type": "markdown",
   "metadata": {},
   "source": [
    "The administrator then wants to know whether people with insurance really are charged a different amount to those without.\n",
    "\n",
    "__Q:__ State the null and alternative hypothesis here. Use the _t_-test for the difference between means where the pooled standard deviation of the two groups is given by\n",
    "\\begin{equation}\n",
    "s_p = \\sqrt{\\frac{(n_0 - 1)s^2_0 + (n_1 - 1)s^2_1}{n_0 + n_1 - 2}}\n",
    "\\end{equation}\n",
    "\n",
    "and the *t* test statistic is then given by\n",
    "\n",
    "\\begin{equation}\n",
    "t = \\frac{\\bar{x}_0 - \\bar{x}_1}{s_p \\sqrt{1/n_0 + 1/n_1}}.\n",
    "\\end{equation}\n",
    "\n",
    "What assumption about the variances of the two groups are we making here?"
   ]
  },
  {
   "cell_type": "markdown",
   "metadata": {},
   "source": [
    "__A:__ The null hypothesis is that there is no difference between people with insurance and people without insurance, that the average charge is the same.\n",
    "\n",
    "The alternative hypothesis is that the administrator's fears are true and people with insurance are charged more (or less) than those without insurance.\n",
    "\n",
    "\"What assumption about the variances of the two groups are we making here?\" We're assuming that the variance is roughly the same and we can combine these two groups (pool the standard deviations) in this way.\n"
   ]
  },
  {
   "cell_type": "markdown",
   "metadata": {},
   "source": [
    "__Q:__ Perform this hypothesis test both manually, using the above formulae, and then using the appropriate function from [scipy.stats](https://docs.scipy.org/doc/scipy/reference/stats.html#statistical-tests) (hint, you're looking for a function to perform a _t_-test on two independent samples). For the manual approach, calculate the value of the test statistic and then its probability (the p-value). Verify you get the same results from both."
   ]
  },
  {
   "cell_type": "markdown",
   "metadata": {},
   "source": [
    "__A:__\n",
    "\\begin{equation}\n",
    "s_p = \\sqrt{\\frac{(n_0 - 1)s^2_0 + (n_1 - 1)s^2_1}{n_0 + n_1 - 2}}\n",
    "\\end{equation}\n",
    "\n",
    "and the *t* test statistic is then given by\n",
    "\n",
    "\\begin{equation}\n",
    "t = \\frac{\\bar{x}_0 - \\bar{x}_1}{s_p \\sqrt{1/n_0 + 1/n_1}}.\n",
    "\\end{equation}\n"
   ]
  },
  {
   "cell_type": "code",
   "execution_count": 12,
   "metadata": {},
   "outputs": [],
   "source": [
    "# not insured\n",
    "ins0 = medical.loc[medical.insuranceclaim == 0]\n",
    "\n",
    "# not insured\n",
    "ins1 = medical.loc[medical.insuranceclaim == 1]\n"
   ]
  },
  {
   "cell_type": "code",
   "execution_count": 13,
   "metadata": {
    "scrolled": true
   },
   "outputs": [
    {
     "name": "stdout",
     "output_type": "stream",
     "text": [
      "uninsured\n",
      " count 555 mean 8821.421892306294 std. dev. 6446.510126811736\n",
      "\n",
      "\n",
      "insured\n",
      " count 783 mean 16423.928276537663 std. dev. 14045.928418802127\n",
      "dof: 1336 sp: 11520.034268775256\n",
      "\n",
      "t stat: -11.89329903087671\n"
     ]
    }
   ],
   "source": [
    "\n",
    "n0 = len(ins0)\n",
    "s0 = (ins0.charges.std())\n",
    "x0 = (ins0.charges.mean())\n",
    "\n",
    "n1 = len(ins1)\n",
    "s1 = (ins1.charges.std())\n",
    "x1 = (ins1.charges.mean())\n",
    "\n",
    "print(\"uninsured\\n\", \"count\", n0, \"mean\", x0, \"std. dev.\", s0)\n",
    "print(\"\\n\")\n",
    "print(\"insured\\n\", \"count\", n1, \"mean\", x1, \"std. dev.\", s1)\n",
    "\n",
    "a = (n0 - 1)*s0**2\n",
    "b = (n1 - 1)*s1**2\n",
    "\n",
    "dof = (n0 + n1 - 2)\n",
    "\n",
    "sp = np.sqrt((a + b)/dof)\n",
    "\n",
    "print(\"dof:\", dof, \"sp:\", sp)\n",
    "\n",
    "t_stat = ((x0 - x1)/(sp*(np.sqrt(1/n0 + 1/n1))))\n",
    "\n",
    "print(\"\\nt stat:\", t_stat)"
   ]
  },
  {
   "cell_type": "markdown",
   "metadata": {},
   "source": [
    "After a lot of searching, I found [this](https://support.minitab.com/en-us/minitab/18/help-and-how-to/statistics/basic-statistics/supporting-topics/basics/manually-calculate-a-p-value/):\n",
    "\n",
    "   * For a lower-tailed test, the p-value is equal to this probability; p-value = cdf(ts).\n",
    "   * For an upper-tailed test, the p-value is equal to one minus this probability; p-value = 1 - cdf(ts).\n",
    "   * For a two-sided test, the p-value is equal to two times the p-value for the lower-tailed p-value if the value of the test statistic from your sample is negative. However, the p-value is equal to two times the p-value for the upper-tailed p-value if the value of the test statistic from your sample is positive.\n"
   ]
  },
  {
   "cell_type": "code",
   "execution_count": 14,
   "metadata": {},
   "outputs": [
    {
     "name": "stdout",
     "output_type": "stream",
     "text": [
      "p value: 4.461230231620972e-31\n"
     ]
    }
   ],
   "source": [
    "cdf = stats.t.cdf(t_stat,df=dof)\n",
    "\n",
    "# For a two-sided test, if the value of the test statistic from \n",
    "# your sample is negative, then the p-value is equal to \n",
    "# two times the p-value for the lower-tailed p-value \n",
    "# (i.e. 2 * cdf(ts))\n",
    "# \n",
    "p_val = 2 * cdf    \n",
    "\n",
    "print(\"p value:\", p_val)"
   ]
  },
  {
   "cell_type": "code",
   "execution_count": 15,
   "metadata": {},
   "outputs": [
    {
     "name": "stdout",
     "output_type": "stream",
     "text": [
      "t stat: -11.893299030876712 p value: 4.461230231620717e-31\n"
     ]
    }
   ],
   "source": [
    "# using the appropriate function from scipy.stats\n",
    "# Calculate the T-test for the means of two independent samples.\n",
    "# stats.ttest_ind\n",
    "# This is a two-sided test for the null hypothesis that 2 independent\n",
    "# samples have identical average (expected) values. This test assumes\n",
    "# that the populations have identical variances by default.\n",
    "\n",
    "t_stat, p_val = stats.ttest_ind(ins0.charges, ins1.charges)\n",
    "print(\"t stat:\", t_stat, \"p value:\", p_val)"
   ]
  },
  {
   "cell_type": "markdown",
   "metadata": {},
   "source": [
    "   * A large t-score tells you that the groups are different.\n",
    "   * A small t-score tells you that the groups are similar.\n",
    "   \n",
    "   I would guess that -11.9 is \"small\". 4.46e-31 is essentially 0."
    "   \n",
    "   Or is 11 large?."
   ]
  },
  {
   "cell_type": "markdown",
   "metadata": {},
   "source": [
    "Congratulations! Hopefully you got the exact same numerical results. This shows that you correctly calculated the numbers by hand. Secondly, you used the correct function and saw that it's much easier to use. All you need to do pass your data to it."
   ]
  },
  {
   "cell_type": "markdown",
   "metadata": {},
   "source": [
    "<span style=\"color:red\"> **Hooboy yes**</span>"
   ]
  },
  {
   "cell_type": "markdown",
   "metadata": {},
   "source": [
    "__Q:__ In the above calculations, we assumed the sample variances were equal. We may well suspect they are not (we'll explore this in another assignment). The calculation becomes a little more complicated to do by hand in this case, but we now know of a helpful function. Check the documentation for the function to tell it not to assume equal variances and perform the test again."
   ]
  },
  {
   "cell_type": "markdown",
   "metadata": {},
   "source": [
    "__A:__ Set `equal_var = False`"
   ]
  },
  {
   "cell_type": "code",
   "execution_count": 16,
   "metadata": {},
   "outputs": [
    {
     "name": "stdout",
     "output_type": "stream",
     "text": [
      "t stat: -13.298031957975649 p value: 1.1105103216309125e-37\n"
     ]
    }
   ],
   "source": [
    "t_stat, p_val = stats.ttest_ind(ins0.charges, ins1.charges, equal_var = False)\n",
    "print(\"t stat:\", t_stat, \"p value:\", p_val)"
   ]
  },
  {
   "cell_type": "markdown",
   "metadata": {},
   "source": [
    "At which point the p_value is even smaller."
   ]
  },
  {
   "cell_type": "markdown",
   "metadata": {},
   "source": [
    "__Q:__ Conceptual question: look through the documentation for statistical test functions in scipy.stats. You'll see the above _t_-test for a sample, but can you see an equivalent one for performing a *z*-test from a sample? Comment on your answer."
   ]
  },
  {
   "cell_type": "markdown",
   "metadata": {},
   "source": [
    "__A:__ `scipy` `stats` has a `zscore` method.\n",
    "```\n",
    "scipy.stats.zscore(a, axis=0, ddof=0)[source]\n",
    "Calculates the z score of each value in the sample, relative to the sample mean \n",
    "and standard deviation.\n",
    "```\n",
    "\n",
    "The `statsmodel` package has this:\n",
    "```\n",
    "statsmodels.stats.weightstats.ztest(x1, x2=None, value=0, alternative='two-sided', usevar='pooled', ddof=1.0)[source]\n",
    "test for mean based on normal distribution, one or two samples\n",
    "```"
   ]
  },
  {
   "cell_type": "markdown",
   "metadata": {},
   "source": [
    "## Learning outcomes"
   ]
  },
  {
   "cell_type": "markdown",
   "metadata": {},
   "source": [
    "Having completed this project notebook, you now have good hands-on experience:\n",
    "* using the central limit theorem to help you apply frequentist techniques to answer questions that pertain to very non-normally distributed data from the real world\n",
    "* performing inference using such data to answer business questions\n",
    "* forming a hypothesis and framing the null and alternative hypotheses\n",
    "* testing this using a _t_-test"
   ]
  },
  {
   "cell_type": "markdown",
   "metadata": {},
   "source": [
    "<hr style=\"border: 5px solid green;\">"
   ]
  },
  {
   "cell_type": "markdown",
   "metadata": {},
   "source": [
    "I may have good hands-on experience but I am not confident about it.\n",
    "\n",
    "Did I do any of this correctly?"
   ]
  },
  {
   "cell_type": "code",
   "execution_count": null,
   "metadata": {},
   "outputs": [],
   "source": []
  }
 ],
 "metadata": {
  "kernelspec": {
   "display_name": "Python 3",
   "language": "python",
   "name": "python3"
  },
  "language_info": {
   "codemirror_mode": {
    "name": "ipython",
    "version": 3
   },
   "file_extension": ".py",
   "mimetype": "text/x-python",
   "name": "python",
   "nbconvert_exporter": "python",
   "pygments_lexer": "ipython3",
   "version": "3.7.3"
  }
 },
 "nbformat": 4,
 "nbformat_minor": 2
}
